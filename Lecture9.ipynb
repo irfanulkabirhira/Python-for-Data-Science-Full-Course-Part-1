{
 "cells": [
  {
   "cell_type": "markdown",
   "id": "6571ba2e-475b-4f94-920b-35824e53a0c2",
   "metadata": {},
   "source": [
    "# Lecture 9\n",
    "# For Loop Python"
   ]
  },
  {
   "cell_type": "raw",
   "id": "f7eb4d71-53a7-497b-8a84-498222ccc9fc",
   "metadata": {},
   "source": [
    "In python a for looop is used to iterate over a sequence (such a list, tuple , string , dictionary , or range ) and execute a block fo code for each item in the sequence                                                 "
   ]
  },
  {
   "cell_type": "code",
   "execution_count": 1,
   "id": "0631da9b-f45b-4921-ad66-61809ab47d12",
   "metadata": {},
   "outputs": [
    {
     "name": "stdout",
     "output_type": "stream",
     "text": [
      "1\n",
      "2\n",
      "3\n",
      "4\n",
      "5\n"
     ]
    }
   ],
   "source": [
    "numbers = [1 , 2 , 3, 4, 5]\n",
    "for i in numbers:\n",
    "    print(i)"
   ]
  },
  {
   "cell_type": "code",
   "execution_count": 2,
   "id": "0a63f4cd-8a76-4dbf-a104-d5b3a8fe6b70",
   "metadata": {},
   "outputs": [
    {
     "name": "stdout",
     "output_type": "stream",
     "text": [
      "S\n",
      "t\n",
      "u\n",
      "d\n",
      "e\n",
      "n\n",
      "t\n",
      "s\n"
     ]
    }
   ],
   "source": [
    "n = \"Students\"\n",
    "for i in n :\n",
    "    print (i)"
   ]
  },
  {
   "cell_type": "code",
   "execution_count": 3,
   "id": "eedb3c45-9fda-4104-8b78-dbec52916345",
   "metadata": {},
   "outputs": [
    {
     "name": "stdout",
     "output_type": "stream",
     "text": [
      "0\n",
      "1\n",
      "2\n",
      "3\n",
      "4\n",
      "5\n",
      "6\n",
      "7\n",
      "8\n",
      "9\n",
      "10\n"
     ]
    }
   ],
   "source": [
    "for i in range(11):\n",
    "    print(i)"
   ]
  },
  {
   "cell_type": "code",
   "execution_count": 5,
   "id": "b4051685-4655-4e0a-b951-df6b8daa34f8",
   "metadata": {},
   "outputs": [
    {
     "name": "stdout",
     "output_type": "stream",
     "text": [
      "5\n",
      "6\n",
      "7\n",
      "8\n",
      "9\n",
      "10\n"
     ]
    }
   ],
   "source": [
    "for x in range(5, 11):\n",
    "    print(x)"
   ]
  },
  {
   "cell_type": "markdown",
   "id": "59e1b6b7-3b9c-4213-8a1c-97af847cfcf5",
   "metadata": {},
   "source": [
    "# for loop and if Condition "
   ]
  },
  {
   "cell_type": "code",
   "execution_count": 7,
   "id": "dc00aa3b-a33f-40eb-8408-adde47dbf710",
   "metadata": {},
   "outputs": [
    {
     "name": "stdout",
     "output_type": "stream",
     "text": [
      "The number is even 0\n",
      "The number is even 2\n",
      "The number is even 4\n",
      "The number is even 6\n",
      "The number is even 8\n",
      "The number is even 10\n",
      "The number is even 12\n",
      "The number is even 14\n",
      "The number is even 16\n",
      "The number is even 18\n",
      "The number is even 20\n",
      "The number is even 22\n",
      "The number is even 24\n"
     ]
    }
   ],
   "source": [
    "for i in range (0 , 26):\n",
    "    if i%2==0:\n",
    "        print(\"The number is even\", i)"
   ]
  },
  {
   "cell_type": "code",
   "execution_count": 8,
   "id": "e3342b38-b45c-4911-8881-f01aacae1db6",
   "metadata": {},
   "outputs": [
    {
     "name": "stdout",
     "output_type": "stream",
     "text": [
      "The number is even 0\n",
      "The number is odd 1\n",
      "The number is even 2\n",
      "The number is odd 3\n",
      "The number is even 4\n",
      "The number is odd 5\n",
      "The number is even 6\n",
      "The number is odd 7\n",
      "The number is even 8\n",
      "The number is odd 9\n",
      "The number is even 10\n",
      "The number is odd 11\n",
      "The number is even 12\n",
      "The number is odd 13\n",
      "The number is even 14\n",
      "The number is odd 15\n",
      "The number is even 16\n",
      "The number is odd 17\n",
      "The number is even 18\n",
      "The number is odd 19\n",
      "The number is even 20\n",
      "The number is odd 21\n",
      "The number is even 22\n",
      "The number is odd 23\n",
      "The number is even 24\n",
      "The number is odd 25\n"
     ]
    }
   ],
   "source": [
    "for i in range (0 , 26):\n",
    "    if i%2==0:\n",
    "        print(\"The number is even\", i)\n",
    "    else:\n",
    "        print(\"The number is odd\",i)"
   ]
  },
  {
   "cell_type": "markdown",
   "id": "d57c517b-41f9-49c6-aaff-16a22a57f293",
   "metadata": {},
   "source": [
    "# Implement a python program to generate the multiplicaiton table of a given numbers using a for loop"
   ]
  },
  {
   "cell_type": "code",
   "execution_count": 34,
   "id": "dfa1a806-8350-4cc4-b7bb-a472bc77770c",
   "metadata": {},
   "outputs": [
    {
     "name": "stdin",
     "output_type": "stream",
     "text": [
      "Enter a number to generate its Multiplicaiton table 6\n"
     ]
    },
    {
     "name": "stdout",
     "output_type": "stream",
     "text": [
      "The Multiplication of =  6\n",
      "6x1 = 6\n",
      "6x2 = 12\n",
      "6x3 = 18\n",
      "6x4 = 24\n",
      "6x5 = 30\n",
      "6x6 = 36\n",
      "6x7 = 42\n",
      "6x8 = 48\n",
      "6x9 = 54\n",
      "6x10 = 60\n"
     ]
    }
   ],
   "source": [
    "number = int(input(\"Enter a number to generate its Multiplicaiton table\"))\n",
    "print (\"The Multiplication of = \",number)\n",
    "\n",
    "for i in range (1,11):\n",
    "    print (f\"{number}x{i} = {number*i}\")"
   ]
  },
  {
   "cell_type": "markdown",
   "id": "bfda8dc9-9995-4ca5-bb56-7fbc2046fc0d",
   "metadata": {},
   "source": [
    "# Practise Question "
   ]
  },
  {
   "cell_type": "raw",
   "id": "dd747451-71dd-429d-9789-1168175780c5",
   "metadata": {},
   "source": [
    "You are tasked with creating a program to assist shoppers in calculating their total bill at a grocery sotre.\n",
    "The store offers discounts based on the total purchase amount. Your task is to implement a python program that \n",
    "tasks the price of each item purchased and calculates the total bill, including any applicaiton discounts \n",
    "\n",
    "The store offers the following discount rates \n",
    "based on the total purchase amount: \n",
    "\n",
    "->if the total purchase amount is $100 or more, Then the customer receiver a 10% discount .\n",
    "\n",
    "->if the total purchase amount is between $50 and $99.99, Then the customer receives a 5% discount.\n",
    "\n",
    "->if the total purchase amount is less than $50 , no discount is applied.\n",
    "\n",
    "write a python program to promt the user to enter the prices of the item they purchased.\n",
    "use a for loop to itertate through the prices \n",
    "entered and calculate the subtotal .\n",
    "\n",
    "Apply the appropriate discount based on the total purchase amount using if-else statements.\n",
    "finally , print out the subtotal , discount amount (if any), and the total bill after applying the discount.\n"
   ]
  },
  {
   "cell_type": "code",
   "execution_count": 38,
   "id": "9a8455d9-1f47-4e2e-b164-417dd9a558a6",
   "metadata": {},
   "outputs": [
    {
     "name": "stdin",
     "output_type": "stream",
     "text": [
      "Enter the number of item purchased= 5\n",
      "Enter the price of the item= 100\n",
      "Enter the price of the item= 200\n",
      "Enter the price of the item= 500\n",
      "Enter the price of the item= 320\n",
      "Enter the price of the item= 10\n"
     ]
    },
    {
     "name": "stdout",
     "output_type": "stream",
     "text": [
      "Subtotal  1017.0\n"
     ]
    }
   ],
   "source": [
    "num_items = int(input(\"Enter the number of item purchased=\"))\n",
    "total_price = 0\n",
    "\n",
    "for i in range(num_items):\n",
    "    price=float(input(\"Enter the price of the item=\"))\n",
    "    total_price = total_price + price \n",
    "    i=i+1\n",
    "if total_price>=100:\n",
    "    discount =0.1*total_price\n",
    "elif 50<=total_price <100:\n",
    "    discount = 0.5*total_price\n",
    "else:\n",
    "    discount = 0 \n",
    "\n",
    "total_bill = total_price -discount \n",
    "print(\"Subtotal \", total_bill)\n",
    "    "
   ]
  },
  {
   "cell_type": "markdown",
   "id": "80b8e9fe-6bd0-4d7d-b53d-d8253ac54cd5",
   "metadata": {},
   "source": [
    "# Break Statement \n",
    "We can use the break statement with the for loop to terminate the loop when a certain condition is met."
   ]
  },
  {
   "cell_type": "code",
   "execution_count": 14,
   "id": "37c22f14-e7c4-425b-be6c-af4a7d139077",
   "metadata": {},
   "outputs": [
    {
     "name": "stdout",
     "output_type": "stream",
     "text": [
      "0\n",
      "1\n",
      "2\n"
     ]
    }
   ],
   "source": [
    "for i in range(5):\n",
    "    if i ==3:\n",
    "        break \n",
    "    print(i)"
   ]
  },
  {
   "cell_type": "markdown",
   "id": "9072ba08-9e03-4097-a9ff-cd27af8b43c0",
   "metadata": {},
   "source": [
    "# Continue Statement "
   ]
  },
  {
   "cell_type": "raw",
   "id": "36b14b3a-cefa-49b3-8f0e-401fbdae3df5",
   "metadata": {},
   "source": [
    " The continue statement is used to skip the current iteration of the loop and the control flow of the program\n",
    "goes to the next iteration "
   ]
  },
  {
   "cell_type": "code",
   "execution_count": 31,
   "id": "ced420e9-33c2-45bd-8083-f77ab99d962f",
   "metadata": {},
   "outputs": [
    {
     "name": "stdout",
     "output_type": "stream",
     "text": [
      "0\n",
      "1\n",
      "2\n",
      "4\n",
      "I am Learning python\n"
     ]
    }
   ],
   "source": [
    "for i in range(5):\n",
    "    if i==3:\n",
    "        continue\n",
    "    print(i)\n",
    "print(\"I am Learning python\")"
   ]
  },
  {
   "cell_type": "code",
   "execution_count": null,
   "id": "e8da3071-4535-4f06-94b8-894738955680",
   "metadata": {},
   "outputs": [],
   "source": []
  }
 ],
 "metadata": {
  "kernelspec": {
   "display_name": "Python 3 (ipykernel)",
   "language": "python",
   "name": "python3"
  },
  "language_info": {
   "codemirror_mode": {
    "name": "ipython",
    "version": 3
   },
   "file_extension": ".py",
   "mimetype": "text/x-python",
   "name": "python",
   "nbconvert_exporter": "python",
   "pygments_lexer": "ipython3",
   "version": "3.11.7"
  }
 },
 "nbformat": 4,
 "nbformat_minor": 5
}

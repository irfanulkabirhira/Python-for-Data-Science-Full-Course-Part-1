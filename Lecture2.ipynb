{
 "cells": [
  {
   "cell_type": "markdown",
   "id": "851dee0f-84d4-45a6-954c-4f962e91e2cf",
   "metadata": {},
   "source": [
    "# Lecture-2 \n",
    "# Variable & data type In Python\n",
    "# Creating a Varible "
   ]
  },
  {
   "cell_type": "code",
   "execution_count": null,
   "id": "fa91dbc7-0ff3-4806-a746-f508ae281c40",
   "metadata": {},
   "outputs": [],
   "source": []
  },
  {
   "cell_type": "code",
   "execution_count": 1,
   "id": "f82d6e70-e1e5-44c2-8ac6-4e79f74c4ef8",
   "metadata": {},
   "outputs": [
    {
     "name": "stdout",
     "output_type": "stream",
     "text": [
      "5\n"
     ]
    }
   ],
   "source": [
    "x=5\n",
    "print(x)"
   ]
  },
  {
   "cell_type": "code",
   "execution_count": 2,
   "id": "fca3d653-2c8a-4776-83dd-139b86909ed7",
   "metadata": {},
   "outputs": [
    {
     "name": "stdout",
     "output_type": "stream",
     "text": [
      "10 2.5 Hira\n"
     ]
    }
   ],
   "source": [
    "a=10 \n",
    "b=2.5\n",
    "c=\"Hira\"\n",
    "print (a, b , c)"
   ]
  },
  {
   "cell_type": "code",
   "execution_count": 3,
   "id": "dbc5b461-8638-4b22-9b24-b087e5ee4495",
   "metadata": {},
   "outputs": [
    {
     "name": "stdout",
     "output_type": "stream",
     "text": [
      "we are learning python\n"
     ]
    }
   ],
   "source": [
    "y =\"we are learning python\"\n",
    "print (y)"
   ]
  },
  {
   "cell_type": "code",
   "execution_count": 4,
   "id": "43f113d0-74bb-4af2-97d2-dd236ae691bd",
   "metadata": {},
   "outputs": [
    {
     "name": "stdout",
     "output_type": "stream",
     "text": [
      "Variable   Type     Data/Info\n",
      "-----------------------------\n",
      "a          int      10\n",
      "b          float    2.5\n",
      "c          str      Hira\n",
      "x          int      5\n",
      "y          str      we are learning python\n"
     ]
    }
   ],
   "source": [
    "%whos"
   ]
  },
  {
   "cell_type": "markdown",
   "id": "453fdf07-c5f2-47eb-a3d8-44ffb6debe54",
   "metadata": {},
   "source": [
    "# A variable name msut start with a letter or the underscore character "
   ]
  },
  {
   "cell_type": "code",
   "execution_count": 9,
   "id": "380f091d-ed1f-40be-9ff8-f9e4678062a7",
   "metadata": {},
   "outputs": [
    {
     "name": "stdout",
     "output_type": "stream",
     "text": [
      "23\n"
     ]
    }
   ],
   "source": [
    "apple = 23 \n",
    "print(apple)"
   ]
  },
  {
   "cell_type": "code",
   "execution_count": 10,
   "id": "37ded6b8-cbe9-4d9b-839e-961da77c8ade",
   "metadata": {},
   "outputs": [
    {
     "name": "stdout",
     "output_type": "stream",
     "text": [
      "2.3\n"
     ]
    }
   ],
   "source": [
    "apple_box =2.3\n",
    "print (apple_box )"
   ]
  },
  {
   "cell_type": "code",
   "execution_count": 11,
   "id": "381c72fa-d899-4775-a52f-f18a8a0d5018",
   "metadata": {},
   "outputs": [
    {
     "name": "stdout",
     "output_type": "stream",
     "text": [
      "5\n"
     ]
    }
   ],
   "source": [
    "_ =5\n",
    "print(_)"
   ]
  },
  {
   "cell_type": "code",
   "execution_count": 12,
   "id": "fdd92883-6723-4a1e-8887-4a3c6b91e399",
   "metadata": {},
   "outputs": [
    {
     "name": "stdout",
     "output_type": "stream",
     "text": [
      "6.3\n"
     ]
    }
   ],
   "source": [
    "_z =6.3\n",
    "print (_z)"
   ]
  },
  {
   "cell_type": "code",
   "execution_count": 13,
   "id": "cee177e8-a1f0-42fe-8785-93e2b1728854",
   "metadata": {},
   "outputs": [
    {
     "name": "stdout",
     "output_type": "stream",
     "text": [
      "200\n"
     ]
    }
   ],
   "source": [
    "mnp_=200\n",
    "print(mnp_)"
   ]
  },
  {
   "cell_type": "markdown",
   "id": "90260dc2-3580-42ed-b082-d698afbcac62",
   "metadata": {},
   "source": [
    "# A variable name can not start with a number "
   ]
  },
  {
   "cell_type": "code",
   "execution_count": 19,
   "id": "97a0ea6a-1503-4d81-9a4a-b9756cf2db06",
   "metadata": {},
   "outputs": [
    {
     "name": "stdout",
     "output_type": "stream",
     "text": [
      "1\n"
     ]
    }
   ],
   "source": [
    "1==23\n",
    "print(1)"
   ]
  },
  {
   "cell_type": "code",
   "execution_count": 20,
   "id": "b7efef1c-eb6a-4fbc-8203-c13736d2f2b2",
   "metadata": {},
   "outputs": [
    {
     "ename": "SyntaxError",
     "evalue": "invalid decimal literal (1506358233.py, line 1)",
     "output_type": "error",
     "traceback": [
      "\u001b[1;36m  Cell \u001b[1;32mIn[20], line 1\u001b[1;36m\u001b[0m\n\u001b[1;33m    1_apple = 23\u001b[0m\n\u001b[1;37m     ^\u001b[0m\n\u001b[1;31mSyntaxError\u001b[0m\u001b[1;31m:\u001b[0m invalid decimal literal\n"
     ]
    }
   ],
   "source": [
    "1_apple = 23 \n",
    "print (1_apple)"
   ]
  },
  {
   "cell_type": "code",
   "execution_count": 16,
   "id": "0e378c88-0181-44ce-a63e-830883f8bd6a",
   "metadata": {},
   "outputs": [
    {
     "name": "stdout",
     "output_type": "stream",
     "text": [
      "12\n"
     ]
    }
   ],
   "source": [
    "apple_1=12\n",
    "print(apple_1)"
   ]
  },
  {
   "cell_type": "markdown",
   "id": "bf59ec89-17cf-483f-aff4-498864b60aa9",
   "metadata": {},
   "source": [
    "# A varible name only contain alpha_numeric character and underscores (A-z , 0-9 , and_ )\n"
   ]
  },
  {
   "cell_type": "code",
   "execution_count": 17,
   "id": "bac0d9c1-94cf-4856-9d05-b892b2de4f01",
   "metadata": {},
   "outputs": [
    {
     "name": "stdout",
     "output_type": "stream",
     "text": [
      "23\n"
     ]
    }
   ],
   "source": [
    "abc123nmp =23 \n",
    "print(abc123nmp)"
   ]
  },
  {
   "cell_type": "code",
   "execution_count": 18,
   "id": "a41b853c-b5d6-4f01-a012-8896762f49e7",
   "metadata": {},
   "outputs": [
    {
     "ename": "SyntaxError",
     "evalue": "invalid syntax (4026127824.py, line 1)",
     "output_type": "error",
     "traceback": [
      "\u001b[1;36m  Cell \u001b[1;32mIn[18], line 1\u001b[1;36m\u001b[0m\n\u001b[1;33m    &$& =24\u001b[0m\n\u001b[1;37m    ^\u001b[0m\n\u001b[1;31mSyntaxError\u001b[0m\u001b[1;31m:\u001b[0m invalid syntax\n"
     ]
    }
   ],
   "source": [
    "&$& =24\n",
    "print (&$&)"
   ]
  },
  {
   "cell_type": "code",
   "execution_count": 21,
   "id": "223730cd-a5f3-4a20-94cd-4ae16319d6a0",
   "metadata": {},
   "outputs": [
    {
     "name": "stdout",
     "output_type": "stream",
     "text": [
      "2\n"
     ]
    }
   ],
   "source": [
    "_ =2\n",
    "print (_)"
   ]
  },
  {
   "cell_type": "markdown",
   "id": "a4355a88-26d9-4385-860b-745f95841e0d",
   "metadata": {},
   "source": [
    "# a varibae name are case senseitve (age , Age , and AGE are three different variables )"
   ]
  },
  {
   "cell_type": "code",
   "execution_count": 22,
   "id": "97fde1ef-be09-42d4-b880-cb7b08faf666",
   "metadata": {},
   "outputs": [
    {
     "name": "stdout",
     "output_type": "stream",
     "text": [
      "26\n"
     ]
    }
   ],
   "source": [
    "age =23\n",
    "Age =23\n",
    "AGE =26\n",
    "print(AGE)"
   ]
  },
  {
   "cell_type": "markdown",
   "id": "2bbed0cf-8597-4947-9e94-6f629b1dcd23",
   "metadata": {},
   "source": [
    "# Data types in Python "
   ]
  },
  {
   "cell_type": "code",
   "execution_count": 23,
   "id": "049db60b-7e0a-4156-a632-ea1974471b78",
   "metadata": {},
   "outputs": [
    {
     "name": "stdout",
     "output_type": "stream",
     "text": [
      "2\n",
      "<class 'int'>\n"
     ]
    }
   ],
   "source": [
    "a=2\n",
    "b=1.5\n",
    "c=\"my name is Hira\"\n",
    "print (a)\n",
    "print(type(a))"
   ]
  },
  {
   "cell_type": "code",
   "execution_count": 24,
   "id": "8cd8a8d3-7226-4af9-9c2a-b9df9380a7b1",
   "metadata": {},
   "outputs": [
    {
     "name": "stdout",
     "output_type": "stream",
     "text": [
      "(2+3j)\n",
      "<class 'complex'>\n"
     ]
    }
   ],
   "source": [
    "v=2+3j\n",
    "print (v)\n",
    "print(type(v))"
   ]
  },
  {
   "cell_type": "code",
   "execution_count": 25,
   "id": "09e978f8-938b-4b3a-85ee-2d9e1e9dd1a9",
   "metadata": {},
   "outputs": [
    {
     "name": "stdout",
     "output_type": "stream",
     "text": [
      "[1, 2, 3, 5]\n",
      "<class 'list'>\n"
     ]
    }
   ],
   "source": [
    "num=[1, 2 ,  3 , 5 ]\n",
    "print(num)\n",
    "print(type(num))"
   ]
  },
  {
   "cell_type": "code",
   "execution_count": 29,
   "id": "919571cf-9769-405c-a12f-1a59e38e8ead",
   "metadata": {},
   "outputs": [
    {
     "name": "stdout",
     "output_type": "stream",
     "text": [
      "True\n",
      "<class 'bool'>\n"
     ]
    }
   ],
   "source": [
    "num1=True\n",
    "print(num1)\n",
    "print(type(num1))"
   ]
  },
  {
   "cell_type": "markdown",
   "id": "6088970f-6180-4b22-af97-cb115702e4e0",
   "metadata": {},
   "source": [
    "# A variable name can not be any of the Python Keywords "
   ]
  },
  {
   "cell_type": "code",
   "execution_count": 51,
   "id": "4affc1f5-a12d-4b44-9e69-1264a388bd55",
   "metadata": {},
   "outputs": [
    {
     "ename": "TypeError",
     "evalue": "'int' object is not callable",
     "output_type": "error",
     "traceback": [
      "\u001b[1;31m---------------------------------------------------------------------------\u001b[0m",
      "\u001b[1;31mTypeError\u001b[0m                                 Traceback (most recent call last)",
      "Cell \u001b[1;32mIn[51], line 2\u001b[0m\n\u001b[0;32m      1\u001b[0m \u001b[38;5;28mprint\u001b[39m \u001b[38;5;241m=\u001b[39m\u001b[38;5;241m14\u001b[39m\n\u001b[1;32m----> 2\u001b[0m \u001b[38;5;28mprint\u001b[39m(\u001b[38;5;28mprint\u001b[39m)\n",
      "\u001b[1;31mTypeError\u001b[0m: 'int' object is not callable"
     ]
    }
   ],
   "source": [
    "print =14\n",
    "print(print)"
   ]
  },
  {
   "cell_type": "markdown",
   "id": "81c84354-a2a1-493d-86ab-53c7a87b0c52",
   "metadata": {},
   "source": [
    "# Practice Question "
   ]
  },
  {
   "cell_type": "markdown",
   "id": "9609b545-6c44-4ac2-bcb9-ca55a545e8b8",
   "metadata": {},
   "source": [
    "Question 1\n",
    "Imagine you are Working on a customer management System , and you have the first name and last name of a customer stored as separte variable. Yout are developing a customer management system for a retail store. In your database, you have the first name and last name of a customer stored as separte variables : first_name =\"Jhon\" last_name =\"Doe\".How would you Concatenate these strings to form the full name \"Jhon Doe\" for the custoemer's profile "
   ]
  },
  {
   "cell_type": "code",
   "execution_count": 52,
   "id": "513679f3-c056-4665-a8d0-49e434fff425",
   "metadata": {},
   "outputs": [],
   "source": [
    "del print"
   ]
  },
  {
   "cell_type": "code",
   "execution_count": 54,
   "id": "1fa9155c-fec9-47fd-8454-c24d372faa72",
   "metadata": {},
   "outputs": [
    {
     "name": "stdout",
     "output_type": "stream",
     "text": [
      "Jhon John\n"
     ]
    }
   ],
   "source": [
    "first_name = \"Jhon\"\n",
    "last_name = \"John\"\n",
    "full_name = first_name+ \" \" +last_name\n",
    "print(full_name)"
   ]
  },
  {
   "cell_type": "markdown",
   "id": "089b2a7c-1786-4c90-a4fd-c893329afb3f",
   "metadata": {},
   "source": [
    "Question 2\n",
    "You Have a varibale x the value 5 , How would you reassign x to have the value 10 ? "
   ]
  },
  {
   "cell_type": "code",
   "execution_count": 57,
   "id": "d99eb0e4-499e-465d-8682-dde9e4eed419",
   "metadata": {},
   "outputs": [
    {
     "name": "stdout",
     "output_type": "stream",
     "text": [
      "10\n"
     ]
    }
   ],
   "source": [
    "x=5\n",
    "y=x+5\n",
    "print()"
   ]
  },
  {
   "cell_type": "code",
   "execution_count": null,
   "id": "acaa42cc-8fd3-481e-810a-4d5cced079ee",
   "metadata": {},
   "outputs": [],
   "source": []
  }
 ],
 "metadata": {
  "kernelspec": {
   "display_name": "Python 3 (ipykernel)",
   "language": "python",
   "name": "python3"
  },
  "language_info": {
   "codemirror_mode": {
    "name": "ipython",
    "version": 3
   },
   "file_extension": ".py",
   "mimetype": "text/x-python",
   "name": "python",
   "nbconvert_exporter": "python",
   "pygments_lexer": "ipython3",
   "version": "3.11.7"
  }
 },
 "nbformat": 4,
 "nbformat_minor": 5
}

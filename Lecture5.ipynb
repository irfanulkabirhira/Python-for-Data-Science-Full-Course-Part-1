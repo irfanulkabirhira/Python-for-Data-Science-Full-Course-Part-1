{
 "cells": [
  {
   "cell_type": "markdown",
   "id": "e222f91a-e8ec-4bfd-8e74-dbaaaa215115",
   "metadata": {},
   "source": [
    "# Lecture 5\n",
    "# Part: 2 Build in Funciton in Python"
   ]
  },
  {
   "cell_type": "markdown",
   "id": "aab08d46-7001-4d8b-bf67-cdd017f84dc9",
   "metadata": {},
   "source": [
    "# Bin funciton "
   ]
  },
  {
   "cell_type": "markdown",
   "id": "2d437516-9626-4e80-87ca-23bfc9ff2e2e",
   "metadata": {},
   "source": [
    "the bin() funciton in python is used to convert an integer number to its \n",
    "binary represtaiton as a string prefixed with '0b', \n",
    "It takes an intger as an argument \n",
    "and returns its binary represtaion."
   ]
  },
  {
   "cell_type": "code",
   "execution_count": 1,
   "id": "7c61699b-f988-44f0-86a2-e8fa4d57cb55",
   "metadata": {},
   "outputs": [
    {
     "name": "stdout",
     "output_type": "stream",
     "text": [
      "0b1010\n"
     ]
    }
   ],
   "source": [
    "binary_representation =bin(10)\n",
    "print(binary_representation)"
   ]
  },
  {
   "cell_type": "code",
   "execution_count": 3,
   "id": "a8a3ff83-36d0-4133-ab61-262a30bdfc33",
   "metadata": {},
   "outputs": [
    {
     "name": "stdout",
     "output_type": "stream",
     "text": [
      "0b11001000\n"
     ]
    }
   ],
   "source": [
    "Z = bin(200)\n",
    "print(Z)"
   ]
  },
  {
   "cell_type": "markdown",
   "id": "af0338f8-8585-4b51-b493-ce48be368c87",
   "metadata": {},
   "source": [
    "# Sum Funciton "
   ]
  },
  {
   "cell_type": "markdown",
   "id": "26732da5-bb22-47e1-9ed8-a039244f248e",
   "metadata": {},
   "source": [
    "The sum () function in python is used to calculate the sum of elements in an iterable , such as lists , tuples , and other iterable objescts."
   ]
  },
  {
   "cell_type": "code",
   "execution_count": 4,
   "id": "6940b839-a813-4837-b25a-a7cd6eccf568",
   "metadata": {},
   "outputs": [
    {
     "name": "stdout",
     "output_type": "stream",
     "text": [
      "5474\n"
     ]
    }
   ],
   "source": [
    "my_list = [ 7, 8, 9 , 5, 34 , 34 , 43 , 5334 ]\n",
    "a = sum(my_list)\n",
    "print(a)"
   ]
  },
  {
   "cell_type": "code",
   "execution_count": 5,
   "id": "f9af33d7-08c0-4839-827f-43e5211fb90e",
   "metadata": {},
   "outputs": [
    {
     "ename": "TypeError",
     "evalue": "unsupported operand type(s) for +: 'int' and 'str'",
     "output_type": "error",
     "traceback": [
      "\u001b[1;31m---------------------------------------------------------------------------\u001b[0m",
      "\u001b[1;31mTypeError\u001b[0m                                 Traceback (most recent call last)",
      "Cell \u001b[1;32mIn[5], line 2\u001b[0m\n\u001b[0;32m      1\u001b[0m \u001b[38;5;28mstr\u001b[39m \u001b[38;5;241m=\u001b[39m [ \u001b[38;5;124m'\u001b[39m\u001b[38;5;124mSwati\u001b[39m\u001b[38;5;124m'\u001b[39m , \u001b[38;5;124m'\u001b[39m\u001b[38;5;124mnishant\u001b[39m\u001b[38;5;124m'\u001b[39m ]\n\u001b[1;32m----> 2\u001b[0m \u001b[38;5;28mprint\u001b[39m (\u001b[38;5;28msum\u001b[39m(\u001b[38;5;28mstr\u001b[39m))\n",
      "\u001b[1;31mTypeError\u001b[0m: unsupported operand type(s) for +: 'int' and 'str'"
     ]
    }
   ],
   "source": [
    "str = [ 'Swati' , 'nishant' ]\n",
    "print (sum(str))"
   ]
  },
  {
   "cell_type": "code",
   "execution_count": 6,
   "id": "7e0a729a-1132-4acc-8d60-ee7c75239b9b",
   "metadata": {},
   "outputs": [
    {
     "name": "stdout",
     "output_type": "stream",
     "text": [
      "hiraJira\n"
     ]
    }
   ],
   "source": [
    "a = \"hira\"\n",
    "b = \"Jira\"\n",
    "print (a+b)"
   ]
  },
  {
   "cell_type": "code",
   "execution_count": 7,
   "id": "3c1ac401-b058-47a3-b842-431424d400c9",
   "metadata": {},
   "outputs": [
    {
     "name": "stdout",
     "output_type": "stream",
     "text": [
      "25\n"
     ]
    }
   ],
   "source": [
    "a = [1, 2 , 3, 4, 5 ]\n",
    "starting_value = 10 \n",
    "total = sum(a, starting_value)\n",
    "print(total)"
   ]
  },
  {
   "cell_type": "markdown",
   "id": "e01695c6-5677-464c-a7cc-6c52e9e31911",
   "metadata": {},
   "source": [
    "# Eval funciton \n",
    "eval () : Evaluate a python expression stored in a string "
   ]
  },
  {
   "cell_type": "code",
   "execution_count": 9,
   "id": "9b2ca7f1-4af4-4f88-bfee-2f55c1e61d06",
   "metadata": {},
   "outputs": [
    {
     "name": "stdout",
     "output_type": "stream",
     "text": [
      "20\n"
     ]
    }
   ],
   "source": [
    "x = 10 \n",
    "y = 5\n",
    "expression = \"x+y*2\"\n",
    "print (eval(expression))"
   ]
  },
  {
   "cell_type": "code",
   "execution_count": 10,
   "id": "a96cd27d-77da-4c79-ba4c-4a3fd93878ed",
   "metadata": {},
   "outputs": [
    {
     "name": "stdout",
     "output_type": "stream",
     "text": [
      "6.0\n",
      "<class 'str'>\n"
     ]
    }
   ],
   "source": [
    "exp = \"5/2 +3.5\"\n",
    "print(eval(exp))\n",
    "print(type(exp))"
   ]
  },
  {
   "cell_type": "code",
   "execution_count": 12,
   "id": "b3b487ba-254a-44b3-9dfd-1d2fad0bfc17",
   "metadata": {},
   "outputs": [
    {
     "name": "stdout",
     "output_type": "stream",
     "text": [
      "5864.0\n"
     ]
    }
   ],
   "source": [
    "exp1 = \"234*25+63 -98/2\"\n",
    "print(eval(exp1))"
   ]
  },
  {
   "cell_type": "code",
   "execution_count": 13,
   "id": "a5640481-ed14-4c38-9901-26837c80fe9e",
   "metadata": {},
   "outputs": [
    {
     "name": "stdout",
     "output_type": "stream",
     "text": [
      "-166.7\n"
     ]
    }
   ],
   "source": [
    "x= 5\n",
    "y =2.5\n",
    "z= 32\n",
    "exp =\" x+y-z*23/5-9*3 \"\n",
    "print (eval(exp))"
   ]
  },
  {
   "cell_type": "markdown",
   "id": "a75c0ee0-0e41-4c4e-be61-3302d3a49801",
   "metadata": {},
   "source": [
    "# Helped Function \n",
    "the python help function is used to display the documention of modulus , function , classes , keywords , etc"
   ]
  },
  {
   "cell_type": "code",
   "execution_count": 14,
   "id": "25348bc8-cb6a-438a-9768-e811bfe7d20b",
   "metadata": {},
   "outputs": [
    {
     "name": "stdout",
     "output_type": "stream",
     "text": [
      "Help on built-in function print in module builtins:\n",
      "\n",
      "print(*args, sep=' ', end='\\n', file=None, flush=False)\n",
      "    Prints the values to a stream, or to sys.stdout by default.\n",
      "    \n",
      "    sep\n",
      "      string inserted between values, default a space.\n",
      "    end\n",
      "      string appended after the last value, default a newline.\n",
      "    file\n",
      "      a file-like object (stream); defaults to the current sys.stdout.\n",
      "    flush\n",
      "      whether to forcibly flush the stream.\n",
      "\n"
     ]
    }
   ],
   "source": [
    "help(print)"
   ]
  },
  {
   "cell_type": "code",
   "execution_count": 15,
   "id": "4eb881fb-93f3-4e66-b236-0c535d90ec04",
   "metadata": {},
   "outputs": [
    {
     "name": "stdout",
     "output_type": "stream",
     "text": [
      "Help on class int in module builtins:\n",
      "\n",
      "class int(object)\n",
      " |  int([x]) -> integer\n",
      " |  int(x, base=10) -> integer\n",
      " |  \n",
      " |  Convert a number or string to an integer, or return 0 if no arguments\n",
      " |  are given.  If x is a number, return x.__int__().  For floating point\n",
      " |  numbers, this truncates towards zero.\n",
      " |  \n",
      " |  If x is not a number or if base is given, then x must be a string,\n",
      " |  bytes, or bytearray instance representing an integer literal in the\n",
      " |  given base.  The literal can be preceded by '+' or '-' and be surrounded\n",
      " |  by whitespace.  The base defaults to 10.  Valid bases are 0 and 2-36.\n",
      " |  Base 0 means to interpret the base from the string as an integer literal.\n",
      " |  >>> int('0b100', base=0)\n",
      " |  4\n",
      " |  \n",
      " |  Built-in subclasses:\n",
      " |      bool\n",
      " |  \n",
      " |  Methods defined here:\n",
      " |  \n",
      " |  __abs__(self, /)\n",
      " |      abs(self)\n",
      " |  \n",
      " |  __add__(self, value, /)\n",
      " |      Return self+value.\n",
      " |  \n",
      " |  __and__(self, value, /)\n",
      " |      Return self&value.\n",
      " |  \n",
      " |  __bool__(self, /)\n",
      " |      True if self else False\n",
      " |  \n",
      " |  __ceil__(...)\n",
      " |      Ceiling of an Integral returns itself.\n",
      " |  \n",
      " |  __divmod__(self, value, /)\n",
      " |      Return divmod(self, value).\n",
      " |  \n",
      " |  __eq__(self, value, /)\n",
      " |      Return self==value.\n",
      " |  \n",
      " |  __float__(self, /)\n",
      " |      float(self)\n",
      " |  \n",
      " |  __floor__(...)\n",
      " |      Flooring an Integral returns itself.\n",
      " |  \n",
      " |  __floordiv__(self, value, /)\n",
      " |      Return self//value.\n",
      " |  \n",
      " |  __format__(self, format_spec, /)\n",
      " |      Default object formatter.\n",
      " |  \n",
      " |  __ge__(self, value, /)\n",
      " |      Return self>=value.\n",
      " |  \n",
      " |  __getattribute__(self, name, /)\n",
      " |      Return getattr(self, name).\n",
      " |  \n",
      " |  __getnewargs__(self, /)\n",
      " |  \n",
      " |  __gt__(self, value, /)\n",
      " |      Return self>value.\n",
      " |  \n",
      " |  __hash__(self, /)\n",
      " |      Return hash(self).\n",
      " |  \n",
      " |  __index__(self, /)\n",
      " |      Return self converted to an integer, if self is suitable for use as an index into a list.\n",
      " |  \n",
      " |  __int__(self, /)\n",
      " |      int(self)\n",
      " |  \n",
      " |  __invert__(self, /)\n",
      " |      ~self\n",
      " |  \n",
      " |  __le__(self, value, /)\n",
      " |      Return self<=value.\n",
      " |  \n",
      " |  __lshift__(self, value, /)\n",
      " |      Return self<<value.\n",
      " |  \n",
      " |  __lt__(self, value, /)\n",
      " |      Return self<value.\n",
      " |  \n",
      " |  __mod__(self, value, /)\n",
      " |      Return self%value.\n",
      " |  \n",
      " |  __mul__(self, value, /)\n",
      " |      Return self*value.\n",
      " |  \n",
      " |  __ne__(self, value, /)\n",
      " |      Return self!=value.\n",
      " |  \n",
      " |  __neg__(self, /)\n",
      " |      -self\n",
      " |  \n",
      " |  __or__(self, value, /)\n",
      " |      Return self|value.\n",
      " |  \n",
      " |  __pos__(self, /)\n",
      " |      +self\n",
      " |  \n",
      " |  __pow__(self, value, mod=None, /)\n",
      " |      Return pow(self, value, mod).\n",
      " |  \n",
      " |  __radd__(self, value, /)\n",
      " |      Return value+self.\n",
      " |  \n",
      " |  __rand__(self, value, /)\n",
      " |      Return value&self.\n",
      " |  \n",
      " |  __rdivmod__(self, value, /)\n",
      " |      Return divmod(value, self).\n",
      " |  \n",
      " |  __repr__(self, /)\n",
      " |      Return repr(self).\n",
      " |  \n",
      " |  __rfloordiv__(self, value, /)\n",
      " |      Return value//self.\n",
      " |  \n",
      " |  __rlshift__(self, value, /)\n",
      " |      Return value<<self.\n",
      " |  \n",
      " |  __rmod__(self, value, /)\n",
      " |      Return value%self.\n",
      " |  \n",
      " |  __rmul__(self, value, /)\n",
      " |      Return value*self.\n",
      " |  \n",
      " |  __ror__(self, value, /)\n",
      " |      Return value|self.\n",
      " |  \n",
      " |  __round__(...)\n",
      " |      Rounding an Integral returns itself.\n",
      " |      \n",
      " |      Rounding with an ndigits argument also returns an integer.\n",
      " |  \n",
      " |  __rpow__(self, value, mod=None, /)\n",
      " |      Return pow(value, self, mod).\n",
      " |  \n",
      " |  __rrshift__(self, value, /)\n",
      " |      Return value>>self.\n",
      " |  \n",
      " |  __rshift__(self, value, /)\n",
      " |      Return self>>value.\n",
      " |  \n",
      " |  __rsub__(self, value, /)\n",
      " |      Return value-self.\n",
      " |  \n",
      " |  __rtruediv__(self, value, /)\n",
      " |      Return value/self.\n",
      " |  \n",
      " |  __rxor__(self, value, /)\n",
      " |      Return value^self.\n",
      " |  \n",
      " |  __sizeof__(self, /)\n",
      " |      Returns size in memory, in bytes.\n",
      " |  \n",
      " |  __sub__(self, value, /)\n",
      " |      Return self-value.\n",
      " |  \n",
      " |  __truediv__(self, value, /)\n",
      " |      Return self/value.\n",
      " |  \n",
      " |  __trunc__(...)\n",
      " |      Truncating an Integral returns itself.\n",
      " |  \n",
      " |  __xor__(self, value, /)\n",
      " |      Return self^value.\n",
      " |  \n",
      " |  as_integer_ratio(self, /)\n",
      " |      Return integer ratio.\n",
      " |      \n",
      " |      Return a pair of integers, whose ratio is exactly equal to the original int\n",
      " |      and with a positive denominator.\n",
      " |      \n",
      " |      >>> (10).as_integer_ratio()\n",
      " |      (10, 1)\n",
      " |      >>> (-10).as_integer_ratio()\n",
      " |      (-10, 1)\n",
      " |      >>> (0).as_integer_ratio()\n",
      " |      (0, 1)\n",
      " |  \n",
      " |  bit_count(self, /)\n",
      " |      Number of ones in the binary representation of the absolute value of self.\n",
      " |      \n",
      " |      Also known as the population count.\n",
      " |      \n",
      " |      >>> bin(13)\n",
      " |      '0b1101'\n",
      " |      >>> (13).bit_count()\n",
      " |      3\n",
      " |  \n",
      " |  bit_length(self, /)\n",
      " |      Number of bits necessary to represent self in binary.\n",
      " |      \n",
      " |      >>> bin(37)\n",
      " |      '0b100101'\n",
      " |      >>> (37).bit_length()\n",
      " |      6\n",
      " |  \n",
      " |  conjugate(...)\n",
      " |      Returns self, the complex conjugate of any int.\n",
      " |  \n",
      " |  to_bytes(self, /, length=1, byteorder='big', *, signed=False)\n",
      " |      Return an array of bytes representing an integer.\n",
      " |      \n",
      " |      length\n",
      " |        Length of bytes object to use.  An OverflowError is raised if the\n",
      " |        integer is not representable with the given number of bytes.  Default\n",
      " |        is length 1.\n",
      " |      byteorder\n",
      " |        The byte order used to represent the integer.  If byteorder is 'big',\n",
      " |        the most significant byte is at the beginning of the byte array.  If\n",
      " |        byteorder is 'little', the most significant byte is at the end of the\n",
      " |        byte array.  To request the native byte order of the host system, use\n",
      " |        `sys.byteorder' as the byte order value.  Default is to use 'big'.\n",
      " |      signed\n",
      " |        Determines whether two's complement is used to represent the integer.\n",
      " |        If signed is False and a negative integer is given, an OverflowError\n",
      " |        is raised.\n",
      " |  \n",
      " |  ----------------------------------------------------------------------\n",
      " |  Class methods defined here:\n",
      " |  \n",
      " |  from_bytes(bytes, byteorder='big', *, signed=False) from builtins.type\n",
      " |      Return the integer represented by the given array of bytes.\n",
      " |      \n",
      " |      bytes\n",
      " |        Holds the array of bytes to convert.  The argument must either\n",
      " |        support the buffer protocol or be an iterable object producing bytes.\n",
      " |        Bytes and bytearray are examples of built-in objects that support the\n",
      " |        buffer protocol.\n",
      " |      byteorder\n",
      " |        The byte order used to represent the integer.  If byteorder is 'big',\n",
      " |        the most significant byte is at the beginning of the byte array.  If\n",
      " |        byteorder is 'little', the most significant byte is at the end of the\n",
      " |        byte array.  To request the native byte order of the host system, use\n",
      " |        `sys.byteorder' as the byte order value.  Default is to use 'big'.\n",
      " |      signed\n",
      " |        Indicates whether two's complement is used to represent the integer.\n",
      " |  \n",
      " |  ----------------------------------------------------------------------\n",
      " |  Static methods defined here:\n",
      " |  \n",
      " |  __new__(*args, **kwargs) from builtins.type\n",
      " |      Create and return a new object.  See help(type) for accurate signature.\n",
      " |  \n",
      " |  ----------------------------------------------------------------------\n",
      " |  Data descriptors defined here:\n",
      " |  \n",
      " |  denominator\n",
      " |      the denominator of a rational number in lowest terms\n",
      " |  \n",
      " |  imag\n",
      " |      the imaginary part of a complex number\n",
      " |  \n",
      " |  numerator\n",
      " |      the numerator of a rational number in lowest terms\n",
      " |  \n",
      " |  real\n",
      " |      the real part of a complex number\n",
      "\n"
     ]
    }
   ],
   "source": [
    "help(int)"
   ]
  },
  {
   "cell_type": "code",
   "execution_count": 16,
   "id": "5543dab7-9a72-4860-842d-67a837ceec25",
   "metadata": {},
   "outputs": [
    {
     "data": {
      "text/plain": [
       "\u001b[1;31mSignature:\u001b[0m \u001b[0msum\u001b[0m\u001b[1;33m(\u001b[0m\u001b[0miterable\u001b[0m\u001b[1;33m,\u001b[0m \u001b[1;33m/\u001b[0m\u001b[1;33m,\u001b[0m \u001b[0mstart\u001b[0m\u001b[1;33m=\u001b[0m\u001b[1;36m0\u001b[0m\u001b[1;33m)\u001b[0m\u001b[1;33m\u001b[0m\u001b[1;33m\u001b[0m\u001b[0m\n",
       "\u001b[1;31mDocstring:\u001b[0m\n",
       "Return the sum of a 'start' value (default: 0) plus an iterable of numbers\n",
       "\n",
       "When the iterable is empty, return the start value.\n",
       "This function is intended specifically for use with numeric values and may\n",
       "reject non-numeric types.\n",
       "\u001b[1;31mType:\u001b[0m      builtin_function_or_method"
      ]
     },
     "metadata": {},
     "output_type": "display_data"
    }
   ],
   "source": [
    "sum??"
   ]
  },
  {
   "cell_type": "markdown",
   "id": "183cda03-86c9-4f3a-aec5-953cc1f92c29",
   "metadata": {},
   "source": [
    "# input function "
   ]
  },
  {
   "cell_type": "code",
   "execution_count": 18,
   "id": "5e1fb0aa-666a-4e25-a5e0-2e4553dc1744",
   "metadata": {},
   "outputs": [
    {
     "name": "stdin",
     "output_type": "stream",
     "text": [
      "enter your name  Hira\n"
     ]
    },
    {
     "name": "stdout",
     "output_type": "stream",
     "text": [
      "name entered by user is  Hira\n",
      "<class 'str'>\n"
     ]
    }
   ],
   "source": [
    "name = input (\"enter your name \" ) \n",
    "print (\"name entered by user is \",name )\n",
    "print (type(name ))"
   ]
  },
  {
   "cell_type": "code",
   "execution_count": 20,
   "id": "46862d96-4356-410c-9f62-ff316c956260",
   "metadata": {},
   "outputs": [
    {
     "name": "stdin",
     "output_type": "stream",
     "text": [
      "enter your age please 26\n"
     ]
    },
    {
     "name": "stdout",
     "output_type": "stream",
     "text": [
      "age of user is  26\n",
      "<class 'str'>\n"
     ]
    }
   ],
   "source": [
    "age = input(\"enter your age please\")\n",
    "print(\"age of user is \", age )\n",
    "print(type(age))"
   ]
  },
  {
   "cell_type": "markdown",
   "id": "73d1256c-7d33-4a95-9dbe-5f12c09cd226",
   "metadata": {},
   "source": [
    "# Practise Question \n",
    "Quetion 1 \n",
    "\n",
    "get two numbers from the user and calculate their sum "
   ]
  },
  {
   "cell_type": "code",
   "execution_count": 28,
   "id": "771288e9-fb64-4610-9cff-a8a792d9419a",
   "metadata": {},
   "outputs": [
    {
     "name": "stdin",
     "output_type": "stream",
     "text": [
      "enter the first value 8\n",
      "enter the 2nd value 9\n"
     ]
    },
    {
     "name": "stdout",
     "output_type": "stream",
     "text": [
      "17\n"
     ]
    }
   ],
   "source": [
    "a1=input(\"enter the first value\")\n",
    "b1=int(a1)\n",
    "a2=input(\"enter the 2nd value\")\n",
    "b2=int(a2)\n",
    "sum = b1 + b2\n",
    "print(sum)\n"
   ]
  },
  {
   "cell_type": "markdown",
   "id": "39e622ed-c228-4e83-88bf-70fccfd537b5",
   "metadata": {},
   "source": [
    "Qustion 2: \n",
    "\n",
    "As part of your role in a data-driven project, you need to take input from the user for their age , wight ,and height .However , there's \n",
    "an issue : \n",
    "the user has entered their age as a negetive number .\n",
    "You need to correct the age of the user  and after correcting the age , calculating their Basal Metabolic Rate (BMR) \n",
    "using the Harris-Benedict equaiton for men .\n",
    "Ensure that the final answer of BMR is an integer.\n",
    "\n",
    "Basel Metabolic Rate (BMR) : \n",
    "Formula ( Harries Benedict equaion for men ) : \n",
    "BMR = 88.362 + (13.397 * weight in kg ) + ( 4.799*height  in cm ) - ( 5.677 * age in years) "
   ]
  },
  {
   "cell_type": "code",
   "execution_count": 36,
   "id": "feeb924a-7324-433e-9d47-528c2955cc74",
   "metadata": {},
   "outputs": [
    {
     "name": "stdin",
     "output_type": "stream",
     "text": [
      "enter the age 65\n",
      "enter the weight 5\n",
      "Enter the Hight 54\n"
     ]
    },
    {
     "name": "stdout",
     "output_type": "stream",
     "text": [
      "The Corrent age of user  =  65\n",
      "Print the BMR of the patient is  45\n"
     ]
    }
   ],
   "source": [
    "age=int(input(\"enter the age\"))\n",
    "weight=int(input(\"enter the weight\"))\n",
    "height = float(input(\"Enter the Hight\"))\n",
    "correct_age = abs(age) \n",
    "print(\"The Corrent age of user  = \", correct_age)\n",
    "\n",
    "BMR = \"88.362 + (13.397 * weight ) + ( 4.799*height ) - ( 5.677 * age ) \"\n",
    "bmr = eval (BMR)\n",
    "print (\"Print the BMR of the patient is \",int(bmr))"
   ]
  },
  {
   "cell_type": "markdown",
   "id": "60aef259-573f-4dc1-9855-26c432b44efa",
   "metadata": {},
   "source": [
    "# Homework \n",
    "Question 3 \n",
    "\n",
    "Write a python code for hostel student , ask them to mention thier couruses name and age , for 5 students and calculate thier avg age ."
   ]
  },
  {
   "cell_type": "code",
   "execution_count": 42,
   "id": "16e01bb2-abff-4d56-91e2-06494f25db2d",
   "metadata": {},
   "outputs": [
    {
     "name": "stdin",
     "output_type": "stream",
     "text": [
      "Enter his age is  44\n",
      "Enter his age is  34\n",
      "Enter his age is  54\n",
      "Enter his age is  32\n",
      "Enter his age is  43\n"
     ]
    },
    {
     "name": "stdout",
     "output_type": "stream",
     "text": [
      "The average age of 5 students is :  41.4\n"
     ]
    }
   ],
   "source": [
    "student1 = int(input(\"Enter his age is \"))\n",
    "student2 = int(input(\"Enter his age is \"))\n",
    "student3 = int(input(\"Enter his age is \"))\n",
    "student4 = int(input(\"Enter his age is \"))\n",
    "student5 = int(input(\"Enter his age is \"))\n",
    "AVG=\"((student1+student2+student3+student4+student5)/5)\"\n",
    "avg = eval(AVG)\n",
    "print(\"The average age of 5 students is : \", float(avg))\n",
    "\n",
    "\n",
    "\n",
    "\n"
   ]
  },
  {
   "cell_type": "code",
   "execution_count": null,
   "id": "fa511f28-3e69-4f71-9b53-35ed49c5029b",
   "metadata": {},
   "outputs": [],
   "source": []
  }
 ],
 "metadata": {
  "kernelspec": {
   "display_name": "Python 3 (ipykernel)",
   "language": "python",
   "name": "python3"
  },
  "language_info": {
   "codemirror_mode": {
    "name": "ipython",
    "version": 3
   },
   "file_extension": ".py",
   "mimetype": "text/x-python",
   "name": "python",
   "nbconvert_exporter": "python",
   "pygments_lexer": "ipython3",
   "version": "3.11.7"
  }
 },
 "nbformat": 4,
 "nbformat_minor": 5
}

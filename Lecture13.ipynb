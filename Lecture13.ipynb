{
 "cells": [
  {
   "cell_type": "markdown",
   "id": "b1bf6691-d54e-42a6-a87d-8e5db44a0cfc",
   "metadata": {},
   "source": [
    "# Lecture 13\n",
    "# String Part-2"
   ]
  },
  {
   "cell_type": "markdown",
   "id": "7a0b9d7d-8aed-41cf-bf89-4a80e220c0b9",
   "metadata": {},
   "source": [
    "# Lenth Method"
   ]
  },
  {
   "cell_type": "code",
   "execution_count": 1,
   "id": "d63f5a7c-368f-4739-8334-270f610bdd7e",
   "metadata": {},
   "outputs": [
    {
     "name": "stdout",
     "output_type": "stream",
     "text": [
      "9\n"
     ]
    }
   ],
   "source": [
    "s = \"theiscale\"\n",
    "print(len(s))"
   ]
  },
  {
   "cell_type": "code",
   "execution_count": 2,
   "id": "483d472a-7c75-4ba1-bcf8-2699b32bf624",
   "metadata": {},
   "outputs": [
    {
     "name": "stdout",
     "output_type": "stream",
     "text": [
      "10\n"
     ]
    }
   ],
   "source": [
    "s = \"the iscale\"\n",
    "print(len(s))"
   ]
  },
  {
   "cell_type": "code",
   "execution_count": 3,
   "id": "381b1fa0-46e8-4ba2-8c9a-99e05ebedb46",
   "metadata": {},
   "outputs": [
    {
     "name": "stdout",
     "output_type": "stream",
     "text": [
      "0\n"
     ]
    }
   ],
   "source": [
    "s =\"\"\n",
    "print(len(s))"
   ]
  },
  {
   "cell_type": "code",
   "execution_count": 4,
   "id": "78200e90-9665-4df0-930b-be2adc08aa00",
   "metadata": {},
   "outputs": [
    {
     "name": "stdout",
     "output_type": "stream",
     "text": [
      "1\n"
     ]
    }
   ],
   "source": [
    "s=\" \"\n",
    "print (len(s))"
   ]
  },
  {
   "cell_type": "code",
   "execution_count": 5,
   "id": "67989f78-bc08-4f9b-975f-280f02747b82",
   "metadata": {},
   "outputs": [
    {
     "name": "stdout",
     "output_type": "stream",
     "text": [
      "2\n"
     ]
    }
   ],
   "source": [
    "s=\"  \"\n",
    "print (len(s))"
   ]
  },
  {
   "cell_type": "markdown",
   "id": "28b00e7e-7252-475e-8dc1-f289590d50d6",
   "metadata": {},
   "source": [
    "# string with Special Symbol "
   ]
  },
  {
   "cell_type": "code",
   "execution_count": 6,
   "id": "575e2193-441a-4533-8d4d-6d7ce35462e3",
   "metadata": {},
   "outputs": [
    {
     "name": "stdout",
     "output_type": "stream",
     "text": [
      "hello\n",
      "world\n",
      "11\n"
     ]
    }
   ],
   "source": [
    "s = \"hello\\nworld\"\n",
    "print(s)\n",
    "print(len(s))"
   ]
  },
  {
   "cell_type": "code",
   "execution_count": 8,
   "id": "bef75bbd-9b40-4587-8617-e8454f39b817",
   "metadata": {},
   "outputs": [
    {
     "name": "stdout",
     "output_type": "stream",
     "text": [
      "hello@world\n",
      "11\n"
     ]
    }
   ],
   "source": [
    "s = \"hello@world\"\n",
    "print(s)\n",
    "print(len(s))"
   ]
  },
  {
   "cell_type": "code",
   "execution_count": 10,
   "id": "d17f7308-d5c7-48bb-b3b6-65a9fe0a6496",
   "metadata": {},
   "outputs": [
    {
     "name": "stdout",
     "output_type": "stream",
     "text": [
      "hello\n",
      "World \n",
      "12\n"
     ]
    }
   ],
   "source": [
    "s=\"\"\"hello\n",
    "World \"\"\"\n",
    "print(s)\n",
    "print(len(s))"
   ]
  },
  {
   "cell_type": "code",
   "execution_count": 11,
   "id": "773f51a5-501b-4f8a-9ffa-cce95dc9f3c4",
   "metadata": {},
   "outputs": [
    {
     "name": "stdout",
     "output_type": "stream",
     "text": [
      "62\n"
     ]
    }
   ],
   "source": [
    "a=\"Python is a high-level, general-purpose programming language. \"\n",
    "print(len(a))"
   ]
  },
  {
   "cell_type": "markdown",
   "id": "b2a30d7d-9672-44ff-8173-90586101983a",
   "metadata": {},
   "source": [
    "# Python - Modidy Strings\n",
    "# Upper Method "
   ]
  },
  {
   "cell_type": "code",
   "execution_count": 12,
   "id": "f8ca1c11-049a-49b9-80aa-49ce05daf8ad",
   "metadata": {},
   "outputs": [
    {
     "name": "stdout",
     "output_type": "stream",
     "text": [
      "THIS IS THE ISCALE\n"
     ]
    }
   ],
   "source": [
    "s = \"This is the iscale\"\n",
    "print(s.upper())"
   ]
  },
  {
   "cell_type": "code",
   "execution_count": 13,
   "id": "19807ea9-a798-47ef-9cc1-dc02110a43fa",
   "metadata": {},
   "outputs": [
    {
     "name": "stdout",
     "output_type": "stream",
     "text": [
      "THIS IS THE ISCALE 123\n"
     ]
    }
   ],
   "source": [
    "s = \"This IS the iscale 123\"\n",
    "print(s.upper())"
   ]
  },
  {
   "cell_type": "markdown",
   "id": "dfe8ae08-5421-4456-97c7-58100760f625",
   "metadata": {},
   "source": [
    "# lower Method"
   ]
  },
  {
   "cell_type": "code",
   "execution_count": 15,
   "id": "bad5e6ae-cbc0-4da9-96d5-d486d01a9a0c",
   "metadata": {},
   "outputs": [
    {
     "name": "stdout",
     "output_type": "stream",
     "text": [
      "this is the iscale\n"
     ]
    }
   ],
   "source": [
    "k = \"THIS IS THE ISCALE\"\n",
    "print(k.lower())"
   ]
  },
  {
   "cell_type": "markdown",
   "id": "0b6b0cbc-3ca6-4fcf-ae0b-8dcfb83e37d5",
   "metadata": {},
   "source": [
    "# String Concatanation "
   ]
  },
  {
   "cell_type": "code",
   "execution_count": 16,
   "id": "6ee36934-f955-4c9c-bc38-9d0bcc12009d",
   "metadata": {},
   "outputs": [
    {
     "name": "stdout",
     "output_type": "stream",
     "text": [
      "hello World\n"
     ]
    }
   ],
   "source": [
    "a = \"hello\"\n",
    "b = \"World\"\n",
    "print(a +\" \"+b)"
   ]
  },
  {
   "cell_type": "code",
   "execution_count": 18,
   "id": "7dad585d-9d4e-4394-b9a4-970f1e916c56",
   "metadata": {},
   "outputs": [
    {
     "name": "stdout",
     "output_type": "stream",
     "text": [
      "datadatadata\n"
     ]
    }
   ],
   "source": [
    "a = \"data\"\n",
    "print(a*3)"
   ]
  },
  {
   "cell_type": "markdown",
   "id": "136d68e8-c523-47c5-8f0a-d4001b55a83b",
   "metadata": {},
   "source": [
    "# Replace Method "
   ]
  },
  {
   "cell_type": "code",
   "execution_count": 21,
   "id": "0db6e8e1-92b8-4322-9d4d-1d0ef3e40746",
   "metadata": {},
   "outputs": [
    {
     "name": "stdout",
     "output_type": "stream",
     "text": [
      "Hello Word , i am liearning Data Science\n"
     ]
    }
   ],
   "source": [
    "text = \"Hello Word , i am liearning python\"\n",
    "rep = text.replace(\"python\", \"Data Science\")\n",
    "print(rep)"
   ]
  },
  {
   "cell_type": "code",
   "execution_count": 30,
   "id": "4d668ede-44ef-4e34-a4be-30d70f00fd94",
   "metadata": {},
   "outputs": [
    {
     "name": "stdout",
     "output_type": "stream",
     "text": [
      " I am Chagol chor  , My full name is Not Chagol chor  ,\n",
      "This is my Nick Name Chagol chor  \n"
     ]
    }
   ],
   "source": [
    "a = \"\"\" I am Hira , My full name is Not Hira ,\n",
    "This is my Nick Name Hira \"\"\"\n",
    "rep = a.replace(\"Hira\", \"Chagol chor \")\n",
    "print(rep)"
   ]
  },
  {
   "cell_type": "markdown",
   "id": "762f5c37-d43b-4d79-9177-0c7c2da7e945",
   "metadata": {},
   "source": [
    "# Index Method "
   ]
  },
  {
   "cell_type": "code",
   "execution_count": 32,
   "id": "7f302e07-6770-4135-861a-248ae62995c9",
   "metadata": {},
   "outputs": [
    {
     "name": "stdout",
     "output_type": "stream",
     "text": [
      "7\n"
     ]
    }
   ],
   "source": [
    "a = \"I want to Learn \"\n",
    "print(a.index(\"to\"))"
   ]
  },
  {
   "cell_type": "markdown",
   "id": "26a9381b-dab9-4e9a-8822-fd4fa1bbf6d8",
   "metadata": {},
   "source": [
    "# find Method "
   ]
  },
  {
   "cell_type": "code",
   "execution_count": 33,
   "id": "49740337-8119-45a2-9384-cf14abe4e260",
   "metadata": {},
   "outputs": [
    {
     "name": "stdout",
     "output_type": "stream",
     "text": [
      "10\n"
     ]
    }
   ],
   "source": [
    "a = \"Python is great\"\n",
    "b = a.find(\"g\")\n",
    "print(b)"
   ]
  },
  {
   "cell_type": "markdown",
   "id": "72aa3902-922f-41a7-b22d-e91dc62accf2",
   "metadata": {},
   "source": [
    "# Practise Question "
   ]
  },
  {
   "cell_type": "code",
   "execution_count": null,
   "id": "c826ac0c-1f9f-42cf-845c-77ea7288ac70",
   "metadata": {},
   "outputs": [],
   "source": [
    "Write a python porgrma that accomplishess the following tasks : \n",
    "\n",
    "1)Concatenate the strings \"hello\" and \"World\"\n",
    "2)Find the lenth of the resulting string form the concotenation.\n",
    "3)Extract the substring obtained in the previous step.\n",
    "4)Reverse the substring obtained in the previous step.\n",
    "5)Convert th reveresed substring to uppercase.\n",
    "6)Replace the letter \"L\" with \"X\" in the revesed and uppercase substring ."
   ]
  },
  {
   "cell_type": "code",
   "execution_count": 36,
   "id": "347e2151-3af8-48e0-be44-14a1a18c6326",
   "metadata": {},
   "outputs": [
    {
     "name": "stdout",
     "output_type": "stream",
     "text": [
      "helloWorld\n",
      "10\n",
      "World\n",
      "dlroW\n",
      "DLROW\n",
      "DLROW\n"
     ]
    }
   ],
   "source": [
    "concotenated_string = \"hello\" + \"World\"\n",
    "lentgh = len(concotenated_string)\n",
    "substring = concotenated_string[5:]\n",
    "reverse = substring [::-1]\n",
    "upper = reverse.upper()\n",
    "modify = upper.replace(\"l\", \"x\")\n",
    "\n",
    "print (concotenated_string)\n",
    "print (lentgh)\n",
    "print (substring)\n",
    "print (reverse)\n",
    "print (upper)\n",
    "print (modify)\n",
    "\n"
   ]
  },
  {
   "cell_type": "code",
   "execution_count": null,
   "id": "9a321158-d377-4f91-ac52-f51068b8c2e3",
   "metadata": {},
   "outputs": [],
   "source": []
  }
 ],
 "metadata": {
  "kernelspec": {
   "display_name": "Python 3 (ipykernel)",
   "language": "python",
   "name": "python3"
  },
  "language_info": {
   "codemirror_mode": {
    "name": "ipython",
    "version": 3
   },
   "file_extension": ".py",
   "mimetype": "text/x-python",
   "name": "python",
   "nbconvert_exporter": "python",
   "pygments_lexer": "ipython3",
   "version": "3.11.7"
  }
 },
 "nbformat": 4,
 "nbformat_minor": 5
}

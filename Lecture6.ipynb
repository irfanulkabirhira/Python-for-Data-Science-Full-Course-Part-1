{
 "cells": [
  {
   "cell_type": "markdown",
   "id": "031908f7-ecb6-4381-b66d-6953f289c7a1",
   "metadata": {},
   "source": [
    "# pracrise Question \n",
    "To become Interview Ready \n",
    "# Lecture 1 to 5 \n",
    "-> Fundamenal of Data science and Python .\n",
    "-> Variables and Data types .\n",
    "-> Operators in Python .\n",
    "-> Build in function ."
   ]
  },
  {
   "cell_type": "markdown",
   "id": "4cf82874-8fdd-4e32-8125-8d6825e6aa6c",
   "metadata": {},
   "source": [
    "# Question 1 \n",
    "You are Developing a program for a math competition where participants need to solve mathematical expressions and provide the result.\n",
    "You want to use python to automate the evaluation process.\n",
    "Here's How you could approach it : \n",
    "\n",
    "1)Take input from the participant to enter a mathematical expression \n",
    "2)Evaluate the expression entered by the participant and obtain the result.\n",
    "3)Display the result to the participant."
   ]
  },
  {
   "cell_type": "code",
   "execution_count": 3,
   "id": "c5fc60d6-1f26-4bc3-aaec-7261e8ea34b0",
   "metadata": {},
   "outputs": [
    {
     "name": "stdin",
     "output_type": "stream",
     "text": [
      "Enter a mathematical expression 25*45+96-52*3/2.4\n"
     ]
    },
    {
     "name": "stdout",
     "output_type": "stream",
     "text": [
      "The result of the expression is  1156.0\n",
      "Thank you for participating in the maths compertition \n"
     ]
    }
   ],
   "source": [
    "expression = input(\"Enter a mathematical expression\")\n",
    "result =eval(expression)\n",
    "print(\"The result of the expression is \", result )\n",
    "print(\"Thank you for participating in the maths compertition \")"
   ]
  },
  {
   "cell_type": "markdown",
   "id": "df86feed-ec1c-44eb-a5fd-0e58945608a6",
   "metadata": {},
   "source": [
    "#Question 2 \n",
    "\n",
    "Suppose you are analyzing dataset containing information about house prices in a party. Each record includes details such as the house size \n",
    "(in square feet ) , number of bedrooms , and price . you want to perform various calculations and manipulations on this Dataset using python.\n",
    "Answer the following qustion : \n",
    "\n",
    "1)Ask the user 1 & 2 to enter hosue size , number of rooms they want and , check the data type user has entered\n",
    "2) Calculate the price of house , if per sq feet is Rs 5000 \n",
    "3)Threshold price is 75 lakh Rs, Which user  is  paying the price abbove threshold price .\n"
   ]
  },
  {
   "cell_type": "code",
   "execution_count": 11,
   "id": "07400b0e-f24e-4c81-9481-46c8a796efe4",
   "metadata": {},
   "outputs": [
    {
     "name": "stdin",
     "output_type": "stream",
     "text": [
      "enter the Size of the hosue 1500\n",
      "Enter the number of bedrooms 3\n",
      "Enter the budget 8000000\n",
      "enter the Size of the hosue 1700\n",
      "Enter the number of bedrooms 3\n",
      "Enter the budget 8000000\n"
     ]
    },
    {
     "name": "stdout",
     "output_type": "stream",
     "text": [
      "The price of the house for the user1  7500000.0\n",
      "The price of the house for the user2  8500000.0\n",
      "user 1 is paying above thresold  {True}\n",
      "user 2 is paying above thresold  {True}\n"
     ]
    }
   ],
   "source": [
    "house_size_1 = float(input(\"enter the Size of the hosue\"))\n",
    "bedrooms_1 = int(input(\"Enter the number of bedrooms\"))\n",
    "price_1= float(input(\"Enter the budget\"))\n",
    "\n",
    "house_size_2 = float(input(\"enter the Size of the hosue\"))\n",
    "bedrooms_2 = int(input(\"Enter the number of bedrooms\"))\n",
    "price_2= float(input(\"Enter the budget\"))\n",
    "\n",
    "house_price_1= house_size_1*5000\n",
    "print(\"The price of the house for the user1 \", house_price_1)\n",
    "\n",
    "house_price_2= house_size_2*5000\n",
    "print(\"The price of the house for the user2 \", house_price_2)\n",
    "\n",
    "threshold_price = 7500000\n",
    "user1_threshold = house_price_1 >=threshold_price\n",
    "user2_threshold = house_price_2 >=threshold_price\n",
    "print (f\"user 1 is paying above thresold \", {user1_threshold})\n",
    "print (f\"user 2 is paying above thresold \", {user2_threshold})"
   ]
  },
  {
   "cell_type": "markdown",
   "id": "5e4e1bce-7ab6-4347-b834-bc493ba88677",
   "metadata": {},
   "source": [
    "# Question 3 \n",
    "You are working on a project to analyze stock market data '.\n",
    "Create a variable to store the stock symbol , current price , \n",
    "and Percentage change in Price . Then Calculate the new price after a 10% increase using arithmatic operaitons, \n",
    "Finally , promt the user to enter their budget using the input() function , \n",
    "convert it to a float using the float()  funciton , and compare it with the new price "
   ]
  },
  {
   "cell_type": "code",
   "execution_count": 13,
   "id": "14e9ec97-36a0-4055-a8e4-3f5a22e480d2",
   "metadata": {},
   "outputs": [
    {
     "name": "stdout",
     "output_type": "stream",
     "text": [
      "the new price of the stock is  110.00000000000001\n"
     ]
    },
    {
     "name": "stdin",
     "output_type": "stream",
     "text": [
      "enter Your Budget 500\n"
     ]
    },
    {
     "name": "stdout",
     "output_type": "stream",
     "text": [
      "User budget is greater than new price  True\n"
     ]
    }
   ],
   "source": [
    "stock_symbol = 'xyz'\n",
    "current_price = 100\n",
    "percent_change = 10 \n",
    "new_price = current_price*(1+percent_change/100)\n",
    "print(\"the new price of the stock is \", new_price)\n",
    "user_budget = int(input(\"enter Your Budget\"))\n",
    "a=user_budget >=new_price\n",
    "print(\"User budget is greater than new price \", a)"
   ]
  },
  {
   "cell_type": "markdown",
   "id": "fe06dda0-23cc-458d-81ee-75a6a67f6cb5",
   "metadata": {},
   "source": [
    "# Question 4 \n",
    "You are working on a project to analyze weather data.\n",
    "Create variables to store the current temperature , \n",
    "the minimum temperature recored  , and the maximum temparature recorded .\n",
    "Determine whether the current temperature is within the range of the minimum and maximum temperatures \n",
    "recorded using logical operators "
   ]
  },
  {
   "cell_type": "code",
   "execution_count": 15,
   "id": "5d064719-f6f8-4494-ad33-270ae0c82c18",
   "metadata": {},
   "outputs": [
    {
     "name": "stdout",
     "output_type": "stream",
     "text": [
      "Current temperature is within the recorded range: True\n"
     ]
    }
   ],
   "source": [
    "# Variables to store the temperatures\n",
    "current_temperature = 25.5  # current temperature in degrees Celsius\n",
    "min_temperature_recorded = 20.0  # minimum temperature recorded in degrees Celsius\n",
    "max_temperature_recorded = 30.0  # maximum temperature recorded in degrees Celsius\n",
    "\n",
    "# Check if the current temperature is within the range\n",
    "is_within_range = min_temperature_recorded <= current_temperature <= max_temperature_recorded\n",
    "\n",
    "# Output the result\n",
    "print(\"Current temperature is within the recorded range:\", is_within_range)\n"
   ]
  },
  {
   "cell_type": "code",
   "execution_count": null,
   "id": "3d844d08-1141-4301-95d8-d194cb7a09da",
   "metadata": {},
   "outputs": [],
   "source": []
  }
 ],
 "metadata": {
  "kernelspec": {
   "display_name": "Python 3 (ipykernel)",
   "language": "python",
   "name": "python3"
  },
  "language_info": {
   "codemirror_mode": {
    "name": "ipython",
    "version": 3
   },
   "file_extension": ".py",
   "mimetype": "text/x-python",
   "name": "python",
   "nbconvert_exporter": "python",
   "pygments_lexer": "ipython3",
   "version": "3.11.7"
  }
 },
 "nbformat": 4,
 "nbformat_minor": 5
}

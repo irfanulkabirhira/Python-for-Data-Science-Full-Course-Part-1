{
 "cells": [
  {
   "cell_type": "markdown",
   "id": "731adda4-a2d9-49f6-8727-22963e7c1ae3",
   "metadata": {},
   "source": [
    "# Lecture 3\n",
    "\n",
    "# Arithmatic Opertor \n",
    "# Adition "
   ]
  },
  {
   "cell_type": "code",
   "execution_count": 1,
   "id": "3b8f29b5-4239-4b5b-9544-041799e24db6",
   "metadata": {},
   "outputs": [
    {
     "name": "stdout",
     "output_type": "stream",
     "text": [
      "3\n"
     ]
    }
   ],
   "source": [
    "a=1\n",
    "b=2\n",
    "print(a+b)"
   ]
  },
  {
   "cell_type": "code",
   "execution_count": 3,
   "id": "e6ac852c-6d69-42a7-b575-331651bc907f",
   "metadata": {},
   "outputs": [
    {
     "name": "stdout",
     "output_type": "stream",
     "text": [
      "3.2\n"
     ]
    }
   ],
   "source": [
    "x=1\n",
    "y=2.2\n",
    "print(x+y)"
   ]
  },
  {
   "cell_type": "code",
   "execution_count": 4,
   "id": "64e4d6c8-8708-488a-94fc-ab9a47024de0",
   "metadata": {},
   "outputs": [
    {
     "name": "stdout",
     "output_type": "stream",
     "text": [
      "hello Student\n"
     ]
    }
   ],
   "source": [
    "a1=\"hello\"\n",
    "b1=\"Student\"\n",
    "c1=a1+\" \"+b1\n",
    "print(c1)"
   ]
  },
  {
   "cell_type": "code",
   "execution_count": 8,
   "id": "8b7b6ce6-a649-4499-b412-bd325c27fddc",
   "metadata": {},
   "outputs": [
    {
     "name": "stdout",
     "output_type": "stream",
     "text": [
      "(3+7j)\n"
     ]
    }
   ],
   "source": [
    "x1=2+2j\n",
    "x2=1+5j\n",
    "print(x1+x2)"
   ]
  },
  {
   "cell_type": "code",
   "execution_count": 9,
   "id": "926a4ee2-4b46-45ed-995a-64509833696e",
   "metadata": {},
   "outputs": [
    {
     "name": "stdout",
     "output_type": "stream",
     "text": [
      "-3\n"
     ]
    }
   ],
   "source": [
    "w1=-6\n",
    "w2=3\n",
    "print(w1+w2)"
   ]
  },
  {
   "cell_type": "markdown",
   "id": "5be16756-3bb5-4f28-98b9-3da28239ad98",
   "metadata": {},
   "source": [
    "# Subtraction "
   ]
  },
  {
   "cell_type": "code",
   "execution_count": 10,
   "id": "97febb51-3fe5-46d6-81d8-63adb6dd8022",
   "metadata": {},
   "outputs": [
    {
     "name": "stdout",
     "output_type": "stream",
     "text": [
      "3\n"
     ]
    }
   ],
   "source": [
    "num1=8 \n",
    "num2=5\n",
    "print(num1-num2)"
   ]
  },
  {
   "cell_type": "code",
   "execution_count": 11,
   "id": "6774d6f0-2335-48ec-8c56-a71b98bb06a8",
   "metadata": {},
   "outputs": [
    {
     "name": "stdout",
     "output_type": "stream",
     "text": [
      "(8+14j)\n"
     ]
    }
   ],
   "source": [
    "a6 =5+9j\n",
    "b6 =3+5j\n",
    "print (a6+b6)"
   ]
  },
  {
   "cell_type": "markdown",
   "id": "8008e57c-73e4-46df-a904-bf396937ac5a",
   "metadata": {},
   "source": [
    "# Multiplicaiton"
   ]
  },
  {
   "cell_type": "code",
   "execution_count": 13,
   "id": "a375b7a7-ba80-4c0d-ba15-fea6bf348e89",
   "metadata": {},
   "outputs": [
    {
     "name": "stdout",
     "output_type": "stream",
     "text": [
      "26.5\n"
     ]
    }
   ],
   "source": [
    "a = 5.3\n",
    "b=5\n",
    "print (a*b)"
   ]
  },
  {
   "cell_type": "code",
   "execution_count": 14,
   "id": "3243f7b0-37c9-4309-88a9-9e0365d9be5b",
   "metadata": {},
   "outputs": [
    {
     "name": "stdout",
     "output_type": "stream",
     "text": [
      "hellohellohellohellohello\n"
     ]
    }
   ],
   "source": [
    "str=\"hello\"\n",
    "print (str*5)"
   ]
  },
  {
   "cell_type": "code",
   "execution_count": 15,
   "id": "87f81023-1428-408f-a1ff-e0013e6b7139",
   "metadata": {},
   "outputs": [
    {
     "ename": "NameError",
     "evalue": "name 'str1' is not defined",
     "output_type": "error",
     "traceback": [
      "\u001b[1;31m---------------------------------------------------------------------------\u001b[0m",
      "\u001b[1;31mNameError\u001b[0m                                 Traceback (most recent call last)",
      "Cell \u001b[1;32mIn[15], line 3\u001b[0m\n\u001b[0;32m      1\u001b[0m \u001b[38;5;28mstr\u001b[39m\u001b[38;5;241m=\u001b[39m\u001b[38;5;124m\"\u001b[39m\u001b[38;5;124mhello\u001b[39m\u001b[38;5;124m\"\u001b[39m\n\u001b[0;32m      2\u001b[0m str2\u001b[38;5;241m=\u001b[39m\u001b[38;5;124m\"\u001b[39m\u001b[38;5;124mworld\u001b[39m\u001b[38;5;124m\"\u001b[39m\n\u001b[1;32m----> 3\u001b[0m \u001b[38;5;28mprint\u001b[39m(str1\u001b[38;5;241m*\u001b[39mstr2)\n",
      "\u001b[1;31mNameError\u001b[0m: name 'str1' is not defined"
     ]
    }
   ],
   "source": [
    "str=\"hello\"\n",
    "str2=\"world\"\n",
    "print(str1*str2)"
   ]
  },
  {
   "cell_type": "code",
   "execution_count": 16,
   "id": "b4f8e41f-f484-4acc-960f-0c0defd6afe3",
   "metadata": {},
   "outputs": [
    {
     "name": "stdout",
     "output_type": "stream",
     "text": [
      "(-6+17j)\n"
     ]
    }
   ],
   "source": [
    "a1=2+3j\n",
    "b1=3+4j\n",
    "print (a1*b1)"
   ]
  },
  {
   "cell_type": "markdown",
   "id": "2d2ce555-3479-47c6-ad04-46d789063ad9",
   "metadata": {},
   "source": [
    "# Division "
   ]
  },
  {
   "cell_type": "code",
   "execution_count": 19,
   "id": "9b05b9d2-ddde-41b4-850c-ea4fcb0fc9eb",
   "metadata": {},
   "outputs": [
    {
     "name": "stdout",
     "output_type": "stream",
     "text": [
      "5.1000000000000005\n"
     ]
    }
   ],
   "source": [
    "a=15.3\n",
    "b=3\n",
    "print(a/b)"
   ]
  },
  {
   "cell_type": "code",
   "execution_count": 23,
   "id": "986e9fe9-c744-488a-8f30-2e31054e8575",
   "metadata": {},
   "outputs": [
    {
     "name": "stdout",
     "output_type": "stream",
     "text": [
      "(1.6-0.2j)\n"
     ]
    }
   ],
   "source": [
    "com1=2+3j\n",
    "com2=1+2j\n",
    "print(com1/com2)"
   ]
  },
  {
   "cell_type": "markdown",
   "id": "15a28ba2-f0e2-44c9-909f-8ad71d3fa79a",
   "metadata": {},
   "source": [
    "# Modulus "
   ]
  },
  {
   "cell_type": "code",
   "execution_count": 24,
   "id": "981c4c00-a6fa-4f4b-8c13-f0284eccd3e2",
   "metadata": {},
   "outputs": [
    {
     "name": "stdout",
     "output_type": "stream",
     "text": [
      "0\n"
     ]
    }
   ],
   "source": [
    "print (12%3)"
   ]
  },
  {
   "cell_type": "code",
   "execution_count": 25,
   "id": "3d00db7f-6f6c-4e91-895c-2287877e81b2",
   "metadata": {},
   "outputs": [
    {
     "name": "stdout",
     "output_type": "stream",
     "text": [
      "4\n"
     ]
    }
   ],
   "source": [
    "print (19%5)"
   ]
  },
  {
   "cell_type": "markdown",
   "id": "1f411153-2b35-4859-aec6-a3ac6de2ae0d",
   "metadata": {},
   "source": [
    "a=5+3j\n",
    "b=3\n",
    "print (a%b)"
   ]
  },
  {
   "cell_type": "markdown",
   "id": "3ebef2f1-dad8-499a-b1fe-579e8512d2b7",
   "metadata": {},
   "source": [
    "# Exponent "
   ]
  },
  {
   "cell_type": "code",
   "execution_count": 27,
   "id": "f6dff683-9b79-44e4-ba8d-08f4909cd536",
   "metadata": {},
   "outputs": [
    {
     "name": "stdout",
     "output_type": "stream",
     "text": [
      "4778392056971831334881537083459007545459424\n"
     ]
    }
   ],
   "source": [
    "print (343444334**5)\n"
   ]
  },
  {
   "cell_type": "code",
   "execution_count": 31,
   "id": "d9029da3-882e-4eef-9149-54f8e5a635cc",
   "metadata": {},
   "outputs": [
    {
     "name": "stdout",
     "output_type": "stream",
     "text": [
      "1.9834710743801653\n"
     ]
    }
   ],
   "source": [
    "w=60\n",
    "hight=5.5\n",
    "v=hight**2\n",
    "print (w/v)"
   ]
  },
  {
   "cell_type": "markdown",
   "id": "16d4705d-c94c-49a5-9c86-55b13364a1fa",
   "metadata": {},
   "source": [
    "# Boolean "
   ]
  },
  {
   "cell_type": "code",
   "execution_count": 32,
   "id": "ded79912-52fe-45e2-ba7a-4eecfed70b24",
   "metadata": {},
   "outputs": [
    {
     "name": "stdout",
     "output_type": "stream",
     "text": [
      "<class 'bool'>\n"
     ]
    }
   ],
   "source": [
    "a=True \n",
    "print(type(a))"
   ]
  },
  {
   "cell_type": "markdown",
   "id": "fd45ab3e-8699-418b-8530-5938592bc3d7",
   "metadata": {},
   "source": [
    "# Comparsion "
   ]
  },
  {
   "cell_type": "code",
   "execution_count": 33,
   "id": "1eccc9e0-e854-44af-a636-b5048f175e6d",
   "metadata": {},
   "outputs": [
    {
     "name": "stdout",
     "output_type": "stream",
     "text": [
      "False\n"
     ]
    }
   ],
   "source": [
    "x=4\n",
    "y=6\n",
    "print(x==y)"
   ]
  },
  {
   "cell_type": "code",
   "execution_count": 34,
   "id": "244fc4d3-66cc-4095-ab75-78a9f1fcfb5b",
   "metadata": {},
   "outputs": [
    {
     "name": "stdout",
     "output_type": "stream",
     "text": [
      "True\n"
     ]
    }
   ],
   "source": [
    "x=4\n",
    "y=5\n",
    "print(x!=y)"
   ]
  },
  {
   "cell_type": "markdown",
   "id": "6227bc23-facc-470d-b7c6-d7ef69159330",
   "metadata": {},
   "source": [
    "# logical "
   ]
  },
  {
   "cell_type": "code",
   "execution_count": 35,
   "id": "155c73d5-9926-4101-856f-b952f04586dc",
   "metadata": {},
   "outputs": [
    {
     "name": "stdout",
     "output_type": "stream",
     "text": [
      "False\n"
     ]
    }
   ],
   "source": [
    "x = True \n",
    "y = False \n",
    "print (x  and y)"
   ]
  },
  {
   "cell_type": "markdown",
   "id": "7a6b57db-a07c-4224-baed-cde71fa552c3",
   "metadata": {},
   "source": [
    "# Practise Question "
   ]
  },
  {
   "cell_type": "markdown",
   "id": "353c0ce5-b692-4f50-ad47-9148441e7610",
   "metadata": {},
   "source": [
    "Question 1 \n",
    "\n",
    "You have a data containing two record : \"Quantity\" and \"Price per unit\".How would you use arithmetic operators to calculate the total cost for item, \n",
    "also calculate the total Cost ? Product 1 , Quantity -5 , price per unit -Rs 250. product 2 , Quantity -25 , price per unit -Rs 656. product 3 , \n",
    "quantity -34 , price per unit -Rs 274"
   ]
  },
  {
   "cell_type": "code",
   "execution_count": 45,
   "id": "9ed1cbdd-4373-4ac5-b813-db94d975119f",
   "metadata": {},
   "outputs": [
    {
     "name": "stdout",
     "output_type": "stream",
     "text": [
      "the price of product 1 is = 1250\n",
      "the price of product 2 is = 16400\n",
      "the price of product 3 is = 9316\n",
      "The total price customer need to pay is  = 26966\n"
     ]
    }
   ],
   "source": [
    "product_1=5*250\n",
    "product_2=25*656\n",
    "product_3=34*274\n",
    "print(\"the price of product 1 is =\", product_1)\n",
    "print(\"the price of product 2 is =\", product_2)\n",
    "print(\"the price of product 3 is =\", product_3)\n",
    "\n",
    "print(\"The total price customer need to pay is =\", product_1 + product_2 + product_3 )\n"
   ]
  },
  {
   "cell_type": "markdown",
   "id": "8a028c06-5f1e-47aa-ba4f-2eb7bf01ae77",
   "metadata": {},
   "source": [
    "Question 2 \n",
    "\n",
    "In a finance based organization, the task is to calculate the simple interest given the principle amount, interest rate, and time period ,\n",
    "the interest rate is 8% , the principal amount is Rs 15,00,000, and the time period is 3 years, calculate the simple interest.Also, the threshold \n",
    "amount is Rs 1,20,000 please check if the calculated interest is greater or less than the threshold Amount."
   ]
  },
  {
   "cell_type": "code",
   "execution_count": 60,
   "id": "a3b15e31-f027-408c-bce9-45aa92eda2d3",
   "metadata": {},
   "outputs": [
    {
     "name": "stdout",
     "output_type": "stream",
     "text": [
      "The simple Interest rate is = 360000.0\n",
      "True\n",
      "the value of simple interest is greater than threshold\n"
     ]
    }
   ],
   "source": [
    "p=1500000\n",
    "r=8\n",
    "t=3\n",
    "Threshold=120000\n",
    "si=(p*r*t)/100\n",
    "print(\"The simple Interest rate is =\",si)\n",
    "\n",
    "#Compariosn \n",
    "comp=si>Threshold\n",
    "print(comp)\n",
    "print(\"the value of simple interest is greater than threshold\")\n",
    "\n",
    "\n"
   ]
  },
  {
   "cell_type": "markdown",
   "id": "8b45acc8-e3bb-49e6-93d4-78007d68578a",
   "metadata": {},
   "source": [
    "Question 3 : \n",
    "\n",
    "write a Python program to calculate the area of a circle with a radius of 12 cm."
   ]
  },
  {
   "cell_type": "code",
   "execution_count": 61,
   "id": "e384f29e-5b08-4f42-a3af-cd7c64e53266",
   "metadata": {},
   "outputs": [
    {
     "name": "stdout",
     "output_type": "stream",
     "text": [
      "the area of a circle is = 452.3904\n"
     ]
    }
   ],
   "source": [
    "d=3.1416\n",
    "r=12*12\n",
    "area=d*r\n",
    "print (\"the area of a circle is =\",area)"
   ]
  },
  {
   "cell_type": "code",
   "execution_count": null,
   "id": "eb9358c1-8d9f-4aab-9f84-9d47597df09b",
   "metadata": {},
   "outputs": [],
   "source": []
  }
 ],
 "metadata": {
  "kernelspec": {
   "display_name": "Python 3 (ipykernel)",
   "language": "python",
   "name": "python3"
  },
  "language_info": {
   "codemirror_mode": {
    "name": "ipython",
    "version": 3
   },
   "file_extension": ".py",
   "mimetype": "text/x-python",
   "name": "python",
   "nbconvert_exporter": "python",
   "pygments_lexer": "ipython3",
   "version": "3.11.7"
  }
 },
 "nbformat": 4,
 "nbformat_minor": 5
}

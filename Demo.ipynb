{
 "cells": [
  {
   "cell_type": "markdown",
   "id": "8aded786-47d8-4803-88df-3df2170784f7",
   "metadata": {},
   "source": [
    "this is my first class"
   ]
  },
  {
   "cell_type": "code",
   "execution_count": 2,
   "id": "fe81b754-2ab4-4886-b635-af4e24899c58",
   "metadata": {},
   "outputs": [
    {
     "name": "stdout",
     "output_type": "stream",
     "text": [
      "this is my first class\n"
     ]
    }
   ],
   "source": [
    "print(\"this is my first class\" )"
   ]
  },
  {
   "cell_type": "markdown",
   "id": "a2408114-b66d-4cb3-a149-5c49dd6d8e8c",
   "metadata": {},
   "source": [
    "# this is my first class "
   ]
  },
  {
   "cell_type": "markdown",
   "id": "cbcdab7b-a7e1-4026-87c2-8e1944ed45b9",
   "metadata": {},
   "source": [
    "# this is my first class "
   ]
  },
  {
   "cell_type": "code",
   "execution_count": 3,
   "id": "0c5cae35-8baa-4107-9620-c83f22ef9a77",
   "metadata": {},
   "outputs": [
    {
     "name": "stdout",
     "output_type": "stream",
     "text": [
      "5\n"
     ]
    }
   ],
   "source": [
    "print (2+3)"
   ]
  },
  {
   "cell_type": "code",
   "execution_count": 4,
   "id": "e9ba9b25-d6d2-4751-86ae-cb6d6f96ac78",
   "metadata": {},
   "outputs": [
    {
     "name": "stdout",
     "output_type": "stream",
     "text": [
      "Hello world\n"
     ]
    }
   ],
   "source": [
    "print (\"Hello world\")"
   ]
  },
  {
   "cell_type": "code",
   "execution_count": 5,
   "id": "a49edf94-820c-406f-a4bd-644e747e0ea2",
   "metadata": {},
   "outputs": [
    {
     "ename": "SyntaxError",
     "evalue": "unterminated string literal (detected at line 1) (1895406006.py, line 1)",
     "output_type": "error",
     "traceback": [
      "\u001b[1;36m  Cell \u001b[1;32mIn[5], line 1\u001b[1;36m\u001b[0m\n\u001b[1;33m    print (\"Hello world\u001b[0m\n\u001b[1;37m           ^\u001b[0m\n\u001b[1;31mSyntaxError\u001b[0m\u001b[1;31m:\u001b[0m unterminated string literal (detected at line 1)\n"
     ]
    }
   ],
   "source": [
    "print (\"Hello world\n",
    "    "
   ]
  },
  {
   "cell_type": "code",
   "execution_count": 6,
   "id": "9474c81d-771b-46fc-82f1-c5b76633d753",
   "metadata": {},
   "outputs": [
    {
     "name": "stdout",
     "output_type": "stream",
     "text": [
      "helo \n"
     ]
    }
   ],
   "source": [
    "print(\"helo \")"
   ]
  },
  {
   "cell_type": "code",
   "execution_count": 9,
   "id": "b43afb95-0eea-485b-99cf-b6ddb050aad9",
   "metadata": {},
   "outputs": [
    {
     "name": "stdout",
     "output_type": "stream",
     "text": [
      "Hello i am Hira \n",
      "23\n",
      "5\n"
     ]
    }
   ],
   "source": [
    "# This is about the Introduction of an educator \n",
    "print (\"Hello i am Hira \")\n",
    "print('23') # this is the number\n",
    "print (2+3)"
   ]
  },
  {
   "cell_type": "code",
   "execution_count": null,
   "id": "29aa9751-2a52-47c4-bbf3-c37cffe69bad",
   "metadata": {},
   "outputs": [],
   "source": []
  }
 ],
 "metadata": {
  "kernelspec": {
   "display_name": "Python 3 (ipykernel)",
   "language": "python",
   "name": "python3"
  },
  "language_info": {
   "codemirror_mode": {
    "name": "ipython",
    "version": 3
   },
   "file_extension": ".py",
   "mimetype": "text/x-python",
   "name": "python",
   "nbconvert_exporter": "python",
   "pygments_lexer": "ipython3",
   "version": "3.11.7"
  }
 },
 "nbformat": 4,
 "nbformat_minor": 5
}

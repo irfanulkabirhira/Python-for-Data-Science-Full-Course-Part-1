{
 "cells": [
  {
   "cell_type": "markdown",
   "id": "e75b0040-b741-4f3f-baa8-c3802f71846f",
   "metadata": {},
   "source": [
    "# Lecture 4\n",
    "# Build in Funciton in Python "
   ]
  },
  {
   "cell_type": "markdown",
   "id": "e715a37d-b69a-4b6c-86c0-884157af01a9",
   "metadata": {},
   "source": [
    "# Float function"
   ]
  },
  {
   "cell_type": "code",
   "execution_count": 4,
   "id": "b712d568-6770-4eab-b1aa-0dc27e409193",
   "metadata": {},
   "outputs": [
    {
     "name": "stdout",
     "output_type": "stream",
     "text": [
      "<class 'int'>\n",
      "10.0\n",
      "<class 'float'>\n"
     ]
    }
   ],
   "source": [
    "num_int =10 \n",
    "print(type(num_int))\n",
    "a=float(num_int)\n",
    "print(a)\n",
    "print(type(a))"
   ]
  },
  {
   "cell_type": "code",
   "execution_count": 6,
   "id": "d1b3bf15-8a69-48de-b2aa-8a9f69695801",
   "metadata": {},
   "outputs": [
    {
     "name": "stdout",
     "output_type": "stream",
     "text": [
      "<class 'str'>\n",
      "3.1416\n",
      "<class 'float'>\n"
     ]
    }
   ],
   "source": [
    "a=\"3.1416\"\n",
    "print (type(a))\n",
    "b=float(a)\n",
    "print(b)\n",
    "print(type(b))"
   ]
  },
  {
   "cell_type": "markdown",
   "id": "be598ca6-b0e2-4c8a-91cf-de70affb17ae",
   "metadata": {},
   "source": [
    "# Int Function"
   ]
  },
  {
   "cell_type": "code",
   "execution_count": 7,
   "id": "9f5f5ff8-d4d7-467c-9901-944302ba730f",
   "metadata": {},
   "outputs": [
    {
     "name": "stdout",
     "output_type": "stream",
     "text": [
      "<class 'float'>\n",
      "5\n",
      "<class 'int'>\n"
     ]
    }
   ],
   "source": [
    "a=5.343424423\n",
    "print(type(a))\n",
    "c=int(a)\n",
    "print(c)\n",
    "print (type(c))"
   ]
  },
  {
   "cell_type": "code",
   "execution_count": 8,
   "id": "a166cafa-5f25-472c-b533-c2a3169bac37",
   "metadata": {},
   "outputs": [
    {
     "name": "stdout",
     "output_type": "stream",
     "text": [
      "<class 'str'>\n",
      "22\n",
      "<class 'int'>\n"
     ]
    }
   ],
   "source": [
    "a1=\"22\"\n",
    "print(type(a1))\n",
    "b1=int(a1)\n",
    "print(b1)\n",
    "print (type(b1))"
   ]
  },
  {
   "cell_type": "markdown",
   "id": "22d5b31e-39c0-4c50-836d-b12d1d006937",
   "metadata": {},
   "source": [
    "# String Function"
   ]
  },
  {
   "cell_type": "code",
   "execution_count": 12,
   "id": "3b3cbc80-66ac-42cf-ad32-664f0dbcc8ad",
   "metadata": {},
   "outputs": [
    {
     "name": "stdout",
     "output_type": "stream",
     "text": [
      "<class 'int'>\n",
      "56\n",
      "<class 'str'>\n",
      "562\n",
      "58\n"
     ]
    }
   ],
   "source": [
    "a=56\n",
    "print(type(a))\n",
    "b=str(a)\n",
    "print(b)\n",
    "print (type(b))\n",
    "c = \"2\"\n",
    "print (b+c)\n",
    "print(a+2)"
   ]
  },
  {
   "cell_type": "code",
   "execution_count": 14,
   "id": "8c3392fb-0a88-4d9a-82ea-04b225206bc7",
   "metadata": {},
   "outputs": [
    {
     "name": "stdout",
     "output_type": "stream",
     "text": [
      "4.42432423\n",
      "<class 'float'>\n",
      "4.42432423\n",
      "<class 'str'>\n"
     ]
    }
   ],
   "source": [
    "x=4.42432423\n",
    "print(x)\n",
    "print(type(x))\n",
    "y=str(x)\n",
    "print(y)\n",
    "print (type(y))"
   ]
  },
  {
   "cell_type": "markdown",
   "id": "bda864f8-33aa-4490-a1dd-1732b3acb571",
   "metadata": {},
   "source": [
    "# Complex Function "
   ]
  },
  {
   "cell_type": "code",
   "execution_count": 18,
   "id": "ce363521-17d8-4b97-b5dd-1a7f03200e03",
   "metadata": {},
   "outputs": [
    {
     "name": "stdout",
     "output_type": "stream",
     "text": [
      "(2+3j)\n"
     ]
    }
   ],
   "source": [
    "comp = complex(2,3)\n",
    "print(comp)"
   ]
  },
  {
   "cell_type": "markdown",
   "id": "47972fc5-5e37-46f9-af05-ff9ef06133a3",
   "metadata": {},
   "source": [
    "# Absulute function "
   ]
  },
  {
   "cell_type": "code",
   "execution_count": 19,
   "id": "e5b6d0b5-dfec-4add-8cea-12ac0a7e57c5",
   "metadata": {},
   "outputs": [
    {
     "name": "stdout",
     "output_type": "stream",
     "text": [
      "23\n"
     ]
    }
   ],
   "source": [
    "x=-23\n",
    "print(abs(x))"
   ]
  },
  {
   "cell_type": "code",
   "execution_count": 21,
   "id": "6d749117-75fe-4708-a0c5-47b64c856a12",
   "metadata": {},
   "outputs": [
    {
     "name": "stdout",
     "output_type": "stream",
     "text": [
      "32.3242\n"
     ]
    }
   ],
   "source": [
    "y=-32.3242\n",
    "print(abs(y))"
   ]
  },
  {
   "cell_type": "code",
   "execution_count": 22,
   "id": "66c70530-1c53-48e8-b700-4cb3a44e68d8",
   "metadata": {},
   "outputs": [
    {
     "name": "stdout",
     "output_type": "stream",
     "text": [
      "5.0\n"
     ]
    }
   ],
   "source": [
    "z=-3+4j\n",
    "print(abs(z))"
   ]
  },
  {
   "cell_type": "markdown",
   "id": "276b37ed-6e5a-4887-8922-25a281002843",
   "metadata": {},
   "source": [
    "# lentgh Function"
   ]
  },
  {
   "cell_type": "code",
   "execution_count": 24,
   "id": "5ae1bb46-3ba9-4746-95d3-61034ad7dab1",
   "metadata": {},
   "outputs": [
    {
     "name": "stdout",
     "output_type": "stream",
     "text": [
      "27\n"
     ]
    }
   ],
   "source": [
    "a = \"hello i m your student Hira\"\n",
    "print(len(a))"
   ]
  },
  {
   "cell_type": "code",
   "execution_count": 25,
   "id": "afcab1ee-2f0e-4cc8-8379-019854c9959b",
   "metadata": {},
   "outputs": [
    {
     "name": "stdout",
     "output_type": "stream",
     "text": [
      "6\n"
     ]
    }
   ],
   "source": [
    "c= [12,15, 7, 8 , 9 , 2 ]\n",
    "print (len(c))"
   ]
  },
  {
   "cell_type": "markdown",
   "id": "6eaf7572-966f-48d1-afd2-32dd3c101f02",
   "metadata": {},
   "source": [
    "# Practise Question \n",
    "Question 1 : \n",
    "\n",
    "In a Game applicaiton , the player's score is stored as a floating-point number, However , for leaderboard display , you need to \n",
    "convert the score to an integer . how would you use the int() function to convert the player's score from floating-point to integer formate ? \n",
    "please solve this with code , player score =1234.56"
   ]
  },
  {
   "cell_type": "code",
   "execution_count": 34,
   "id": "193e3184-05e9-4607-b53c-20babba63d66",
   "metadata": {},
   "outputs": [
    {
     "name": "stdout",
     "output_type": "stream",
     "text": [
      "<class 'float'>\n",
      "1234\n",
      "<class 'int'>\n"
     ]
    }
   ],
   "source": [
    "player_score = 1234.56\n",
    "print(type(player_score))\n",
    "Final_Player_score=int(player_score)\n",
    "print(Final_Player_score)\n",
    "print(type(Final_Player_score))\n",
    "\n"
   ]
  },
  {
   "cell_type": "markdown",
   "id": "54437a26-4eb4-4da6-ab0f-dce09121befd",
   "metadata": {},
   "source": [
    "Question 2 : \n",
    "\n",
    "In a customer relationship management (CRM) system for a retail company, you have a database containing customer reocords.\n",
    "How would you use the len() function to find the total number of Customer in the database, allowing the company to track its customer base? \n",
    "\n",
    "Customer_databse = [\n",
    "                 (1 , 'John Doe' , 'John@example.com'),\n",
    "                 (1 , 'Hira' , 'erfanulkabirhira132@gmail.com'),\n",
    "                (1 , 'Jira' , 'Jira@example.com'),\n",
    "                ]\n",
    "\n"
   ]
  },
  {
   "cell_type": "code",
   "execution_count": 37,
   "id": "611c1ede-5ee2-43d4-8ea3-124299ec74a9",
   "metadata": {},
   "outputs": [
    {
     "name": "stdout",
     "output_type": "stream",
     "text": [
      "The total number of customer in the database is  3\n"
     ]
    }
   ],
   "source": [
    "Customer_database = [ \n",
    "    (1 , 'John Doe' , 'John@example.com'),\n",
    "    (1 , 'Hira' , 'erfanulkabirhira132@gmail.com'),\n",
    "    (1 , 'Jira' , 'Jira@example.com'),\n",
    "]\n",
    "print (\"The total number of customer in the database is \", len(Customer_database))"
   ]
  },
  {
   "cell_type": "markdown",
   "id": "81f52816-6687-4c7f-bbcb-1d30e51b395c",
   "metadata": {},
   "source": [
    "Question 3 : \n",
    "\n",
    "You are calculating a financial applicaiton that calculate simple interest. The principle amount is 250000 Rs , the interest rate is 9.3456\n",
    "and the time period is 3 years , calculate the simple interest (SI), \n",
    "and the final value should be an integer."
   ]
  },
  {
   "cell_type": "code",
   "execution_count": 49,
   "id": "06dc57c3-e928-4f52-89ea-ce9cbd8e3cd5",
   "metadata": {},
   "outputs": [
    {
     "name": "stdout",
     "output_type": "stream",
     "text": [
      "<class 'float'>\n",
      "The simple interest value is =  70092.0\n",
      "the Integer Value is =  70092\n"
     ]
    }
   ],
   "source": [
    "p=250000\n",
    "r=9.3456\n",
    "t=3\n",
    "si=((p*r*t)/100)\n",
    "print(type(si))\n",
    "print(\"The simple interest value is = \",si)\n",
    "print(\"the Integer Value is = \",int(si))\n"
   ]
  },
  {
   "cell_type": "markdown",
   "id": "5d713585-11c6-4014-9949-9e4b9a8b0920",
   "metadata": {},
   "source": [
    "# HomeWrok \n",
    "You are working at a travel comapany , responsible for the managing passenger information. Due To a techinical glitch in the booking system , \n",
    "some passengers' ages were mistakenly recorded as negetive values , However , age can not be negative , and it is essential to correct this data \n",
    "inconsistancy before further analysis or reporting \n",
    "\n",
    "which funciton you will use to correct the ages of all passengers in the dataset where negative ages were recorded due ti a technical glitch ? "
   ]
  },
  {
   "cell_type": "markdown",
   "id": "6cbf0709-10e8-459b-9d23-93051725078a",
   "metadata": {},
   "source": [
    "Ans : I will use abs function"
   ]
  },
  {
   "cell_type": "code",
   "execution_count": null,
   "id": "7a5b37c1-3f00-4565-96c2-05b4d3c118d6",
   "metadata": {},
   "outputs": [],
   "source": []
  }
 ],
 "metadata": {
  "kernelspec": {
   "display_name": "Python 3 (ipykernel)",
   "language": "python",
   "name": "python3"
  },
  "language_info": {
   "codemirror_mode": {
    "name": "ipython",
    "version": 3
   },
   "file_extension": ".py",
   "mimetype": "text/x-python",
   "name": "python",
   "nbconvert_exporter": "python",
   "pygments_lexer": "ipython3",
   "version": "3.11.7"
  }
 },
 "nbformat": 4,
 "nbformat_minor": 5
}

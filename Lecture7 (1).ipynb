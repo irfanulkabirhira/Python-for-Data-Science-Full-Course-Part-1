{
 "cells": [
  {
   "cell_type": "markdown",
   "id": "3235ebef-682a-4190-8984-c9cc59284c17",
   "metadata": {},
   "source": [
    "# Lecture 7 \n",
    "# Control Flow Statements \n",
    "# if Statement "
   ]
  },
  {
   "cell_type": "code",
   "execution_count": 3,
   "id": "a85f5520-507a-4c84-b014-b2c62d412948",
   "metadata": {},
   "outputs": [
    {
     "name": "stdout",
     "output_type": "stream",
     "text": [
      "Condition is false\n"
     ]
    }
   ],
   "source": [
    "i =20 \n",
    "if i<10: \n",
    "    print(\"20 is greater than 10 \")\n",
    "print(\"Condition is false\")"
   ]
  },
  {
   "cell_type": "markdown",
   "id": "7c51ed9d-faee-4c67-8a76-d02801d60aa5",
   "metadata": {},
   "source": [
    "Quesiton \n",
    "\n",
    "Develop a temperature converter in Python for a cold storage that converts temperature \n",
    "between Celcius and Ferhenhight scales.\n",
    "The Program should take a temperature value and a unit (c or F) as input .\n",
    "if the temperature is less than 15 degree Celcius ,, inform the user that the temperature is not convenient.\n",
    "If the temperature is between 24 to 28 degrees Celcius , inform the user that the temperature is convenient.\n",
    "    "
   ]
  },
  {
   "cell_type": "code",
   "execution_count": 4,
   "id": "3469b903-c473-4277-a9f5-ff124af0868d",
   "metadata": {},
   "outputs": [
    {
     "name": "stdin",
     "output_type": "stream",
     "text": [
      "Enter the temperature 25\n"
     ]
    },
    {
     "name": "stdout",
     "output_type": "stream",
     "text": [
      "Temperature is Convenient\n"
     ]
    }
   ],
   "source": [
    "temp = float(input(\"Enter the temperature\"))\n",
    "if temp<15: \n",
    "     print (\"Temperature is not convenient\")\n",
    "if 24<temp<28: \n",
    "    print(\"Temperature is Convenient\")\n",
    "            \n",
    "              "
   ]
  },
  {
   "cell_type": "markdown",
   "id": "773fd24f-64e1-4c8f-893c-d193ed30dea0",
   "metadata": {},
   "source": [
    "# if else Condition"
   ]
  },
  {
   "cell_type": "markdown",
   "id": "b3e37362-c30e-433f-a13e-f9d6f1e09dcd",
   "metadata": {},
   "source": [
    "Write a program to check whether e person is eligible for voting or not "
   ]
  },
  {
   "cell_type": "code",
   "execution_count": 10,
   "id": "a79fa114-6ebf-4fb9-b488-5d28e2f9a426",
   "metadata": {},
   "outputs": [
    {
     "name": "stdin",
     "output_type": "stream",
     "text": [
      "Enter your age 21\n"
     ]
    },
    {
     "name": "stdout",
     "output_type": "stream",
     "text": [
      "You are eligible to vote\n"
     ]
    }
   ],
   "source": [
    "age = int(input(\"Enter your age\"))\n",
    "if age>18: \n",
    "          print(\"You are eligible to vote\")\n",
    "else:           \n",
    "          print(\"You are not eligible for vote\")"
   ]
  },
  {
   "cell_type": "markdown",
   "id": "c15c896d-341f-4b58-b9d1-f4e86e95f938",
   "metadata": {},
   "source": [
    "Question \n",
    "\n",
    "You are tasked with developing a python program to manage employee salarees for a company .\n",
    "Your program should calculate the net salary of each employee based on their base salary , \n",
    "duductions , and bonuses . Additionally , employees who have been with the company for more than\n",
    "5 years are eligible for an additional loyalty bonus , 8% of salary .\n",
    "Deductions of tax will be 12%\n",
    "                    \n",
    "write a python script that promts the user to input the following information for each employee: \n",
    "\n",
    "base Salary \n",
    "                                                                 \n",
    "Yeears of Service\n",
    "\n",
    "After Calculating the net salary , \n",
    "The program should print the summary for each employee , including their base salary , deductions , bonuses, \n",
    "loyalty bonus (if applicable) , and net salary .\n",
    "                                                                        "
   ]
  },
  {
   "cell_type": "code",
   "execution_count": 12,
   "id": "6105b5c6-3a6c-4af6-8417-7e1d76fffe71",
   "metadata": {},
   "outputs": [
    {
     "name": "stdin",
     "output_type": "stream",
     "text": [
      "Enter your base salary 12000\n",
      "Enter Your years of Service 6\n"
     ]
    },
    {
     "name": "stdout",
     "output_type": "stream",
     "text": [
      "You will get net salary 11520.0\n"
     ]
    }
   ],
   "source": [
    "base_salary = float(input(\"Enter your base salary\"))\n",
    "years_of_service = int(input(\"Enter Your years of Service\"))\n",
    "if years_of_service>5:\n",
    "    total_salary =base_salary + (0.08*base_salary)-(0.12*base_salary)\n",
    "    print(\"You will get net salary\", total_salary)\n",
    "else: \n",
    "    net_salary =base_salary - (0.12*base_salary)\n",
    "    print(\"your net salary is \", net_salary)"
   ]
  },
  {
   "cell_type": "markdown",
   "id": "182ae180-c524-414a-81da-f28be5d15c18",
   "metadata": {},
   "source": [
    "# If else Conditoin "
   ]
  },
  {
   "cell_type": "markdown",
   "id": "2c506d5e-2de2-4ede-a265-0c1a3f0b3e69",
   "metadata": {},
   "source": [
    "Question \n",
    "\n",
    "Write a python program that promts the user to input a city and display the famous monument of that city .\n",
    "\n",
    "Mumbai : Gateway of Inida\n",
    "\n",
    "Kolkata : Victory Memorial \n",
    "\n",
    "Chennai : Marina Beach \n",
    "\n",
    "Bangalore : Botanical Garden \n",
    "\n",
    "Pune : Shaniwar Wada \n",
    "\n",
    "Write a python script to implement the functionality ."
   ]
  },
  {
   "cell_type": "code",
   "execution_count": null,
   "id": "c25104a4-c197-4bc9-8c6e-3dfd0f9e13ac",
   "metadata": {},
   "outputs": [],
   "source": [
    "a = input(\"enter your city \")\n",
    "if a==\"Mumbai\": \n",
    "    print(\"The famous Monoment is gat way of India \")\n",
    "elif a==\"Kolkata\":\n",
    "    print(\"The famous Monoment is Victory Memorial\")\n",
    "elif a==\"Chennai\":\n",
    "    print(\"The famous Monoment is Marina Beach\")\n",
    "elif a==\"Bangalore\":\n",
    "    print(\"The famous Monoment is Botanical garder\")\n",
    "elif a==\"Pune\":\n",
    "    print(\"The famous Monoment is shaniwar wada\")\n",
    "else : \n",
    "    print(\"No record is Found\")"
   ]
  },
  {
   "cell_type": "code",
   "execution_count": null,
   "id": "b18453fa-c94c-4be6-a307-d078fb875cdd",
   "metadata": {},
   "outputs": [],
   "source": []
  }
 ],
 "metadata": {
  "kernelspec": {
   "display_name": "Python 3 (ipykernel)",
   "language": "python",
   "name": "python3"
  },
  "language_info": {
   "codemirror_mode": {
    "name": "ipython",
    "version": 3
   },
   "file_extension": ".py",
   "mimetype": "text/x-python",
   "name": "python",
   "nbconvert_exporter": "python",
   "pygments_lexer": "ipython3",
   "version": "3.11.7"
  }
 },
 "nbformat": 4,
 "nbformat_minor": 5
}

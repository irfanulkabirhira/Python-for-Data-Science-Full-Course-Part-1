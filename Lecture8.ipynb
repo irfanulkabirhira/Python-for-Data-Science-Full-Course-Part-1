{
 "cells": [
  {
   "cell_type": "markdown",
   "id": "a18d70a9-8596-464a-b5a0-9b47e07fe6c6",
   "metadata": {},
   "source": [
    "# Lecture 8 Loops\n",
    "# While Loops"
   ]
  },
  {
   "cell_type": "code",
   "execution_count": 1,
   "id": "3af51704-9dfe-49bf-bf8f-9fc8720e66f2",
   "metadata": {},
   "outputs": [
    {
     "name": "stdout",
     "output_type": "stream",
     "text": [
      "1\n",
      "2\n",
      "3\n",
      "4\n",
      "5\n"
     ]
    }
   ],
   "source": [
    "count = 1\n",
    "while count<=5:\n",
    "    print (count)\n",
    "    count=count+1"
   ]
  },
  {
   "cell_type": "markdown",
   "id": "1c02c9cc-cb86-4fd4-bdad-2316a0bfb0ca",
   "metadata": {},
   "source": [
    "# Write a python progtam to print all the even numbers between 1 and 50 using a while loop "
   ]
  },
  {
   "cell_type": "code",
   "execution_count": 2,
   "id": "6f4af2a2-9a21-4120-9964-70ff416cec60",
   "metadata": {},
   "outputs": [
    {
     "name": "stdout",
     "output_type": "stream",
     "text": [
      "2\n",
      "4\n",
      "6\n",
      "8\n",
      "10\n",
      "12\n",
      "14\n",
      "16\n",
      "18\n",
      "20\n",
      "22\n",
      "24\n",
      "26\n",
      "28\n",
      "30\n",
      "32\n",
      "34\n",
      "36\n",
      "38\n",
      "40\n",
      "42\n",
      "44\n",
      "46\n",
      "48\n"
     ]
    }
   ],
   "source": [
    "count = 1\n",
    "while count<50:\n",
    "    if count%2==0:\n",
    "        print(count)\n",
    "    count=count+1"
   ]
  },
  {
   "cell_type": "markdown",
   "id": "7f81f073-224b-46aa-bea0-0b1c600b4b54",
   "metadata": {},
   "source": [
    "# while loop , using if else \n"
   ]
  },
  {
   "cell_type": "raw",
   "id": "7635f672-6d5d-4823-93d7-5473ed239597",
   "metadata": {},
   "source": [
    "you are taked with validating user input for emial address . \n",
    "Write a python program that promts the user to enter an emial address .\n",
    "Use a while loop to iterate through the input and check if the email address contains and '@' and '.' symbol. \n",
    "If the email address does not meet this criteria , print \"Invalid emial address format. please try again \". \n",
    "Otherwise , Print emial address validation passed "
   ]
  },
  {
   "cell_type": "code",
   "execution_count": 3,
   "id": "efa25792-f821-4327-801e-b2eb45175470",
   "metadata": {},
   "outputs": [
    {
     "name": "stdin",
     "output_type": "stream",
     "text": [
      "Please enter your mail Address hira132@gmail.com\n"
     ]
    },
    {
     "name": "stdout",
     "output_type": "stream",
     "text": [
      "Emial Address validation passed\n"
     ]
    }
   ],
   "source": [
    "email = input(\"Please enter your mail Address\")\n",
    "#Initilization a flag track validation status\n",
    "valid_email = False\n",
    "\n",
    "#start the loop \n",
    "while not valid_email: \n",
    "    #check if emial contains \"a\" and \".\"\n",
    "    if \"@\"in email and \".\" in email:\n",
    "        print (\"Emial Address validation passed\")\n",
    "        valid_email=True \n",
    "    else:\n",
    "        print(\"Invalid email Address , please try again\")\n",
    "        email=input(\"please enter your Mail address\")"
   ]
  },
  {
   "cell_type": "code",
   "execution_count": null,
   "id": "13670d36-8f3a-4365-b41b-10500f9081a5",
   "metadata": {},
   "outputs": [],
   "source": []
  }
 ],
 "metadata": {
  "kernelspec": {
   "display_name": "Python 3 (ipykernel)",
   "language": "python",
   "name": "python3"
  },
  "language_info": {
   "codemirror_mode": {
    "name": "ipython",
    "version": 3
   },
   "file_extension": ".py",
   "mimetype": "text/x-python",
   "name": "python",
   "nbconvert_exporter": "python",
   "pygments_lexer": "ipython3",
   "version": "3.11.7"
  }
 },
 "nbformat": 4,
 "nbformat_minor": 5
}

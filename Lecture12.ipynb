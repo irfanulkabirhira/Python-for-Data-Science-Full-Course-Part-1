{
 "cells": [
  {
   "cell_type": "markdown",
   "id": "27464bb2-6578-4251-9f2c-9fc60022edf6",
   "metadata": {},
   "source": [
    "# Lecture 12\n",
    "# String in python -part 1\n",
    "# Creating string in python "
   ]
  },
  {
   "cell_type": "code",
   "execution_count": 1,
   "id": "36acf48e-ddcb-42ac-8dd2-8440b2760bb9",
   "metadata": {},
   "outputs": [
    {
     "name": "stdout",
     "output_type": "stream",
     "text": [
      "learners\n",
      "<class 'str'>\n"
     ]
    }
   ],
   "source": [
    "a = 'learners'\n",
    "print (a)\n",
    "print(type(a))"
   ]
  },
  {
   "cell_type": "code",
   "execution_count": 2,
   "id": "86cd33e1-1460-42d9-9570-8e27fc0ead56",
   "metadata": {},
   "outputs": [
    {
     "name": "stdout",
     "output_type": "stream",
     "text": [
      "Students\n",
      "<class 'str'>\n"
     ]
    }
   ],
   "source": [
    "b = \"Students\"\n",
    "print(b)\n",
    "print(type(b))\n"
   ]
  },
  {
   "cell_type": "code",
   "execution_count": 3,
   "id": "0f699e55-fc61-42ed-afb2-3ec5c33db7c8",
   "metadata": {},
   "outputs": [
    {
     "name": "stdout",
     "output_type": "stream",
     "text": [
      "I am Hira \n",
      "this is my first class\n"
     ]
    }
   ],
   "source": [
    "str = \"I am Hira \\nthis is my first class\"\n",
    "print(str)"
   ]
  },
  {
   "cell_type": "markdown",
   "id": "7593193f-5ab4-4aa8-a7ea-f2e45a16455e",
   "metadata": {},
   "source": [
    "# Multiline Strings"
   ]
  },
  {
   "cell_type": "code",
   "execution_count": 4,
   "id": "d9fe794d-f8ee-471e-bcb5-bd67abf48498",
   "metadata": {},
   "outputs": [
    {
     "name": "stdout",
     "output_type": "stream",
     "text": [
      "Python is a high-level, general-purpose programming language. \n",
      "Its design philosophy emphasizes code readability with the use of significant indentation. \n",
      "Python is dynamically typed and garbage-collected. It supports multiple programming paradigms,\n",
      "including structured, object-oriented and functional programming. \n"
     ]
    }
   ],
   "source": [
    "a = \"\"\"Python is a high-level, general-purpose programming language. \n",
    "Its design philosophy emphasizes code readability with the use of significant indentation. \n",
    "Python is dynamically typed and garbage-collected. It supports multiple programming paradigms,\n",
    "including structured, object-oriented and functional programming. \"\"\"\n",
    "print(a)"
   ]
  },
  {
   "cell_type": "markdown",
   "id": "3a3cd0d3-2ee1-47df-b9a4-afc02595e87c",
   "metadata": {},
   "source": [
    "# Indexing of Strings"
   ]
  },
  {
   "cell_type": "code",
   "execution_count": 7,
   "id": "3c7763dd-6f8f-45e1-8649-77c6f9be3b0e",
   "metadata": {},
   "outputs": [
    {
     "name": "stdout",
     "output_type": "stream",
     "text": [
      "h\n",
      "e\n",
      "l\n",
      "l\n",
      "o\n",
      " \n"
     ]
    }
   ],
   "source": [
    "a =\"hello dear learners\" \n",
    "print(a[0])\n",
    "print(a[1])\n",
    "print(a[2])\n",
    "print(a[3])\n",
    "print(a[4])\n",
    "print(a[5])"
   ]
  },
  {
   "cell_type": "code",
   "execution_count": 9,
   "id": "187c9f80-34a7-46fc-bb4f-1e8329e340dd",
   "metadata": {},
   "outputs": [
    {
     "name": "stdout",
     "output_type": "stream",
     "text": [
      "s\n",
      "r\n",
      "e\n",
      "n\n",
      "r\n"
     ]
    }
   ],
   "source": [
    "a =\"hello dear learners\" \n",
    "print(a[-1])\n",
    "print(a[-2])\n",
    "print(a[-3])\n",
    "print(a[-4])\n",
    "print(a[-5])"
   ]
  },
  {
   "cell_type": "code",
   "execution_count": 12,
   "id": "4501f074-5823-4a2e-afc9-e84fe58a2f4d",
   "metadata": {},
   "outputs": [
    {
     "name": "stdout",
     "output_type": "stream",
     "text": [
      "d l e\n"
     ]
    }
   ],
   "source": [
    "b = \"Data science is the growing field\"\n",
    "print(b[-1], b[-2] , b[-3])"
   ]
  },
  {
   "cell_type": "markdown",
   "id": "ff4e7c89-023b-476e-85af-14df616ffedf",
   "metadata": {},
   "source": [
    "# Slicing "
   ]
  },
  {
   "cell_type": "code",
   "execution_count": 16,
   "id": "92c70d2e-a393-48e9-b6c4-b106a582a780",
   "metadata": {},
   "outputs": [
    {
     "name": "stdout",
     "output_type": "stream",
     "text": [
      "i am lea\n"
     ]
    }
   ],
   "source": [
    "a=\"i am learing data Science\"\n",
    "print (a[0:8])"
   ]
  },
  {
   "cell_type": "markdown",
   "id": "bd0e5a87-5679-473f-9ca9-32c1cab569c0",
   "metadata": {},
   "source": [
    "# Slicing with Jump"
   ]
  },
  {
   "cell_type": "code",
   "execution_count": 18,
   "id": "f55c5b98-6c89-465a-925b-442799559161",
   "metadata": {},
   "outputs": [
    {
     "name": "stdout",
     "output_type": "stream",
     "text": [
      "ia en\n"
     ]
    }
   ],
   "source": [
    "a= \"i am leaning Data Science\"\n",
    "print (a[0:10:2])\n"
   ]
  },
  {
   "cell_type": "code",
   "execution_count": 19,
   "id": "5c8683ad-a8f1-427b-af83-78d5127c11dc",
   "metadata": {},
   "outputs": [
    {
     "name": "stdout",
     "output_type": "stream",
     "text": [
      "ia enn aaSine\n"
     ]
    }
   ],
   "source": [
    "a= \"i am leaning Data Science\"\n",
    "print (a[::2])"
   ]
  },
  {
   "cell_type": "markdown",
   "id": "79e57a65-040a-4964-8c15-08b41bdfc999",
   "metadata": {},
   "source": [
    "# Negetive Slicing With Jump"
   ]
  },
  {
   "cell_type": "code",
   "execution_count": 22,
   "id": "c1b9a963-b9a9-4e51-bf1b-cb9dfdc185b1",
   "metadata": {},
   "outputs": [
    {
     "name": "stdout",
     "output_type": "stream",
     "text": [
      "ing Data Scienc\n"
     ]
    }
   ],
   "source": [
    "a= \"i am leaning Data Science\"\n",
    "print (a[-16:-1])"
   ]
  },
  {
   "cell_type": "markdown",
   "id": "c66d75be-e77e-4d0e-913c-f08b16e9b749",
   "metadata": {},
   "source": [
    "# Pracrise Question "
   ]
  },
  {
   "cell_type": "code",
   "execution_count": null,
   "id": "8207fcad-296b-4659-a5b6-cf306e89282e",
   "metadata": {},
   "outputs": [],
   "source": [
    "Question 1 :\n",
    "Write a python function that takes a date stirng in the format \"YYYY-MM-DD\"\n",
    "and returns a tuple containing the year , month , and day as integers.\n",
    "\n",
    "Example Input : \"2024-05-28\"\n",
    "Expexted Output : (2021,5,28)"
   ]
  },
  {
   "cell_type": "code",
   "execution_count": 28,
   "id": "baeb12ed-7df4-4a47-bcdc-77cd1ceb0527",
   "metadata": {},
   "outputs": [],
   "source": [
    "#we will use the concept of slicing \n",
    "\n",
    "def extract_date_parts(date_string):\n",
    "    year = int(date_string[0:4])\n",
    "    month = int(date_string[5:7])\n",
    "    day = int(date_string[8:])\n",
    "    return (year,month,day)\n",
    "    \n",
    "\n",
    "\n",
    "    "
   ]
  },
  {
   "cell_type": "code",
   "execution_count": 29,
   "id": "6cf7b27c-f510-4184-8fed-cbad0f7a5c26",
   "metadata": {},
   "outputs": [
    {
     "data": {
      "text/plain": [
       "(2024, 5, 28)"
      ]
     },
     "execution_count": 29,
     "metadata": {},
     "output_type": "execute_result"
    }
   ],
   "source": [
    "extract_date_parts(\"2024-05-28\")"
   ]
  },
  {
   "cell_type": "markdown",
   "id": "0e77d99b-2a3b-44f6-af37-77f830c079a7",
   "metadata": {},
   "source": [
    "# String Reverse "
   ]
  },
  {
   "cell_type": "code",
   "execution_count": null,
   "id": "33223f72-5df9-4197-817d-e63f22387806",
   "metadata": {},
   "outputs": [],
   "source": [
    "Question 2: \n",
    "Write a python program to reverse the string\"honesty is the best policy\" "
   ]
  },
  {
   "cell_type": "code",
   "execution_count": 31,
   "id": "919a96e4-c295-4da5-9902-d8fcba2d4917",
   "metadata": {},
   "outputs": [
    {
     "name": "stdout",
     "output_type": "stream",
     "text": [
      "ycilop tseb eht si ytsenoh\n"
     ]
    }
   ],
   "source": [
    "str =\"honesty is the best policy\"\n",
    "print(str[::-1])"
   ]
  },
  {
   "cell_type": "code",
   "execution_count": null,
   "id": "7b09fd11-d723-4705-9e53-fbe7ad8f0115",
   "metadata": {},
   "outputs": [],
   "source": [
    "Question 3 : \n",
    "Write a python funciton that takes a string as input and returns the substring from the 3rd to the 8th character\n",
    "\n",
    "\"Data Science\"\n",
    "\"Hello World, I am Learning Python\"\n",
    "\"All the best\""
   ]
  },
  {
   "cell_type": "code",
   "execution_count": 32,
   "id": "b3a78b9d-fa51-490c-88f4-7b37d3b83b8d",
   "metadata": {},
   "outputs": [
    {
     "name": "stdout",
     "output_type": "stream",
     "text": [
      "ta Sci\n",
      "llo Wo\n",
      "l the \n"
     ]
    }
   ],
   "source": [
    "def get_substring(input_string):\n",
    "    \"\"\"Returns the substring from the 3rd to the 8th character.\"\"\"\n",
    "    return input_string[2:8]\n",
    "\n",
    "# Test cases\n",
    "print(get_substring(\"Data Science\"))                 # Output: \"ta Sci\"\n",
    "print(get_substring(\"Hello World, I am Learning Python\"))  # Output: \"llo Wo\"\n",
    "print(get_substring(\"All the best\"))                 # Output: \"l the \"\n"
   ]
  },
  {
   "cell_type": "code",
   "execution_count": null,
   "id": "ab194aba-47ca-43e6-9615-7d49e4056cfc",
   "metadata": {},
   "outputs": [],
   "source": []
  }
 ],
 "metadata": {
  "kernelspec": {
   "display_name": "Python 3 (ipykernel)",
   "language": "python",
   "name": "python3"
  },
  "language_info": {
   "codemirror_mode": {
    "name": "ipython",
    "version": 3
   },
   "file_extension": ".py",
   "mimetype": "text/x-python",
   "name": "python",
   "nbconvert_exporter": "python",
   "pygments_lexer": "ipython3",
   "version": "3.11.7"
  }
 },
 "nbformat": 4,
 "nbformat_minor": 5
}

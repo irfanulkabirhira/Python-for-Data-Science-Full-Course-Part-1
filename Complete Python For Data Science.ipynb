{
 "cells": [
  {
   "cell_type": "markdown",
   "id": "31f3894a-591e-49b4-a8be-cdcd05657b09",
   "metadata": {},
   "source": [
    "# Basic of Python "
   ]
  },
  {
   "cell_type": "code",
   "execution_count": 33,
   "id": "0ff7efea-01ce-4395-91e5-bbb9f11b2777",
   "metadata": {},
   "outputs": [
    {
     "name": "stdout",
     "output_type": "stream",
     "text": [
      "[1, 2, 3, 5]\n",
      "<class 'list'>\n",
      "True\n",
      "<class 'bool'>\n",
      "this is = True\n",
      "This is = 5\n",
      "The Value of a is = 2\n",
      "<class 'int'>\n",
      "a+b = 3.5\n",
      "My Name is Hira\n",
      "The Multiplication of hello for 5 times is =  hellohellohellohellohello\n",
      "This is a complex number = (2+3j)\n",
      "<class 'complex'>\n",
      "\n",
      "\n",
      "Variable     Type       Data/Info\n",
      "---------------------------------\n",
      "M            bool       True\n",
      "a            int        2\n",
      "a1           str        hello\n",
      "b            float      1.5\n",
      "b1           str        Student\n",
      "c            str        My Name is Hira\n",
      "c1           str        hello Student\n",
      "first_name   str        Jhon\n",
      "k            bool       False\n",
      "last_name    str        Doe\n",
      "num          list       n=4\n",
      "num1         bool       True\n",
      "str          str        hello\n",
      "v            complex    (2+3j)\n",
      "x            int        4\n",
      "y            int        5\n"
     ]
    }
   ],
   "source": [
    "num = [1,2,3,5 ] #List Data Type\n",
    "print(num)\n",
    "print(type(num))\n",
    "\n",
    "num1=True #Boolean Data Type\n",
    "print(num1)\n",
    "print(type(num1))\n",
    "\n",
    "#Comparison Operator \n",
    "x=4\n",
    "y=5\n",
    "print(\"this is =\",x!=y)\n",
    "\n",
    "#Logical Operator\n",
    "M = True \n",
    "k = False \n",
    "print (\"This is =\",x  and y)\n",
    "\n",
    "a=2 #Int Data Type\n",
    "print (\"The Value of a is =\",a)\n",
    "print(type(a))\n",
    "\n",
    "b=1.5 #Float Data Type\n",
    "print(\"a+b =\",a+b)\n",
    "\n",
    "c=\"My Name is Hira\" #Sting Data Type\n",
    "print(c)\n",
    "\n",
    "# If we want we can Multiply String Type Data Type by a Nuber Valeu(1 , 2....etc)\n",
    "# But it's Possible to Multiply Two String at a time such that (hello*hello) -> Not possible\n",
    "str=\"hello\" \n",
    "print (\"The Multiplication of hello for 5 times is = \",str*5) \n",
    "\n",
    "v=2+3j # Complex Data type\n",
    "print (\"This is a complex number =\",v)\n",
    "print(type(v))\n",
    "\n",
    "print(\"\\n\")\n",
    "#To show all the data type that I have used on this code we use \"%whos\"\n",
    "%whos  "
   ]
  },
  {
   "cell_type": "markdown",
   "id": "fb75f50c-a960-4db8-952b-a377ab82aed8",
   "metadata": {},
   "source": [
    "# Exponent Function "
   ]
  },
  {
   "cell_type": "code",
   "execution_count": 25,
   "id": "650fae0d-2ace-4804-bcc2-6d606c9668ce",
   "metadata": {},
   "outputs": [
    {
     "name": "stdout",
     "output_type": "stream",
     "text": [
      "The Expoent of 5*5 = 25\n",
      "The Expoent of 5*5*5 = 125\n",
      "The Expoent of 5*5*5*5 = 625\n"
     ]
    }
   ],
   "source": [
    "print(\"The Expoent of 5*5 =\",5**2)\n",
    "print(\"The Expoent of 5*5*5 =\",5**3)\n",
    "print(\"The Expoent of 5*5*5*5 =\",5**4)"
   ]
  },
  {
   "cell_type": "markdown",
   "id": "87880f40-2306-4879-881b-46a671bfdbcf",
   "metadata": {},
   "source": [
    "# String Concatenate"
   ]
  },
  {
   "cell_type": "code",
   "execution_count": 24,
   "id": "3e195788-496f-4724-aae1-63b87cf0c6e7",
   "metadata": {},
   "outputs": [
    {
     "name": "stdout",
     "output_type": "stream",
     "text": [
      "After Contatenate these Two string we Find = hello Student\n"
     ]
    }
   ],
   "source": [
    "a1=\"hello\"\n",
    "b1=\"Student\"\n",
    "c1=a1+\" \"+b1\n",
    "print(\"After Contatenate these Two string we Find =\",c1)"
   ]
  },
  {
   "cell_type": "markdown",
   "id": "d1d609a4-7e04-4c6b-bbf0-c0c2ca0f3dd7",
   "metadata": {},
   "source": [
    "Question 1\n",
    "\n",
    "Imagine you are Working on a customer management System ,\n",
    "And you have the first name and last name of a customer stored as separete variable. \n",
    "You are developing a customer management system for a retail store. \n",
    "In your Database, you have the first name and last name of a customer stored as \n",
    "separete variables: first_name =\"Jhon\" last_name =\"Doe\".\n",
    "\n",
    "How would you Concatenate these strings to form the full name \"Jhon Doe\" for the customer's profile."
   ]
  },
  {
   "cell_type": "code",
   "execution_count": 26,
   "id": "11f5dad4-1e9b-4a19-afc9-5a5b702e2004",
   "metadata": {},
   "outputs": [
    {
     "name": "stdout",
     "output_type": "stream",
     "text": [
      "Jhon Doe\n"
     ]
    }
   ],
   "source": [
    "# Ans : \n",
    "first_name = \"Jhon\"\n",
    "last_name = \"Doe\"\n",
    "print(first_name+\" \"+last_name)"
   ]
  },
  {
   "cell_type": "raw",
   "id": "4152be6f-4093-49f9-a9a6-35a500044a66",
   "metadata": {},
   "source": [
    "Question 1 \n",
    "\n",
    "You have a Data containing two records:\"Quantity\" and \"Price per unit\".\n",
    "How would you use arithmetic operators to calculate the total cost for item, also calculate the total Cost ? \n",
    "Product 1, Quantity=5, price per unit=Rs 250.\n",
    "product 2 ,Quantity=25 ,price per unit=Rs 656. \n",
    "product 3 ,Quantity=34 ,price per unit=Rs 274."
   ]
  },
  {
   "cell_type": "code",
   "execution_count": 41,
   "id": "ea40283f-c79d-4f9e-ab2c-08abee6bbbd4",
   "metadata": {},
   "outputs": [
    {
     "name": "stdout",
     "output_type": "stream",
     "text": [
      "For Product 1 the Total Price is = 1250 Rs\n",
      "For Product 2 the Total Price is = 16400 Rs\n",
      "For Product 3 the Total Price is = 9316 Rs\n",
      "In total Price is = 26966 Rs\n"
     ]
    }
   ],
   "source": [
    "#For Product 1:\n",
    "Qunatity1=5\n",
    "price_per_unit1=250\n",
    "total_price_product_1=Qunatity1*price_per_unit1\n",
    "print(\"For Product 1 the Total Price is =\",Qunatity1*price_per_unit,\"Rs\")\n",
    "Qunatity2=25\n",
    "price_per_unit2=656\n",
    "total_price_product_2=Qunatity2*price_per_unit2\n",
    "print(\"For Product 2 the Total Price is =\",Qunatity2*price_per_unit2,\"Rs\")\n",
    "Qunatity3=34\n",
    "price_per_unit3=274\n",
    "total_price_product_3=Qunatity3*price_per_unit3\n",
    "print(\"For Product 3 the Total Price is =\",Qunatity3*price_per_unit3,\"Rs\")\n",
    "\n",
    "print (\"In total Price is =\",total_price_product_1+total_price_product_2+total_price_product_3,\"Rs\")"
   ]
  },
  {
   "cell_type": "raw",
   "id": "e986bf9a-0409-4f15-b6ba-d68c9c0fc1f4",
   "metadata": {},
   "source": [
    "Question 2 \n",
    "\n",
    "In a Finance based organization,The task is to calculate the simple interest \n",
    "Given the principle amount,interest rate and time period,\n",
    "The interest rate is 8%, the principal amount is Rs 15,00,000, and the time period is 3 years, calculate the simple interest. Also,the threshold amount is Rs 1,20,000 \n",
    "Please check, if the calculated interest is greater or less than the threshold Amount."
   ]
  },
  {
   "cell_type": "code",
   "execution_count": 46,
   "id": "38d9da90-addf-4e61-b0f6-667e134f0f19",
   "metadata": {},
   "outputs": [
    {
     "name": "stdout",
     "output_type": "stream",
     "text": [
      "The Simple Interest Rate is = 360000.0\n",
      "The Threshold amount and Simple Interest are equal = False\n",
      "The Threshold amount is getter than the Simple Interest = False\n",
      "The Threshold amount is less than the Simple Interest = True\n"
     ]
    }
   ],
   "source": [
    "principle_amount=1500000\n",
    "time_period=3\n",
    "interest_rate=8\n",
    "simple_interest=(principle_amount*time_period*interest_rate)/100\n",
    "print(\"The Simple Interest Rate is =\",simple_interest)\n",
    "threshol_amount=120000\n",
    "print(\"The Threshold amount and Simple Interest are equal =\",threshol_amount==simple_interest)\n",
    "print(\"The Threshold amount is getter than the Simple Interest =\",threshol_amount>simple_interest)\n",
    "print(\"The Threshold amount is less than the Simple Interest =\",threshol_amount<simple_interest)"
   ]
  },
  {
   "cell_type": "markdown",
   "id": "7987c5d2-6f1e-408b-8e54-a5df6448310e",
   "metadata": {},
   "source": [
    "# Build in function "
   ]
  },
  {
   "cell_type": "markdown",
   "id": "2d536e83-524b-4652-b060-13235242e0da",
   "metadata": {},
   "source": [
    "Convert a Float type function into Int type fuction  "
   ]
  },
  {
   "cell_type": "code",
   "execution_count": 94,
   "id": "e76777ba-c2a6-48f3-a2dd-97b9b8343637",
   "metadata": {},
   "outputs": [
    {
     "name": "stdout",
     "output_type": "stream",
     "text": [
      "This 10 is now in Integer type value = <class 'int'>\n",
      "this 10 is now in float type value= <class 'float'>\n",
      "This is 3.1416 is always a String type Value <class 'str'>\n",
      "This 3.1416 is now in float type Value <class 'float'>\n",
      "this is now complex function (2+3j)\n",
      "This -23 is turn into positive value hehe = 23\n",
      "The lenth of this 6\n",
      "The Binary Reprsentaion of 10 is = 0b1010\n",
      "The sum of the list is= 5474\n",
      "The total after adding 10 with the list is= 25\n",
      "The expression after the calculation  5864.0\n"
     ]
    }
   ],
   "source": [
    "num_int =10 \n",
    "print(\"This 10 is now in Integer type value =\",(type(num_int)))\n",
    "#let's Convert 10 into Float type\n",
    "a=float(num_int)\n",
    "print(\"this 10 is now in float type value=\",(type(a)))\n",
    "\n",
    "#let's Convert string type data to float type data \n",
    "hm=\"3.1416\" # String type\n",
    "print(\"This is 3.1416 is always a String type Value\",(type(hm)))\n",
    "b=float(hm) # Converted into FLoat type\n",
    "print(\"This 3.1416 is now in float type Value\",(type(b)))\n",
    "\n",
    "#let's Learn [ Comp ] Build in funciton \n",
    "comp = complex(2,3)\n",
    "print(\"this is now complex function\",comp)\n",
    "\n",
    "#let's learn About [ Abs ] Funciton \n",
    "x=-23\n",
    "print(\"This -23 is turn into positive value hehe =\",abs(x))\n",
    "\n",
    "#let's learn [ Len ] Funciton \n",
    "c= [12,15, 7, 8 , 9 , 2 ]\n",
    "print (\"The lenth of this\",len(c))\n",
    "\n",
    "#let's Learn [ Bin ] Function \n",
    "#as a string prefixed with '0b', \n",
    "binary_representation =bin(10) \n",
    "print(\"The Binary Reprsentaion of 10 is =\",binary_representation) \n",
    "\n",
    "#sum Function \n",
    "my_list = [ 7, 8, 9 , 5, 34 , 34 , 43 , 5334 ]\n",
    "a = sum(my_list)\n",
    "print(\"The sum of the list is=\",a)\n",
    "list = [1, 2 , 3, 4, 5 ]\n",
    "starting_value = 10 \n",
    "total = sum(list, starting_value)\n",
    "print(\"The total after adding 10 with the list is=\",total)\n",
    "\n",
    "#Eval Funciton \n",
    "x = 10 \n",
    "y = 5\n",
    "expression = \"234*25+63 -98/2\"\n",
    "print (\"The expression after the calculation \",eval(expression))"
   ]
  },
  {
   "cell_type": "markdown",
   "id": "42b4ad43-014b-4db9-897f-bbef3840f12e",
   "metadata": {},
   "source": [
    "# Input Function "
   ]
  },
  {
   "cell_type": "code",
   "execution_count": 95,
   "id": "0f91462e-a6d2-4890-9435-58a2eb7b5d00",
   "metadata": {},
   "outputs": [
    {
     "name": "stdin",
     "output_type": "stream",
     "text": [
      "enter your name  hira\n"
     ]
    },
    {
     "name": "stdout",
     "output_type": "stream",
     "text": [
      "name entered by user is  hira\n",
      "<class 'str'>\n"
     ]
    },
    {
     "name": "stdin",
     "output_type": "stream",
     "text": [
      "enter your age please 20\n"
     ]
    },
    {
     "name": "stdout",
     "output_type": "stream",
     "text": [
      "age of user is  20\n",
      "<class 'str'>\n"
     ]
    }
   ],
   "source": [
    "name = input (\"enter your name \" ) \n",
    "print (\"name entered by user is \",name )\n",
    "print (type(name ))\n",
    "\n",
    "age = input(\"enter your age please\")\n",
    "print(\"age of user is \", age )\n",
    "print(type(age))"
   ]
  },
  {
   "cell_type": "raw",
   "id": "ea2ed532-abda-4274-b7b5-f332d81b6bad",
   "metadata": {},
   "source": [
    "Question 1: \n",
    "get two numbers from the user and calculate their sum"
   ]
  },
  {
   "cell_type": "code",
   "execution_count": 98,
   "id": "6809768d-4074-47c7-ac76-dcc9d0fe5b80",
   "metadata": {},
   "outputs": [
    {
     "name": "stdin",
     "output_type": "stream",
     "text": [
      "enter the first value 10\n",
      "enter the 2nd value 20\n"
     ]
    },
    {
     "name": "stdout",
     "output_type": "stream",
     "text": [
      "The sum of a1 and a2 number is = 30\n"
     ]
    }
   ],
   "source": [
    "a1=input(\"enter the first value\")\n",
    "b1=int(a1)\n",
    "a2=input(\"enter the 2nd value\")\n",
    "b2=int(a2)\n",
    "sum = b1 + b2\n",
    "print(\"The sum of a1 and a2 number is =\",sum)"
   ]
  },
  {
   "cell_type": "raw",
   "id": "38e34071-24a6-4cd7-a8d1-c65e3fe0ee80",
   "metadata": {},
   "source": [
    "Qustion 2: \n",
    "\n",
    "As part of your role in a data-driven project, you need to take input from the user for their age , wight ,and height .However , there's \n",
    "an issue : \n",
    "the user has entered their age as a negetive number .\n",
    "You need to correct the age of the user  and after correcting the age , calculating their Basal Metabolic Rate (BMR) \n",
    "using the Harris-Benedict equaiton for men .\n",
    "Ensure that the final answer of BMR is an integer.\n",
    "\n",
    "Basel Metabolic Rate (BMR) : \n",
    "Formula ( Harries Benedict equaion for men ) : \n",
    "BMR = 88.362 + (13.397 * weight in kg ) + ( 4.799*height  in cm ) - ( 5.677 * age in years) "
   ]
  },
  {
   "cell_type": "code",
   "execution_count": 99,
   "id": "4c25667e-7f58-4ec2-a449-b730e19b171b",
   "metadata": {},
   "outputs": [
    {
     "name": "stdin",
     "output_type": "stream",
     "text": [
      "enter the age 20\n",
      "enter the weight 55\n",
      "Enter the Hight 5.5\n"
     ]
    },
    {
     "name": "stdout",
     "output_type": "stream",
     "text": [
      "The Corrent age of user  =  20\n",
      "Print the BMR of the patient is  738\n"
     ]
    }
   ],
   "source": [
    "age=int(input(\"enter the age\"))\n",
    "weight=int(input(\"enter the weight\"))\n",
    "height = float(input(\"Enter the Hight\"))\n",
    "correct_age = abs(age) \n",
    "print(\"The Corrent age of user  = \", correct_age)\n",
    "\n",
    "BMR = \"88.362 + (13.397 * weight ) + ( 4.799*height ) - ( 5.677 * age ) \"\n",
    "bmr = eval (BMR)\n",
    "print (\"Print the BMR of the patient is \",int(bmr))"
   ]
  },
  {
   "cell_type": "markdown",
   "id": "fd0f5899-1c7c-49f3-885b-918ca2ab37d2",
   "metadata": {},
   "source": [
    "Question 3 \n",
    "Write a python code for hostel student , ask them to mention thier couruses name and age,\n",
    "for 5 students and calculate thier avg age ."
   ]
  },
  {
   "cell_type": "code",
   "execution_count": 100,
   "id": "9d56216f-d036-4c3a-9894-a825b7db9a11",
   "metadata": {},
   "outputs": [
    {
     "name": "stdin",
     "output_type": "stream",
     "text": [
      "Enter his age is  20\n",
      "Enter his age is  21\n",
      "Enter his age is  22\n",
      "Enter his age is  23\n",
      "Enter his age is  24\n"
     ]
    },
    {
     "name": "stdout",
     "output_type": "stream",
     "text": [
      "The average age of 5 students is :  22.0\n"
     ]
    }
   ],
   "source": [
    "student1 = int(input(\"Enter his age is \"))\n",
    "student2 = int(input(\"Enter his age is \"))\n",
    "student3 = int(input(\"Enter his age is \"))\n",
    "student4 = int(input(\"Enter his age is \"))\n",
    "student5 = int(input(\"Enter his age is \"))\n",
    "AVG=\"((student1+student2+student3+student4+student5)/5)\"\n",
    "avg = eval(AVG)\n",
    "print(\"The average age of 5 students is : \", float(avg))"
   ]
  },
  {
   "cell_type": "raw",
   "id": "cd75e5ce-9174-40cc-9878-ce196788a915",
   "metadata": {},
   "source": [
    "Question 4 : \n",
    "\n",
    "In a Game applicaiton,The player's score is stored as a floating-point number,However,For leaderboard display,\n",
    "you need to convert the score to an integer. \n",
    "How would you use the int() function to convert the player's score from floating-point to integer Formate ? \n",
    "please solve this with code, player score =1234.56"
   ]
  },
  {
   "cell_type": "code",
   "execution_count": 72,
   "id": "0278a887-59f1-44b0-9aac-c463f8c5f3cb",
   "metadata": {},
   "outputs": [
    {
     "name": "stdout",
     "output_type": "stream",
     "text": [
      "This 1234.56 now in floating type <class 'float'>\n",
      "1234.56\n",
      "This 1234.56 now converted into integer value <class 'int'>\n",
      "1234\n"
     ]
    }
   ],
   "source": [
    "player_score_float =1234.56\n",
    "print(\"This 1234.56 now in floating type\",(type(player_score_float)))\n",
    "print(player_score_float)\n",
    "# Converting this into intger Type\n",
    "player_score_int=int(player_score_float)\n",
    "print(\"This 1234.56 now converted into integer value\",(type(player_score_int)))\n",
    "print(player_score_int)"
   ]
  },
  {
   "cell_type": "raw",
   "id": "43c1a66e-16ff-4929-b5e8-759075a1c7e6",
   "metadata": {},
   "source": [
    "Question 5 : \n",
    "In a customer relationship management (CRM) system for a retail company, you have a database containing customer reocords.\n",
    "How would you use the len() function to find the total number of Customer in the database, allowing the company to track its customer base? \n",
    "\n",
    "Customer_databse = [\n",
    "                 (1 , 'John Doe' , 'John@example.com'),\n",
    "                 (1 , 'Hira' , 'erfanulkabirhira132@gmail.com'),\n",
    "                (1 , 'Jira' , 'Jira@example.com'),\n",
    "                ]"
   ]
  },
  {
   "cell_type": "code",
   "execution_count": 73,
   "id": "f06e46c6-886d-4522-9ae3-69990d84778b",
   "metadata": {},
   "outputs": [
    {
     "name": "stdout",
     "output_type": "stream",
     "text": [
      "The total number of customer in the database is  3\n"
     ]
    }
   ],
   "source": [
    "Customer_database = [ \n",
    "    (1 , 'John Doe' , 'John@example.com'),\n",
    "    (1 , 'Hira' , 'erfanulkabirhira132@gmail.com'),\n",
    "    (1 , 'Jira' , 'Jira@example.com'),\n",
    "]\n",
    "print (\"The total number of customer in the database is \", len(Customer_database))"
   ]
  },
  {
   "cell_type": "raw",
   "id": "724a387f-c46d-4a65-8646-cbdf38034f0e",
   "metadata": {},
   "source": [
    "Question 6 : \n",
    "You are calculating a financial applicaiton that calculate simple interest. The principle amount is 250000 Rs , the interest rate is 9.3456 and the time period is 3 years , \n",
    "Calculate the simple interest (SI),The final value should be an integer."
   ]
  },
  {
   "cell_type": "code",
   "execution_count": 79,
   "id": "29820037-38d7-458c-9e31-c27b09247ee2",
   "metadata": {},
   "outputs": [
    {
     "name": "stdout",
     "output_type": "stream",
     "text": [
      "the simple interest is in floating value= 7009200.0\n",
      "the simple interest is in Integer value= 7009200\n"
     ]
    }
   ],
   "source": [
    "principle_amount=250000\n",
    "interest_rate=9.3456\n",
    "time_period=3\n",
    "simple_interest_float=principle_amount*interest_rate*time_period\n",
    "print(\"the simple interest is in floating value=\",simple_interest)\n",
    "# Let's convert this into integer Value\n",
    "print(\"the simple interest is in Integer value=\",int(simple_interest_float))"
   ]
  },
  {
   "cell_type": "markdown",
   "id": "2b187cd2-27c3-42ab-bb48-f777b17f6612",
   "metadata": {},
   "source": [
    "# Practise Question 1 According to Above Code "
   ]
  },
  {
   "cell_type": "raw",
   "id": "7c97caba-5680-4375-a8ee-afee7882cb93",
   "metadata": {},
   "source": [
    "Question 1 \n",
    "You are Developing a program for a math competition where participants need to solve mathematical expressions and provide the result.\n",
    "You want to use python to automate the evaluation process.\n",
    "Here's How you could approach it : \n",
    "\n",
    "1)Take input from the participant to enter a mathematical expression \n",
    "2)Evaluate the expression entered by the participant and obtain the result.\n",
    "3)Display the result to the participant."
   ]
  },
  {
   "cell_type": "code",
   "execution_count": 101,
   "id": "be3dd7af-1466-4aff-8c84-912cc1909f5c",
   "metadata": {},
   "outputs": [
    {
     "name": "stdin",
     "output_type": "stream",
     "text": [
      "Enter a mathematical expression 25*45+96-52*3/2.4\n"
     ]
    },
    {
     "name": "stdout",
     "output_type": "stream",
     "text": [
      "The result of the expression is  1156.0\n",
      "Thank you for participating in the maths compertition \n"
     ]
    }
   ],
   "source": [
    "expression = input(\"Enter a mathematical expression\")\n",
    "result =eval(expression)\n",
    "print(\"The result of the expression is \", result )\n",
    "print(\"Thank you for participating in the maths compertition \")"
   ]
  },
  {
   "cell_type": "raw",
   "id": "ac9037ec-bc80-4240-886e-d2a21f45c1fc",
   "metadata": {},
   "source": [
    "Question 2 \n",
    "Suppose you are analyzing dataset containing information about house prices in a party.\n",
    "Each record includes details such as the house size \n",
    "(in square feet ) , number of bedrooms , and price . \n",
    "You want to perform various calculations and manipulations on this Dataset using python.\n",
    "Answer the following qustion : \n",
    "\n",
    "1)Ask the user 1 & 2 to enter hosue size , number of rooms they want and , check the data type user has entered\n",
    "2) Calculate the price of house , if per sq feet is Rs 5000 \n",
    "3)Threshold price is 75 lakh Rs, Which user  is  paying the price abbove threshold price ."
   ]
  },
  {
   "cell_type": "code",
   "execution_count": 103,
   "id": "4a39f9ba-95d2-4cf0-b8ad-bbf3c8c74525",
   "metadata": {},
   "outputs": [
    {
     "name": "stdin",
     "output_type": "stream",
     "text": [
      "enter the Size of the hosue 1500\n",
      "Enter the number of bedrooms 3\n",
      "Enter the budget 80000\n",
      "enter the Size of the hosue 2000\n",
      "Enter the number of bedrooms 2\n",
      "Enter the budget 75000\n"
     ]
    },
    {
     "name": "stdout",
     "output_type": "stream",
     "text": [
      "The price of the house for the user1  7500000.0\n",
      "The price of the house for the user2  10000000.0\n",
      "user 1 is paying above thresold  {True}\n",
      "user 2 is paying above thresold  {True}\n"
     ]
    }
   ],
   "source": [
    "house_size_1 = float(input(\"enter the Size of the hosue\"))\n",
    "bedrooms_1 = int(input(\"Enter the number of bedrooms\"))\n",
    "price_1= float(input(\"Enter the budget\"))\n",
    "\n",
    "house_size_2 = float(input(\"enter the Size of the hosue\"))\n",
    "bedrooms_2 = int(input(\"Enter the number of bedrooms\"))\n",
    "price_2= float(input(\"Enter the budget\"))\n",
    "\n",
    "house_price_1= house_size_1*5000\n",
    "print(\"The price of the house for the user1 \", house_price_1)\n",
    "\n",
    "house_price_2= house_size_2*5000\n",
    "print(\"The price of the house for the user2 \", house_price_2)\n",
    "\n",
    "threshold_price = 7500000\n",
    "user1_threshold = house_price_1 >=threshold_price\n",
    "user2_threshold = house_price_2 >=threshold_price\n",
    "print (f\"user 1 is paying above thresold \", {user1_threshold})\n",
    "print (f\"user 2 is paying above thresold \", {user2_threshold})"
   ]
  },
  {
   "cell_type": "raw",
   "id": "8ebe12e5-9db0-4270-9224-792966e49088",
   "metadata": {},
   "source": [
    "Question 3 \n",
    "You are working on a project to analyze stock market data '.\n",
    "Create a variable to store the stock symbol , current price , \n",
    "and Percentage change in Price . Then Calculate the new price after a 10% increase using arithmatic operaitons, \n",
    "Finally , promt the user to enter their budget using the input() function , \n",
    "convert it to a float using the float()  funciton , and compare it with the new price"
   ]
  },
  {
   "cell_type": "code",
   "execution_count": 104,
   "id": "ee638f9a-d490-439d-947e-f51c80d57ed3",
   "metadata": {},
   "outputs": [
    {
     "name": "stdout",
     "output_type": "stream",
     "text": [
      "the new price of the stock is  110.00000000000001\n"
     ]
    },
    {
     "name": "stdin",
     "output_type": "stream",
     "text": [
      "enter Your Budget 500\n"
     ]
    },
    {
     "name": "stdout",
     "output_type": "stream",
     "text": [
      "User budget is greater than new price  True\n"
     ]
    }
   ],
   "source": [
    "stock_symbol = 'xyz'\n",
    "current_price = 100\n",
    "percent_change = 10 \n",
    "new_price = current_price*(1+percent_change/100)\n",
    "print(\"the new price of the stock is \", new_price)\n",
    "user_budget = int(input(\"enter Your Budget\"))\n",
    "a=user_budget >=new_price\n",
    "print(\"User budget is greater than new price \", a)"
   ]
  },
  {
   "cell_type": "code",
   "execution_count": null,
   "id": "3ccec05d-a6fa-4ac3-940d-19f57e304fc4",
   "metadata": {},
   "outputs": [],
   "source": [
    "Question 4 \n",
    "You are working on a project to analyze weather data.\n",
    "Create variables to store the current temperature , \n",
    "the minimum temperature recored  , and the maximum temparature recorded .\n",
    "Determine whether the current temperature is within the range of the minimum and maximum temperatures \n",
    "recorded using logical operators "
   ]
  },
  {
   "cell_type": "code",
   "execution_count": 105,
   "id": "70163de6-00e0-491d-bcdc-ba6440241462",
   "metadata": {},
   "outputs": [
    {
     "name": "stdout",
     "output_type": "stream",
     "text": [
      "Current temperature is within the recorded range: True\n"
     ]
    }
   ],
   "source": [
    "# Variables to store the temperatures\n",
    "current_temperature = 25.5  # current temperature in degrees Celsius\n",
    "min_temperature_recorded = 20.0  # minimum temperature recorded in degrees Celsius\n",
    "max_temperature_recorded = 30.0  # maximum temperature recorded in degrees Celsius\n",
    "\n",
    "# Check if the current temperature is within the range\n",
    "is_within_range = min_temperature_recorded <= current_temperature <= max_temperature_recorded\n",
    "\n",
    "# Output the result\n",
    "print(\"Current temperature is within the recorded range:\", is_within_range)"
   ]
  },
  {
   "cell_type": "markdown",
   "id": "8395dd1b-59bd-4c76-b6c8-60f3006e1451",
   "metadata": {},
   "source": [
    "# Control Flow Statement "
   ]
  },
  {
   "cell_type": "markdown",
   "id": "6b734845-5946-47c8-abf8-f818ae1fd851",
   "metadata": {},
   "source": [
    "# IF Statement "
   ]
  },
  {
   "cell_type": "raw",
   "id": "ab1c5fdd-3558-4266-b61e-0b8ecc043386",
   "metadata": {},
   "source": [
    "Quesiton 1: \n",
    "\n",
    "Develop a temperature converter in Python for a cold storage that converts temperature \n",
    "between Celcius and Ferhenhight scales.\n",
    "The Program should take a temperature value and a unit (c or F) as input .\n",
    "if the temperature is less than 15 degree Celcius ,, inform the user that the temperature is not convenient.\n",
    "If the temperature is between 24 to 28 degrees Celcius , inform the user that the temperature is convenient."
   ]
  },
  {
   "cell_type": "code",
   "execution_count": 107,
   "id": "782ff85b-3151-47bc-b381-61a0320c4ecc",
   "metadata": {},
   "outputs": [
    {
     "name": "stdin",
     "output_type": "stream",
     "text": [
      "Enter the temperature 25\n"
     ]
    },
    {
     "name": "stdout",
     "output_type": "stream",
     "text": [
      "Temperature is Convenient\n"
     ]
    }
   ],
   "source": [
    "temp = float(input(\"Enter the temperature\"))\n",
    "if temp<15: \n",
    "     print (\"Temperature is not convenient\")\n",
    "if 24<temp<28: \n",
    "    print(\"Temperature is Convenient\")"
   ]
  },
  {
   "cell_type": "markdown",
   "id": "5186eec1-a1fe-4ec7-897d-d52b9dfd9ef4",
   "metadata": {},
   "source": [
    "# else if Statement "
   ]
  },
  {
   "cell_type": "raw",
   "id": "e4729857-f124-4ebd-a1bb-9f1cf1fb0a0d",
   "metadata": {},
   "source": [
    "Qustion 1: \n",
    "Write a program to check whether e person is eligible for voting or not "
   ]
  },
  {
   "cell_type": "code",
   "execution_count": 109,
   "id": "4edf4499-6a8b-4d8d-828d-999050d582d2",
   "metadata": {},
   "outputs": [
    {
     "name": "stdin",
     "output_type": "stream",
     "text": [
      "Enter your age 18\n"
     ]
    },
    {
     "name": "stdout",
     "output_type": "stream",
     "text": [
      "You are eligible to vote\n"
     ]
    }
   ],
   "source": [
    "age = int(input(\"Enter your age\"))\n",
    "if age>=18: \n",
    "          print(\"You are eligible to vote\")\n",
    "else:           \n",
    "          print(\"You are not eligible for vote\")"
   ]
  },
  {
   "cell_type": "raw",
   "id": "3a66f94e-f0bf-49b2-9bd1-a36b74f8d2f3",
   "metadata": {},
   "source": [
    "Question 2: \n",
    "\n",
    "You are tasked with developing a python program to manage employee salarees for a company .\n",
    "Your program should calculate the net salary of each employee based on their base salary , \n",
    "duductions , and bonuses . Additionally , employees who have been with the company for more than\n",
    "5 years are eligible for an additional loyalty bonus , 8% of salary .\n",
    "Deductions of tax will be 12%\n",
    "                    \n",
    "write a python script that promts the user to input the following information for each employee: \n",
    "\n",
    "base Salary \n",
    "                                                                 \n",
    "Yeears of Service\n",
    "\n",
    "After Calculating the net salary , \n",
    "The program should print the summary for each employee , including their base salary , deductions , bonuses, \n",
    "loyalty bonus (if applicable) , and net salary ."
   ]
  },
  {
   "cell_type": "code",
   "execution_count": 110,
   "id": "62e29bd5-94e8-44a8-b2b6-57ed9a727a64",
   "metadata": {},
   "outputs": [
    {
     "name": "stdin",
     "output_type": "stream",
     "text": [
      "Enter your base salary 20000\n",
      "Enter Your years of Service 6\n"
     ]
    },
    {
     "name": "stdout",
     "output_type": "stream",
     "text": [
      "You will get net salary 19200.0\n"
     ]
    }
   ],
   "source": [
    "base_salary = float(input(\"Enter your base salary\"))\n",
    "years_of_service = int(input(\"Enter Your years of Service\"))\n",
    "if years_of_service>5:\n",
    "    total_salary =base_salary + (0.08*base_salary)-(0.12*base_salary)\n",
    "    print(\"You will get net salary\", total_salary)\n",
    "else: \n",
    "    net_salary =base_salary - (0.12*base_salary)\n",
    "    print(\"your net salary is \", net_salary)"
   ]
  },
  {
   "cell_type": "markdown",
   "id": "ac7ece87-d0df-4daf-9a2a-ce86045137dc",
   "metadata": {},
   "source": [
    "# If ,elif , else condition "
   ]
  },
  {
   "cell_type": "raw",
   "id": "b03108f5-0316-4957-abb5-2523cc8edca0",
   "metadata": {},
   "source": [
    "Question \n",
    "\n",
    "Write a python program that promts the user to input a city and display the famous monument of that city .\n",
    "Mumbai : Gateway of Inida\n",
    "Kolkata : Victory Memorial \n",
    "Chennai : Marina Beach \n",
    "Bangalore : Botanical Garden \n",
    "Pune : Shaniwar Wada \n",
    "Write a python script to implement the functionality ."
   ]
  },
  {
   "cell_type": "code",
   "execution_count": 111,
   "id": "afe407e4-6779-4d35-aa42-26f38edee843",
   "metadata": {},
   "outputs": [
    {
     "name": "stdin",
     "output_type": "stream",
     "text": [
      "enter your city  Kolkata\n"
     ]
    },
    {
     "name": "stdout",
     "output_type": "stream",
     "text": [
      "The famous Monoment is Victory Memorial\n"
     ]
    }
   ],
   "source": [
    "a = input(\"enter your city \")\n",
    "if a==\"Mumbai\": \n",
    "    print(\"The famous Monoment is gat way of India \")\n",
    "elif a==\"Kolkata\":\n",
    "    print(\"The famous Monoment is Victory Memorial\")\n",
    "elif a==\"Chennai\":\n",
    "    print(\"The famous Monoment is Marina Beach\")\n",
    "elif a==\"Bangalore\":\n",
    "    print(\"The famous Monoment is Botanical garder\")\n",
    "elif a==\"Pune\":\n",
    "    print(\"The famous Monoment is shaniwar wada\")\n",
    "else : \n",
    "    print(\"No record is Found\")"
   ]
  },
  {
   "cell_type": "markdown",
   "id": "1f3af8b0-d331-4698-9e1a-0f379f64499b",
   "metadata": {},
   "source": [
    "# While Loops "
   ]
  },
  {
   "cell_type": "raw",
   "id": "24e8385a-f522-4d05-837b-715e4c96d431",
   "metadata": {},
   "source": [
    "Qustion 1: \n",
    "Write a python progtam to print all the even numbers between 1 and 50 using a while loop "
   ]
  },
  {
   "cell_type": "code",
   "execution_count": 112,
   "id": "a2f60963-54b0-493f-a867-8d6a4757b190",
   "metadata": {},
   "outputs": [
    {
     "name": "stdout",
     "output_type": "stream",
     "text": [
      "2\n",
      "4\n",
      "6\n",
      "8\n",
      "10\n",
      "12\n",
      "14\n",
      "16\n",
      "18\n",
      "20\n",
      "22\n",
      "24\n",
      "26\n",
      "28\n",
      "30\n",
      "32\n",
      "34\n",
      "36\n",
      "38\n",
      "40\n",
      "42\n",
      "44\n",
      "46\n",
      "48\n"
     ]
    }
   ],
   "source": [
    "count = 1\n",
    "while count<50:\n",
    "    if count%2==0:\n",
    "        print(count)\n",
    "    count=count+1"
   ]
  },
  {
   "cell_type": "markdown",
   "id": "e4b4830a-3f25-4b28-a67f-7c9c7f6fe0d5",
   "metadata": {},
   "source": [
    "# While Loop Using if-else "
   ]
  },
  {
   "cell_type": "raw",
   "id": "6a3ec487-7a42-494e-9675-2740cd1d1c81",
   "metadata": {},
   "source": [
    "Quesiton 1: \n",
    "you are taked with validating user input for emial address . \n",
    "Write a python program that promts the user to enter an emial address .\n",
    "Use a while loop to iterate through the input and check if the email address contains and '@' and '.' symbol. \n",
    "If the email address does not meet this criteria , print \"Invalid emial address format. please try again \". \n",
    "Otherwise , Print emial address validation passed "
   ]
  },
  {
   "cell_type": "code",
   "execution_count": 113,
   "id": "f34be533-7ca7-45e6-8ed5-d7b87d72b8f9",
   "metadata": {},
   "outputs": [
    {
     "name": "stdin",
     "output_type": "stream",
     "text": [
      "Please enter your mail Address erfanulkabirhira132@gmail.com\n"
     ]
    },
    {
     "name": "stdout",
     "output_type": "stream",
     "text": [
      "Emial Address validation passed\n"
     ]
    }
   ],
   "source": [
    "email = input(\"Please enter your mail Address\")\n",
    "#Initilization a flag track validation status\n",
    "valid_email = False\n",
    "\n",
    "#start the loop \n",
    "while not valid_email: \n",
    "    #check if emial contains \"a\" and \".\"\n",
    "    if \"@\"in email and \".\" in email:\n",
    "        print (\"Emial Address validation passed\")\n",
    "        valid_email=True \n",
    "    else:\n",
    "        print(\"Invalid email Address , please try again\")\n",
    "        email=input(\"please enter your Mail address\")"
   ]
  },
  {
   "cell_type": "markdown",
   "id": "884de23c-35b6-40fb-9f51-f4d786407e03",
   "metadata": {},
   "source": [
    "# For Loop in python "
   ]
  },
  {
   "cell_type": "code",
   "execution_count": 119,
   "id": "9f244541-cd62-44a7-8150-176ba4e5324d",
   "metadata": {},
   "outputs": [
    {
     "name": "stdout",
     "output_type": "stream",
     "text": [
      "1\n",
      "2\n",
      "3\n",
      "4\n",
      "5\n",
      "\n",
      "\n",
      "S\n",
      "t\n",
      "u\n",
      "d\n",
      "e\n",
      "n\n",
      "t\n",
      "s\n",
      "\n",
      "\n",
      "0\n",
      "1\n",
      "2\n",
      "3\n",
      "4\n",
      "5\n",
      "6\n",
      "7\n",
      "8\n",
      "9\n",
      "10\n",
      "\n",
      "\n",
      "5\n",
      "6\n",
      "7\n",
      "8\n",
      "9\n",
      "10\n"
     ]
    }
   ],
   "source": [
    "numbers = [1 , 2 , 3, 4, 5]\n",
    "for i in numbers:\n",
    "    print(i)\n",
    "\n",
    "print(\"\\n\")\n",
    "\n",
    "n = \"Students\"\n",
    "for i in n :\n",
    "    print (i)\n",
    "\n",
    "print(\"\\n\")\n",
    "\n",
    "# Range er moddhe always 1 beshi dibo , joto Print korte cai \n",
    "for i in range(11):\n",
    "    print(i)\n",
    "\n",
    "print(\"\\n\")\n",
    "\n",
    "#for Certain bounding the range \n",
    "for x in range(5, 11):\n",
    "    print(x)"
   ]
  },
  {
   "cell_type": "raw",
   "id": "79095308-d0e6-4479-bebd-06c4f7d77b0d",
   "metadata": {},
   "source": [
    "Question 1: \n",
    "Implement a python program to generate the multiplicaiton table of a given numbers using a for loop"
   ]
  },
  {
   "cell_type": "code",
   "execution_count": 124,
   "id": "302fc89d-acab-42d3-8724-f311a9676e7c",
   "metadata": {},
   "outputs": [
    {
     "name": "stdin",
     "output_type": "stream",
     "text": [
      "Enter a number to generate its Multiplicaiton table 6\n"
     ]
    },
    {
     "name": "stdout",
     "output_type": "stream",
     "text": [
      "The Multiplication of =  6\n",
      "6x1 = 6\n",
      "6x2 = 12\n",
      "6x3 = 18\n",
      "6x4 = 24\n",
      "6x5 = 30\n",
      "6x6 = 36\n",
      "6x7 = 42\n",
      "6x8 = 48\n",
      "6x9 = 54\n",
      "6x10 = 60\n"
     ]
    }
   ],
   "source": [
    "number = int(input(\"Enter a number to generate its Multiplicaiton table\"))\n",
    "print (\"The Multiplication of = \",number)\n",
    "\n",
    "for i in range (1,11):\n",
    "    print (f\"{number}x{i} = {number*i}\")"
   ]
  },
  {
   "cell_type": "markdown",
   "id": "a234eef0-22f7-4df3-88dc-bfe0395d5d91",
   "metadata": {},
   "source": [
    "# For loop with If, elif , else Condition "
   ]
  },
  {
   "cell_type": "code",
   "execution_count": 130,
   "id": "485ebd12-57f7-4846-afda-35c43c07afa2",
   "metadata": {},
   "outputs": [
    {
     "name": "stdout",
     "output_type": "stream",
     "text": [
      "The number is even = 0\n",
      "The number is odd = 1\n",
      "The number is even = 2\n",
      "The number is odd = 3\n",
      "The number is even = 4\n",
      "The number is odd = 5\n",
      "The number is even = 6\n",
      "The number is odd = 7\n",
      "The number is even = 8\n",
      "The number is odd = 9\n",
      "The number is even = 10\n"
     ]
    }
   ],
   "source": [
    "for i in range (0,11):\n",
    "    if i%2==0:\n",
    "        print(\"The number is even =\",i)\n",
    "    else:\n",
    "        print(\"The number is odd =\",i)"
   ]
  },
  {
   "cell_type": "code",
   "execution_count": null,
   "id": "6d848c3b-1b57-4a50-a205-446724d5ebdd",
   "metadata": {},
   "outputs": [],
   "source": [
    "Question 2 : \n",
    "You are tasked with creating a program to assist shoppers in calculating their total bill at a grocery sotre.\n",
    "The store offers discounts based on the total purchase amount. Your task is to implement a python program that \n",
    "tasks the price of each item purchased and calculates the total bill, including any applicaiton discounts \n",
    "The store offers the following discount rates \n",
    "based on the total purchase amount: \n",
    "\n",
    "->if the total purchase amount is $100 or more, Then the customer receiver a 10% discount .\n",
    "->if the total purchase amount is between $50 and $99.99, Then the customer receives a 5% discount.\n",
    "->if the total purchase amount is less than $50 , no discount is applied.\n",
    "\n",
    "write a python program to promt the user to enter the prices of the item they purchased.\n",
    "use a for loop to itertate through the prices \n",
    "entered and calculate the subtotal .\n",
    "\n",
    "Apply the appropriate discount based on the total purchase amount using if-else statements.\n",
    "finally , print out the subtotal , discount amount (if any), and the total bill after applying the discount."
   ]
  },
  {
   "cell_type": "code",
   "execution_count": 131,
   "id": "2722ed10-8c7d-4d18-b9c1-faa0f3de9924",
   "metadata": {},
   "outputs": [
    {
     "name": "stdin",
     "output_type": "stream",
     "text": [
      "Enter the number of item purchased= 5\n",
      "Enter the price of the item= 10\n",
      "Enter the price of the item= 15\n",
      "Enter the price of the item= 18\n",
      "Enter the price of the item= 20\n",
      "Enter the price of the item= 56\n"
     ]
    },
    {
     "name": "stdout",
     "output_type": "stream",
     "text": [
      "Subtotal  107.1\n"
     ]
    }
   ],
   "source": [
    "num_items = int(input(\"Enter the number of item purchased=\"))\n",
    "total_price = 0\n",
    "\n",
    "for i in range(num_items):\n",
    "    price=float(input(\"Enter the price of the item=\"))\n",
    "    total_price = total_price + price \n",
    "    i=i+1\n",
    "if total_price>=100:\n",
    "    discount =0.1*total_price\n",
    "elif 50<=total_price <100:\n",
    "    discount = 0.5*total_price\n",
    "else:\n",
    "    discount = 0 \n",
    "\n",
    "total_bill = total_price -discount \n",
    "print(\"Subtotal \", total_bill)\n",
    "    "
   ]
  },
  {
   "cell_type": "markdown",
   "id": "130f0302-aea1-4ca1-9e00-bd6bef0b635b",
   "metadata": {},
   "source": [
    "# Break Statement "
   ]
  },
  {
   "cell_type": "code",
   "execution_count": 132,
   "id": "88899696-d260-4253-8d5d-1b18b9f12e8f",
   "metadata": {},
   "outputs": [
    {
     "name": "stdout",
     "output_type": "stream",
     "text": [
      "0\n",
      "1\n",
      "2\n"
     ]
    }
   ],
   "source": [
    "for i in range(5):\n",
    "    if i ==3:\n",
    "        break \n",
    "    print(i)"
   ]
  },
  {
   "cell_type": "markdown",
   "id": "8930fb4c-c5b1-480f-aae1-08419cb9bd65",
   "metadata": {},
   "source": [
    "# Continue Statement "
   ]
  },
  {
   "cell_type": "code",
   "execution_count": 133,
   "id": "0fc348b1-868d-486e-a6be-b689501c516d",
   "metadata": {},
   "outputs": [
    {
     "name": "stdout",
     "output_type": "stream",
     "text": [
      "0\n",
      "1\n",
      "2\n",
      "4\n",
      "I am Learning python\n"
     ]
    }
   ],
   "source": [
    "for i in range(5):\n",
    "    if i==3:\n",
    "        continue\n",
    "    print(i)\n",
    "print(\"I am Learning python\")"
   ]
  },
  {
   "cell_type": "markdown",
   "id": "1a914ae6-d990-4dd3-a164-f8d8279353f2",
   "metadata": {},
   "source": [
    "# User Defined Funciton "
   ]
  },
  {
   "cell_type": "code",
   "execution_count": null,
   "id": "ebe4dddb-961d-48bb-a9d0-618faaf794c6",
   "metadata": {},
   "outputs": [],
   "source": [
    "Creating and Calling Function "
   ]
  },
  {
   "cell_type": "code",
   "execution_count": 134,
   "id": "6d2ea438-c669-4f4c-b2b7-2c077ca45968",
   "metadata": {},
   "outputs": [
    {
     "name": "stdout",
     "output_type": "stream",
     "text": [
      "Hello I am Hira\n"
     ]
    }
   ],
   "source": [
    "def my_function():\n",
    "    print(\"Hello I am Hira\")\n",
    "    \n",
    "my_function() #Calling the my_function "
   ]
  },
  {
   "cell_type": "code",
   "execution_count": 138,
   "id": "d2d511d0-edcb-4e27-8378-558a3fd13954",
   "metadata": {},
   "outputs": [],
   "source": [
    "def details_bill():\n",
    "    print (\"The last date of the bill payment is on next week Sunday\")\n",
    "    print (\"After deadline , you need to pay Rs 1000 as a fine\")\n",
    "    print (\"pay you bill soon\")"
   ]
  },
  {
   "cell_type": "code",
   "execution_count": 139,
   "id": "3099958f-862f-4df6-8231-344c04e17c29",
   "metadata": {},
   "outputs": [
    {
     "name": "stdin",
     "output_type": "stream",
     "text": [
      "Enter youe name hira\n",
      "enter the unit os elecetiricity you have sunday 500\n"
     ]
    },
    {
     "name": "stdout",
     "output_type": "stream",
     "text": [
      "Total amount of bill you need to pay is 5000\n",
      "The last date of the bill payment is on next week Sunday\n",
      "After deadline , you need to pay Rs 1000 as a fine\n",
      "pay you bill soon\n"
     ]
    },
    {
     "name": "stdin",
     "output_type": "stream",
     "text": [
      "Enter youe name jira\n",
      "enter the unit os elecetiricity you have sunday 400\n"
     ]
    },
    {
     "name": "stdout",
     "output_type": "stream",
     "text": [
      "Total amount of bill you need to pay is 4000\n",
      "The last date of the bill payment is on next week Sunday\n",
      "After deadline , you need to pay Rs 1000 as a fine\n",
      "pay you bill soon\n"
     ]
    },
    {
     "name": "stdin",
     "output_type": "stream",
     "text": [
      "Enter youe name Mira\n",
      "enter the unit os elecetiricity you have sunday 1000\n"
     ]
    },
    {
     "name": "stdout",
     "output_type": "stream",
     "text": [
      "Total amount of bill you need to pay is 10000\n",
      "The last date of the bill payment is on next week Sunday\n",
      "After deadline , you need to pay Rs 1000 as a fine\n",
      "pay you bill soon\n"
     ]
    }
   ],
   "source": [
    "for i in range (3):\n",
    "    a =input(\"Enter youe name\")\n",
    "    b =int(input(\"enter the unit os elecetiricity you have sunday\"))\n",
    "    bill =b*10\n",
    "    print (\"Total amount of bill you need to pay is\", bill)\n",
    "    details_bill()"
   ]
  },
  {
   "cell_type": "markdown",
   "id": "6e867c4b-b94e-409a-aec4-42efb99f4195",
   "metadata": {},
   "source": [
    "# Arguments"
   ]
  },
  {
   "cell_type": "raw",
   "id": "0c52d3cc-76e5-4fcc-99de-e6e864ecb266",
   "metadata": {},
   "source": [
    "Create a funciton , which checks the numeber is even or odd"
   ]
  },
  {
   "cell_type": "code",
   "execution_count": 142,
   "id": "628eaffc-dac0-4130-b361-293fa138c2ad",
   "metadata": {},
   "outputs": [],
   "source": [
    "def check_even_odd(number):\n",
    "    if number%2==0:\n",
    "        print(\"The number is even\")\n",
    "    else:\n",
    "        print (\"The number is odd\")"
   ]
  },
  {
   "cell_type": "code",
   "execution_count": 143,
   "id": "a402f157-a8d8-4126-8788-7e70c7d81f91",
   "metadata": {},
   "outputs": [
    {
     "name": "stdout",
     "output_type": "stream",
     "text": [
      "The number is even\n"
     ]
    }
   ],
   "source": [
    "check_even_odd(24)"
   ]
  },
  {
   "cell_type": "code",
   "execution_count": 144,
   "id": "226a4453-bc6c-4279-8edf-d01eb9daf1de",
   "metadata": {},
   "outputs": [
    {
     "name": "stdout",
     "output_type": "stream",
     "text": [
      "The number is odd\n"
     ]
    }
   ],
   "source": [
    "check_even_odd(27)"
   ]
  },
  {
   "cell_type": "markdown",
   "id": "21f7cd72-bcab-4ecb-9393-a2443a6e8264",
   "metadata": {},
   "source": [
    "# 2 Arguments "
   ]
  },
  {
   "cell_type": "code",
   "execution_count": 146,
   "id": "f51e693c-a649-4477-acb0-2c1d307c950c",
   "metadata": {},
   "outputs": [],
   "source": [
    "def my_name(fname,lname):\n",
    "    print (fname +\" \" +lname)"
   ]
  },
  {
   "cell_type": "code",
   "execution_count": 147,
   "id": "4b054f9d-9808-4546-bc86-0d3cd353ba9f",
   "metadata": {},
   "outputs": [
    {
     "name": "stdout",
     "output_type": "stream",
     "text": [
      "Hira Jira\n"
     ]
    }
   ],
   "source": [
    "my_name(\"Hira\" , \"Jira\")"
   ]
  },
  {
   "cell_type": "raw",
   "id": "e58e316a-ef68-42c4-aedc-efc5b4475693",
   "metadata": {},
   "source": [
    "Question 1 :\n",
    "Write a user-defined function to process the exam scores and calculate the following statistics :\n",
    "\n",
    "The average exam score .\n",
    "the Heighest exam Score .\n",
    "The lowest exam score .\n",
    "The number of students who passed the exam(assuming a passing score is 80 or above ).\n",
    "The numeber of students who failed the exam .\n",
    "\n",
    "exam_score = [ 85 , 92, 78 , 90 , 88 , 95 , 82 , 79 , 87 , 91 ]"
   ]
  },
  {
   "cell_type": "code",
   "execution_count": null,
   "id": "91986992-acb8-4745-9ba2-96817d663a05",
   "metadata": {},
   "outputs": [],
   "source": [
    "def calculate_exam_statistics(exam_scores):\n",
    "    num_students = len(exam_scores)\n",
    "    average_score = sum(exam_scores) / num_students\n",
    "    highest_score = max(exam_scores)\n",
    "    lowest_score = min(exam_scores)\n",
    "\n",
    "    num_passed = 0\n",
    "    for score in exam_scores:\n",
    "        if score >= 80:\n",
    "            num_passed += 1\n",
    "    num_failed = num_students - num_passed\n",
    "    return average_score, highest_score, lowest_score, num_passed, num_failed\n",
    "\n",
    "# Example usage\n",
    "exam_scores = [85, 92, 78, 90, 88, 95, 82, 79, 87, 91]\n",
    "average_score, highest_score, lowest_score, num_passed, num_failed = calculate_exam_statistics(exam_scores)\n",
    "\n",
    "print(\"The average score is\", average_score)\n",
    "print(\"The Highest score is\", highest_score)\n",
    "print(\"The Lowest score is\", lowest_score)\n",
    "print(\"The Number of students passed is\", num_passed)\n",
    "print(\"The Number of students failed is\", num_failed)"
   ]
  },
  {
   "cell_type": "code",
   "execution_count": null,
   "id": "366c0fbc-a5c2-493d-b446-d83ebd6c532e",
   "metadata": {},
   "outputs": [],
   "source": [
    "Ans : \n",
    "The average score is 86.7\n",
    "The Highest score is 95\n",
    "The Lowest score is 78\n",
    "The Number of student passed is  8\n",
    "The Number of student failed is  2"
   ]
  },
  {
   "cell_type": "markdown",
   "id": "1b70d946-f8c9-4892-b31f-4759bf065b99",
   "metadata": {},
   "source": [
    "# Practise Question 2 After Practise 1"
   ]
  },
  {
   "cell_type": "raw",
   "id": "adbc17e4-7f66-4704-9aa5-c87c133cbb0f",
   "metadata": {},
   "source": [
    "Quesiton 1 : \n",
    "You are given a dataset of students grades and need to determine the grade distribution.\n",
    "\n",
    "Question : Write a python Funciton \n",
    "grade_distributin(grades) that takes a list of integer representing \n",
    "student grades (0-100). Use a loop to count the number of grades in each grade catagory :\n",
    "'A' ( 90-100) , 'B' (80-89) , 'C' (70-79), 'D' (60-69) , and 'F'(below 60).\n",
    "Use if_elif_else statements within the loop to categorize the grades.\n",
    "Return a dictionay with the counts of each grade category ."
   ]
  },
  {
   "cell_type": "code",
   "execution_count": 233,
   "id": "ff5c4ce9-2615-41fa-bced-763b480f13c4",
   "metadata": {},
   "outputs": [],
   "source": [
    "def grade_distribution (grades):\n",
    "    for grade in grades:\n",
    "        if 90<=grade <=100:\n",
    "            print(\"You have got A grade\")\n",
    "        elif 80<=grade <=89:\n",
    "            print(\"You have got B grade\")\n",
    "        elif 70<=grade <=79:\n",
    "            print(\"You have got C grade\")\n",
    "        elif 60<=grade <=69:\n",
    "            print(\"You have got D grade\")\n",
    "        else:\n",
    "            print(\"You have got E grade\")\n",
    "    return"
   ]
  },
  {
   "cell_type": "code",
   "execution_count": 234,
   "id": "0796f4d0-0acc-43f1-b677-1412f6673abe",
   "metadata": {},
   "outputs": [
    {
     "name": "stdout",
     "output_type": "stream",
     "text": [
      "You have got B grade\n",
      "You have got A grade\n",
      "You have got B grade\n",
      "You have got C grade\n",
      "You have got D grade\n",
      "You have got A grade\n",
      "You have got C grade\n",
      "You have got E grade\n",
      "You have got B grade\n",
      "You have got D grade\n",
      "You have got C grade\n"
     ]
    }
   ],
   "source": [
    "grades = [85, 92,88,74,63,95,70,58,82,67,73]\n",
    "grade_distribution(grades)"
   ]
  },
  {
   "cell_type": "raw",
   "id": "81f444e0-d911-44d5-94f1-9957fc2b5d11",
   "metadata": {},
   "source": [
    "Question 2 : \n",
    "You are creating a number guessing game where the computer generates a random number\n",
    "between 1 and 100 , and the palyer has to guess it .\n",
    "\n",
    "Write a python code to generate a random number between 1 and 100 \n",
    "Use control flow statements and loops to allow the player to guess the number and provide feedback \n",
    "(too high , too low , or correct ).\n",
    "Define a user_deined function to encapsulate the game logic and call this function to play the game."
   ]
  },
  {
   "cell_type": "code",
   "execution_count": 240,
   "id": "48ee4a71-fe52-4140-9746-7eb333d32ced",
   "metadata": {},
   "outputs": [],
   "source": [
    "import random \n",
    "def number_gussing_game():\n",
    "    secret_number = random.randint(1, 100)\n",
    "    print(secret_number)\n",
    "    print(\"Welcome to the Number Gussing game\")\n",
    "    print(\"I have the number between 1 to 100 , Can you guess it ?\")\n",
    "    attempts = 0 \n",
    "    guess = None \n",
    "    while guess !=secret_number:\n",
    "        guess = int(input(\"Enter Your Guess\"))\n",
    "        attempts = attempts + 1\n",
    "        if guess<secret_number:\n",
    "            print(\"Too low , Try again\")\n",
    "        elif guess > secret_number:\n",
    "            print(\"Too high, Try again\")\n",
    "        else:\n",
    "            print(\"Congratulations you have guessed the correct number\")\n",
    "            print(\"The number of attempts in guessing the correct number is\", attempts)"
   ]
  },
  {
   "cell_type": "code",
   "execution_count": 241,
   "id": "4e2cd7a9-18fc-4afd-8660-e2d942cec988",
   "metadata": {},
   "outputs": [
    {
     "name": "stdout",
     "output_type": "stream",
     "text": [
      "78\n",
      "Welcome to the Number Gussing game\n",
      "I have the number between 1 to 100 , Can you guess it ?\n"
     ]
    },
    {
     "name": "stdin",
     "output_type": "stream",
     "text": [
      "Enter Your Guess 72\n"
     ]
    },
    {
     "name": "stdout",
     "output_type": "stream",
     "text": [
      "Too low , Try again\n"
     ]
    },
    {
     "name": "stdin",
     "output_type": "stream",
     "text": [
      "Enter Your Guess 80\n"
     ]
    },
    {
     "name": "stdout",
     "output_type": "stream",
     "text": [
      "Too high, Try again\n"
     ]
    },
    {
     "name": "stdin",
     "output_type": "stream",
     "text": [
      "Enter Your Guess 78\n"
     ]
    },
    {
     "name": "stdout",
     "output_type": "stream",
     "text": [
      "Congratulations you have guessed the correct number\n",
      "The number of attempts in guessing the correct number is 3\n"
     ]
    }
   ],
   "source": [
    "number_gussing_game()"
   ]
  },
  {
   "cell_type": "raw",
   "id": "7dbecc74-0c1d-45ab-81b4-5d5a3adc3058",
   "metadata": {},
   "source": [
    "Question 3 : \n",
    "You are tasked with creating a program to calculate the sum of squares of the first n natural numbers, \n",
    "where n is entered by the user.\n",
    "\n",
    "write python code to promt the user to enter a positive integer n .\n",
    "Use a loop to calculate the sum if squares of the first n natural numbers.\n",
    "Define a user-defined function to encapsulate\n",
    "the sum of squares calculate logic and call this function with the user's input' ."
   ]
  },
  {
   "cell_type": "code",
   "execution_count": 242,
   "id": "c70c64e3-15f0-4e31-a180-0d1ac73a3795",
   "metadata": {},
   "outputs": [
    {
     "name": "stdin",
     "output_type": "stream",
     "text": [
      "Enter a positive integer:  55\n"
     ]
    },
    {
     "name": "stdout",
     "output_type": "stream",
     "text": [
      "The sum of squares of the first 55 natural numbers is: 56980\n"
     ]
    }
   ],
   "source": [
    "def sum_of_squares(n):\n",
    "    \"\"\"Calculate the sum of squares of the first n natural numbers.\"\"\"\n",
    "    total = 0\n",
    "    for i in range(1, n + 1):\n",
    "        total += i**2\n",
    "    return total\n",
    "\n",
    "# Prompt the user to enter a positive integer\n",
    "while True:\n",
    "    try:\n",
    "        n = int(input(\"Enter a positive integer: \"))\n",
    "        if n > 0:\n",
    "            break\n",
    "        else:\n",
    "            print(\"Please enter a positive integer.\")\n",
    "    except ValueError:\n",
    "        print(\"That's not an integer! Please enter a valid positive integer.\")\n",
    "\n",
    "# Calculate the sum of squares\n",
    "result = sum_of_squares(n)\n",
    "\n",
    "# Display the result\n",
    "print(f\"The sum of squares of the first {n} natural numbers is: {result}\")"
   ]
  },
  {
   "cell_type": "markdown",
   "id": "bdbbbcd6-9c26-41ee-bebe-9f68e1cace41",
   "metadata": {},
   "source": [
    "# String in python "
   ]
  },
  {
   "cell_type": "code",
   "execution_count": 246,
   "id": "5ef95e4d-3f6e-4528-aefe-ea7e2ff5c579",
   "metadata": {},
   "outputs": [
    {
     "name": "stdout",
     "output_type": "stream",
     "text": [
      "learners\n",
      "<class 'str'>\n",
      "\n",
      "\n",
      "Students\n",
      "<class 'str'>\n",
      "\n",
      "\n",
      "I am Hira \n",
      "this is my first class\n",
      "\n",
      "\n",
      "Python is a high-level, general-purpose programming language. \n",
      "Its design philosophy emphasizes code readability with the use of significant indentation. \n",
      "Python is dynamically typed and garbage-collected. It supports multiple programming paradigms,\n",
      "including structured, object-oriented and functional programming. \n"
     ]
    }
   ],
   "source": [
    "a = 'learners'\n",
    "print (a)\n",
    "print(type(a))\n",
    "\n",
    "print(\"\\n\")\n",
    "\n",
    "b = \"Students\"\n",
    "print(b)\n",
    "print(type(b))\n",
    "\n",
    "print (\"\\n\")\n",
    "\n",
    "str = \"I am Hira \\nthis is my first class\"\n",
    "print(str)\n",
    "\n",
    "print(\"\\n\")\n",
    "\n",
    "# Multiple String\n",
    "s = \"\"\"Python is a high-level, general-purpose programming language. \n",
    "Its design philosophy emphasizes code readability with the use of significant indentation. \n",
    "Python is dynamically typed and garbage-collected. It supports multiple programming paradigms,\n",
    "including structured, object-oriented and functional programming. \"\"\"\n",
    "print(s)"
   ]
  },
  {
   "cell_type": "markdown",
   "id": "083909b3-a948-4a9b-8168-2fb1a0bb589c",
   "metadata": {},
   "source": [
    "# Indexing of  String "
   ]
  },
  {
   "cell_type": "code",
   "execution_count": 247,
   "id": "c72328a1-8c5d-4ecc-b0d8-54f258266ee4",
   "metadata": {},
   "outputs": [
    {
     "name": "stdout",
     "output_type": "stream",
     "text": [
      "h\n",
      "e\n",
      "l\n",
      "l\n",
      "o\n",
      " \n"
     ]
    }
   ],
   "source": [
    "a =\"hello dear learners\" \n",
    "print(a[0])\n",
    "print(a[1])\n",
    "print(a[2])\n",
    "print(a[3])\n",
    "print(a[4])\n",
    "print(a[5])"
   ]
  },
  {
   "cell_type": "code",
   "execution_count": 248,
   "id": "4d71c52c-7d67-40a8-8273-2e52cf395a7e",
   "metadata": {},
   "outputs": [
    {
     "name": "stdout",
     "output_type": "stream",
     "text": [
      "s\n",
      "r\n",
      "e\n",
      "n\n",
      "r\n"
     ]
    }
   ],
   "source": [
    "a =\"hello dear learners\" \n",
    "print(a[-1])\n",
    "print(a[-2])\n",
    "print(a[-3])\n",
    "print(a[-4])\n",
    "print(a[-5])"
   ]
  },
  {
   "cell_type": "code",
   "execution_count": 249,
   "id": "ab8de36c-64f3-483c-aba9-da2bcdb085a0",
   "metadata": {},
   "outputs": [
    {
     "name": "stdout",
     "output_type": "stream",
     "text": [
      "d l e\n"
     ]
    }
   ],
   "source": [
    "b = \"Data science is the growing field\"\n",
    "print(b[-1], b[-2] , b[-3])"
   ]
  },
  {
   "cell_type": "markdown",
   "id": "dcb59d7c-f84d-44cf-983c-adf041ae3fb2",
   "metadata": {},
   "source": [
    "# Slicing "
   ]
  },
  {
   "cell_type": "code",
   "execution_count": 250,
   "id": "5475af75-1f7b-4272-9446-c2ee4f69ba65",
   "metadata": {},
   "outputs": [
    {
     "name": "stdout",
     "output_type": "stream",
     "text": [
      "i am lea\n"
     ]
    }
   ],
   "source": [
    "a=\"i am learing data Science\"\n",
    "print (a[0:8])"
   ]
  },
  {
   "cell_type": "markdown",
   "id": "5467cb20-a73b-4fbf-9360-84d7791e6c3f",
   "metadata": {},
   "source": [
    "# Slicing with Jump"
   ]
  },
  {
   "cell_type": "code",
   "execution_count": 251,
   "id": "07643a55-3f38-471d-863a-3e1e52e731ce",
   "metadata": {},
   "outputs": [
    {
     "name": "stdout",
     "output_type": "stream",
     "text": [
      "ia en\n"
     ]
    }
   ],
   "source": [
    "a= \"i am leaning Data Science\"\n",
    "print (a[0:10:2])"
   ]
  },
  {
   "cell_type": "markdown",
   "id": "337f61ba-0997-46e0-a67b-141ed0ffd33b",
   "metadata": {},
   "source": [
    "# Negetive Slicing With jump "
   ]
  },
  {
   "cell_type": "code",
   "execution_count": 252,
   "id": "b0bf85dc-faef-4bc3-aaf9-5048bf66fb0c",
   "metadata": {},
   "outputs": [
    {
     "name": "stdout",
     "output_type": "stream",
     "text": [
      "ing Data Scienc\n"
     ]
    }
   ],
   "source": [
    "a= \"i am leaning Data Science\"\n",
    "print (a[-16:-1])"
   ]
  },
  {
   "cell_type": "markdown",
   "id": "602a8406-b629-422b-a3cb-f7d712055e94",
   "metadata": {},
   "source": [
    "# String Reverse"
   ]
  },
  {
   "cell_type": "raw",
   "id": "e966acc4-3716-43c5-8285-4e8b55f98edf",
   "metadata": {},
   "source": [
    "Question 1: \n",
    "Write a python program to reverse the string\"honesty is the best policy\" "
   ]
  },
  {
   "cell_type": "code",
   "execution_count": 253,
   "id": "70a958be-7d6c-4694-99c7-377bcefa4185",
   "metadata": {},
   "outputs": [
    {
     "name": "stdout",
     "output_type": "stream",
     "text": [
      "ycilop tseb eht si ytsenoh\n"
     ]
    }
   ],
   "source": [
    "str =\"honesty is the best policy\"\n",
    "print(str[::-1])"
   ]
  },
  {
   "cell_type": "raw",
   "id": "ad3bb43f-8d90-4cb2-b2ab-7534e982d15e",
   "metadata": {},
   "source": [
    "Question 2 : \n",
    "Write a python funciton that takes a string as input and returns the substring from the 3rd to the 8th character\n",
    "\"Data Science\"\n",
    "\"Hello World, I am Learning Python\"\n",
    "\"All the best\""
   ]
  },
  {
   "cell_type": "code",
   "execution_count": 254,
   "id": "3ebb0751-8e9a-4502-917c-a365b82d1e4d",
   "metadata": {},
   "outputs": [
    {
     "name": "stdout",
     "output_type": "stream",
     "text": [
      "ta Sci\n",
      "llo Wo\n",
      "l the \n"
     ]
    }
   ],
   "source": [
    "def get_substring(input_string):\n",
    "    \"\"\"Returns the substring from the 3rd to the 8th character.\"\"\"\n",
    "    return input_string[2:8]\n",
    "\n",
    "# Test cases\n",
    "print(get_substring(\"Data Science\"))                 # Output: \"ta Sci\"\n",
    "print(get_substring(\"Hello World, I am Learning Python\"))  # Output: \"llo Wo\"\n",
    "print(get_substring(\"All the best\"))                 # Output: \"l the \""
   ]
  },
  {
   "cell_type": "raw",
   "id": "6db91fd5-ca45-42ec-862c-1b69b30598ac",
   "metadata": {},
   "source": [
    "Question 3 :\n",
    "Write a python function that takes a date stirng in the format \"YYYY-MM-DD\"\n",
    "and returns a tuple containing the year , month , and day as integers.\n",
    "\n",
    "Example Input : \"2024-05-28\"\n",
    "Expexted Output : (2021,5,28)"
   ]
  },
  {
   "cell_type": "code",
   "execution_count": 255,
   "id": "7ce18ee1-0a1c-498e-968b-18030942a06a",
   "metadata": {},
   "outputs": [],
   "source": [
    "#we will use the concept of slicing \n",
    "\n",
    "def extract_date_parts(date_string):\n",
    "    year = int(date_string[0:4])\n",
    "    month = int(date_string[5:7])\n",
    "    day = int(date_string[8:])\n",
    "    return (year,month,day)"
   ]
  },
  {
   "cell_type": "code",
   "execution_count": 256,
   "id": "84d88a02-f246-46d5-8545-c0b84c9b7738",
   "metadata": {},
   "outputs": [
    {
     "data": {
      "text/plain": [
       "(2024, 5, 28)"
      ]
     },
     "execution_count": 256,
     "metadata": {},
     "output_type": "execute_result"
    }
   ],
   "source": [
    "extract_date_parts(\"2024-05-28\")"
   ]
  },
  {
   "cell_type": "markdown",
   "id": "20c7857d-a279-4588-b7cc-22b4d107993a",
   "metadata": {},
   "source": [
    "# Lenth Method "
   ]
  },
  {
   "cell_type": "code",
   "execution_count": 257,
   "id": "c5be871d-fd39-43b6-aa57-3169170bf976",
   "metadata": {},
   "outputs": [
    {
     "name": "stdout",
     "output_type": "stream",
     "text": [
      "0\n",
      "\n",
      "\n",
      "1\n",
      "\n",
      "\n",
      "9\n",
      "\n",
      "\n",
      "10\n"
     ]
    }
   ],
   "source": [
    "s =\"\"\n",
    "print(len(s))\n",
    "\n",
    "print(\"\\n\")\n",
    "\n",
    "s=\" \"\n",
    "print (len(s))\n",
    "\n",
    "print(\"\\n\")\n",
    "\n",
    "s = \"theiscale\"\n",
    "print(len(s))\n",
    "\n",
    "print(\"\\n\")\n",
    "\n",
    "a = \"the iscale\"\n",
    "print(len(a))"
   ]
  },
  {
   "cell_type": "markdown",
   "id": "18c279d5-e67c-40d7-82f5-aca197a06731",
   "metadata": {},
   "source": [
    "# String With Specila Symbol"
   ]
  },
  {
   "cell_type": "code",
   "execution_count": 263,
   "id": "0fb821a7-7b40-4561-9688-f5ab7c465d65",
   "metadata": {},
   "outputs": [
    {
     "name": "stdout",
     "output_type": "stream",
     "text": [
      "erfanulkabir@world\n",
      "18\n",
      "\n",
      "\n",
      "hello\n",
      "world\n",
      "11\n",
      "\n",
      "\n",
      "hello\n",
      "World \n",
      "12\n",
      "\n",
      "\n",
      "62\n"
     ]
    }
   ],
   "source": [
    "s = \"erfanulkabir@world\"\n",
    "print(s)\n",
    "print(len(s))\n",
    "\n",
    "print(\"\\n\")\n",
    "\n",
    "s = \"hello\\nworld\"\n",
    "print(s)\n",
    "print(len(s))\n",
    "\n",
    "print(\"\\n\")\n",
    "\n",
    "s=\"\"\"hello\n",
    "World \"\"\"\n",
    "print(s)\n",
    "print(len(s))\n",
    "\n",
    "print (\"\\n\")\n",
    "a=\"Python is a high-level, general-purpose programming language. \"\n",
    "print(len(a))"
   ]
  },
  {
   "cell_type": "markdown",
   "id": "031ac6a1-f6cb-43b9-988f-5a314a23b97a",
   "metadata": {},
   "source": [
    "# Modify String "
   ]
  },
  {
   "cell_type": "code",
   "execution_count": 264,
   "id": "068e5abf-cb42-402b-9d9e-4128cc21d468",
   "metadata": {},
   "outputs": [
    {
     "name": "stdout",
     "output_type": "stream",
     "text": [
      "THIS IS THE ISCALE\n",
      "\n",
      "\n",
      "THIS IS THE ISCALE 123\n"
     ]
    }
   ],
   "source": [
    "s = \"This is the iscale\"\n",
    "print(s.upper())\n",
    "\n",
    "print(\"\\n\")\n",
    "\n",
    "s = \"This IS the iscale 123\"\n",
    "print(s.upper())"
   ]
  },
  {
   "cell_type": "markdown",
   "id": "b0a685dc-d1cc-4f51-95e7-4c4f25ac1cad",
   "metadata": {},
   "source": [
    "# Lower String "
   ]
  },
  {
   "cell_type": "code",
   "execution_count": 265,
   "id": "251cab28-89cc-4c1a-802f-8ecdf903026a",
   "metadata": {},
   "outputs": [
    {
     "name": "stdout",
     "output_type": "stream",
     "text": [
      "this is the iscale\n"
     ]
    }
   ],
   "source": [
    "k = \"THIS IS THE ISCALE\"\n",
    "print(k.lower())"
   ]
  },
  {
   "cell_type": "markdown",
   "id": "d5c6b956-7378-4d4f-a9e2-4a017ed52811",
   "metadata": {},
   "source": [
    "# Replace Method"
   ]
  },
  {
   "cell_type": "code",
   "execution_count": 268,
   "id": "730338b7-5642-4bfa-9b26-fbbafda952f5",
   "metadata": {},
   "outputs": [
    {
     "name": "stdout",
     "output_type": "stream",
     "text": [
      "Hello Word , i am liearning Data Science\n",
      "\n",
      "\n",
      "I am Chagol chor  , My full name is Not Chagol chor  ,\n",
      "This is my Nick Name Chagol chor  \n"
     ]
    }
   ],
   "source": [
    "text = \"Hello Word , i am liearning python\"\n",
    "rep = text.replace(\"python\", \"Data Science\")\n",
    "print(rep)\n",
    "\n",
    "print(\"\\n\")\n",
    "\n",
    "a = \"\"\"I am Hira , My full name is Not Hira ,\n",
    "This is my Nick Name Hira \"\"\"\n",
    "rep = a.replace(\"Hira\", \"Chagol chor \")\n",
    "print(rep)"
   ]
  },
  {
   "cell_type": "markdown",
   "id": "874f8688-6906-4924-ae0a-84bcb00b382d",
   "metadata": {},
   "source": [
    "# Index Method "
   ]
  },
  {
   "cell_type": "code",
   "execution_count": 269,
   "id": "b76f56ca-c915-4a1b-ab8e-b30d96f835e8",
   "metadata": {},
   "outputs": [
    {
     "name": "stdout",
     "output_type": "stream",
     "text": [
      "7\n"
     ]
    }
   ],
   "source": [
    "a = \"I want to Learn \"\n",
    "print(a.index(\"to\"))"
   ]
  },
  {
   "cell_type": "markdown",
   "id": "241c1bfc-c01a-4d06-ad6c-23bb87a9ba7f",
   "metadata": {},
   "source": [
    "# Find Method "
   ]
  },
  {
   "cell_type": "code",
   "execution_count": 270,
   "id": "94c8627b-8fba-4886-a59f-0d15f5e10183",
   "metadata": {},
   "outputs": [
    {
     "name": "stdout",
     "output_type": "stream",
     "text": [
      "10\n"
     ]
    }
   ],
   "source": [
    "a = \"Python is great\"\n",
    "b = a.find(\"g\")\n",
    "print(b)"
   ]
  },
  {
   "cell_type": "markdown",
   "id": "fa98a62e-dc04-4edd-8d8c-4b4084bae2fc",
   "metadata": {},
   "source": [
    "# String Concatentaion "
   ]
  },
  {
   "cell_type": "code",
   "execution_count": 271,
   "id": "8cf4f63b-a0e4-419b-b0d9-58ac8a4ae809",
   "metadata": {},
   "outputs": [
    {
     "name": "stdout",
     "output_type": "stream",
     "text": [
      "hello World\n"
     ]
    }
   ],
   "source": [
    "a = \"hello\"\n",
    "b = \"World\"\n",
    "print(a +\" \"+b)"
   ]
  },
  {
   "cell_type": "markdown",
   "id": "2718259f-f1f1-46d8-ae6f-029de6613764",
   "metadata": {},
   "source": [
    "# Final Practise Question "
   ]
  },
  {
   "cell_type": "raw",
   "id": "fa66d030-371a-478a-b04b-6697df93603f",
   "metadata": {},
   "source": [
    "Write a python porgrma that accomplishess the following tasks : \n",
    "\n",
    "1)Concatenate the strings \"hello\" and \"World\"\n",
    "2)Find the lenth of the resulting string form the concotenation.\n",
    "3)Extract the substring obtained in the previous step.\n",
    "4)Reverse the substring obtained in the previous step.\n",
    "5)Convert th reveresed substring to uppercase.\n",
    "6)Replace the letter \"L\" with \"X\" in the revesed and uppercase substring ."
   ]
  },
  {
   "cell_type": "code",
   "execution_count": 273,
   "id": "2574397b-b0d9-47d3-85ef-5d164778191e",
   "metadata": {},
   "outputs": [
    {
     "name": "stdout",
     "output_type": "stream",
     "text": [
      "helloWorld\n",
      "10\n",
      "World\n",
      "dlroW\n",
      "DLROW\n",
      "DLROW\n"
     ]
    }
   ],
   "source": [
    "concotenated_string = \"hello\" + \"World\"\n",
    "lentgh = len(concotenated_string)\n",
    "substring = concotenated_string[5:]\n",
    "reverse = substring [::-1]\n",
    "upper = reverse.upper()\n",
    "modify = upper.replace(\"l\", \"x\")\n",
    "\n",
    "print (concotenated_string)\n",
    "print (lentgh)\n",
    "print (substring)\n",
    "print (reverse)\n",
    "print (upper)\n",
    "print (modify)"
   ]
  },
  {
   "cell_type": "code",
   "execution_count": null,
   "id": "dc64c8d8-d380-4075-8ea8-8b2c1ce09d2c",
   "metadata": {},
   "outputs": [],
   "source": []
  }
 ],
 "metadata": {
  "kernelspec": {
   "display_name": "Python 3 (ipykernel)",
   "language": "python",
   "name": "python3"
  },
  "language_info": {
   "codemirror_mode": {
    "name": "ipython",
    "version": 3
   },
   "file_extension": ".py",
   "mimetype": "text/x-python",
   "name": "python",
   "nbconvert_exporter": "python",
   "pygments_lexer": "ipython3",
   "version": "3.11.7"
  }
 },
 "nbformat": 4,
 "nbformat_minor": 5
}

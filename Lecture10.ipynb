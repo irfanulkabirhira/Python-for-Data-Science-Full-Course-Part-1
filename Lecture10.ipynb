{
 "cells": [
  {
   "cell_type": "markdown",
   "id": "6045d232-1ad5-458d-9da9-f641f969a285",
   "metadata": {},
   "source": [
    "# Lecture 10 \n",
    "# User Defined Function "
   ]
  },
  {
   "cell_type": "markdown",
   "id": "83825a88-b2c7-455f-9cc8-e204d2bc563b",
   "metadata": {},
   "source": [
    "# Creating and calling a Function "
   ]
  },
  {
   "cell_type": "code",
   "execution_count": 2,
   "id": "2dd7fee8-6018-4995-872a-76954277651e",
   "metadata": {},
   "outputs": [
    {
     "name": "stdout",
     "output_type": "stream",
     "text": [
      "Hello I am Hira\n"
     ]
    }
   ],
   "source": [
    "def my_function():\n",
    "    print(\"Hello I am Hira\")\n",
    "my_function()"
   ]
  },
  {
   "cell_type": "code",
   "execution_count": 4,
   "id": "c7a42a89-cc58-47ee-ace9-31d6a3e2d405",
   "metadata": {},
   "outputs": [],
   "source": [
    "def details_bill():\n",
    "    print (\"The last date of the bill payment is on next week Sunday\")\n",
    "    print (\"After deadline , you need to pay Rs 1000 as a fine\")\n",
    "    print (\"pay you bill soon\")"
   ]
  },
  {
   "cell_type": "code",
   "execution_count": 5,
   "id": "24e93966-62f4-4839-bcf0-86ef874d2f44",
   "metadata": {},
   "outputs": [
    {
     "name": "stdin",
     "output_type": "stream",
     "text": [
      "Enter youe name Hira\n",
      "enter the unit os elecetiricity you have sunday 800\n"
     ]
    },
    {
     "name": "stdout",
     "output_type": "stream",
     "text": [
      "Total amount of bill you need to pay is 8000\n",
      "The last date of the bill payment is on next week Sunday\n",
      "After deadline , you need to pay Rs 1000 as a fine\n",
      "pay you bill soon\n"
     ]
    },
    {
     "name": "stdin",
     "output_type": "stream",
     "text": [
      "Enter youe name 2000\n",
      "enter the unit os elecetiricity you have sunday 2000\n"
     ]
    },
    {
     "name": "stdout",
     "output_type": "stream",
     "text": [
      "Total amount of bill you need to pay is 20000\n",
      "The last date of the bill payment is on next week Sunday\n",
      "After deadline , you need to pay Rs 1000 as a fine\n",
      "pay you bill soon\n"
     ]
    },
    {
     "name": "stdin",
     "output_type": "stream",
     "text": [
      "Enter youe name jira\n",
      "enter the unit os elecetiricity you have sunday 6000\n"
     ]
    },
    {
     "name": "stdout",
     "output_type": "stream",
     "text": [
      "Total amount of bill you need to pay is 60000\n",
      "The last date of the bill payment is on next week Sunday\n",
      "After deadline , you need to pay Rs 1000 as a fine\n",
      "pay you bill soon\n"
     ]
    }
   ],
   "source": [
    "for i in range (3):\n",
    "    a =input(\"Enter youe name\")\n",
    "    b =int(input(\"enter the unit os elecetiricity you have sunday\"))\n",
    "    bill =b*10\n",
    "    print (\"Total amount of bill you need to pay is\", bill)\n",
    "    details_bill()"
   ]
  },
  {
   "cell_type": "markdown",
   "id": "09410301-138b-4441-a48c-9128fbe81a62",
   "metadata": {},
   "source": [
    "# Arguments "
   ]
  },
  {
   "cell_type": "raw",
   "id": "f6c23047-a1a2-463c-b606-de8f41402b44",
   "metadata": {},
   "source": [
    "Create a funciton , which checks the numeber is even or odd"
   ]
  },
  {
   "cell_type": "markdown",
   "id": "0701966d-12be-489b-bc89-3a46ca386eec",
   "metadata": {},
   "source": [
    "def check_even_odd(number):\n",
    "    if number%2==0:\n",
    "        print(\"The number is even\")\n",
    "    else:\n",
    "        print (\"The number is odd\")\n"
   ]
  },
  {
   "cell_type": "code",
   "execution_count": 17,
   "id": "35abc851-c0ca-44c4-9b63-605d0b9cc7db",
   "metadata": {},
   "outputs": [
    {
     "name": "stdout",
     "output_type": "stream",
     "text": [
      "The number is even\n"
     ]
    }
   ],
   "source": [
    "check_even_odd(24)"
   ]
  },
  {
   "cell_type": "code",
   "execution_count": 16,
   "id": "880b7570-a4ec-4d3b-95da-ac7d0435c33c",
   "metadata": {},
   "outputs": [
    {
     "name": "stdout",
     "output_type": "stream",
     "text": [
      "The number is odd\n"
     ]
    }
   ],
   "source": [
    "check_even_odd(27)"
   ]
  },
  {
   "cell_type": "markdown",
   "id": "71387576-832d-4382-98d1-66b625b3dd56",
   "metadata": {},
   "source": [
    "# 2 Arguments"
   ]
  },
  {
   "cell_type": "code",
   "execution_count": 23,
   "id": "c785dcf2-6f97-4e22-9979-c4e6a2e91b6e",
   "metadata": {},
   "outputs": [],
   "source": [
    "def my_name(fname,lname):\n",
    "    print (fname +\" \" +lname)"
   ]
  },
  {
   "cell_type": "code",
   "execution_count": 24,
   "id": "e2e313e0-bee1-4b37-9fa0-394bcbab928d",
   "metadata": {},
   "outputs": [
    {
     "name": "stdout",
     "output_type": "stream",
     "text": [
      "Hira Jira\n"
     ]
    }
   ],
   "source": [
    "my_name(\"Hira\" , \"Jira\")"
   ]
  },
  {
   "cell_type": "raw",
   "id": "5cdbefe7-8b35-4a05-b466-7fd8ecf40c4a",
   "metadata": {},
   "source": [
    "Question \n",
    "Write a user-defined function to process the exam scores and calculate the following statistics :\n",
    "\n",
    "The average exam score .\n",
    "the Heighest exam Score .\n",
    "The lowest exam score .\n",
    "The number of students who passed the exam(assuming a passing score is 80 or above ).\n",
    "The numeber of students who failed the exam .\n",
    "\n",
    "exam_score = [ 85 , 92, 78 , 90 , 88 , 95 , 82 , 79 , 87 , 91 ]"
   ]
  },
  {
   "cell_type": "code",
   "execution_count": 34,
   "id": "a1e9da4e-1c90-4c96-82b6-904edca1a0fd",
   "metadata": {},
   "outputs": [],
   "source": [
    "def  calculate_exam_statistics (exam_scores):\n",
    "    num_students = len(exam_scores)\n",
    "    average_score = sum(exam_scores)/num_students\n",
    "    highest_score = max(exam_scores)\n",
    "    lowest_score = min(exam_scores)\n",
    "    \n",
    "    num_passed = 0 \n",
    "    for score in exam_scores:\n",
    "        if score>=80:\n",
    "            num_passed = num_passed + 1\n",
    "    num_failed = num_students - num_passed\n",
    "    return average_score, highest_score, lowest_score, num_passed, num_failed"
   ]
  },
  {
   "cell_type": "code",
   "execution_count": 39,
   "id": "c34358e8-3248-45c8-89b1-b9ce2b4369a8",
   "metadata": {},
   "outputs": [
    {
     "name": "stdout",
     "output_type": "stream",
     "text": [
      "The average score is 86.7\n",
      "The Highest score is 95\n",
      "The Lowest score is 78\n",
      "The Number of student passed is  8\n",
      "The Number of student failed is  2\n"
     ]
    }
   ],
   "source": [
    "exam_scores = [ 85 , 92, 78 , 90 , 88 , 95 , 82 , 79 , 87 , 91 ]\n",
    "average_score, highest_score, lowest_score, num_passed, num_failed = calculate_exam_statistics (exam_scores)\n",
    "print(\"The average score is\", average_score)\n",
    "print(\"The Highest score is\", highest_score)\n",
    "print(\"The Lowest score is\", lowest_score)\n",
    "print(\"The Number of student passed is \", num_passed)\n",
    "print(\"The Number of student failed is \", num_failed)"
   ]
  },
  {
   "cell_type": "code",
   "execution_count": null,
   "id": "1fafe893-bdd4-4812-b43a-78e4730f77f5",
   "metadata": {},
   "outputs": [],
   "source": []
  }
 ],
 "metadata": {
  "kernelspec": {
   "display_name": "Python 3 (ipykernel)",
   "language": "python",
   "name": "python3"
  },
  "language_info": {
   "codemirror_mode": {
    "name": "ipython",
    "version": 3
   },
   "file_extension": ".py",
   "mimetype": "text/x-python",
   "name": "python",
   "nbconvert_exporter": "python",
   "pygments_lexer": "ipython3",
   "version": "3.11.7"
  }
 },
 "nbformat": 4,
 "nbformat_minor": 5
}

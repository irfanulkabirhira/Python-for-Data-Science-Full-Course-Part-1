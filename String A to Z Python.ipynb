{
 "cells": [
  {
   "cell_type": "markdown",
   "id": "caedb314-1344-4130-9669-21a0e5ccda3a",
   "metadata": {},
   "source": [
    "# ALL String Are in one fram "
   ]
  },
  {
   "cell_type": "code",
   "execution_count": 1,
   "id": "39a8be0c-5e34-40f9-8110-dad73b91bce6",
   "metadata": {},
   "outputs": [
    {
     "name": "stdout",
     "output_type": "stream",
     "text": [
      "Hellow i am Hira I am from Bangladesh , I am an undergratudate student \n",
      "studing in CSE and My major is Machine Learning , \n",
      "My Goal is to sattle me down in Finland foccusing on\n",
      "my Major , Thank You !!! \n",
      "\n",
      "\n",
      "201\n",
      "\n",
      "\n",
      "I am Tasnuba Humaira I am from Bangladesh , I am an undergratudate student \n",
      "studing in CSE and My major is Machine Learning , \n",
      "My Goal is to sattle me down in Finland foccusing on\n",
      "my Major , Thank You !!! \n",
      "\n",
      "\n",
      "i am tasnuba humaira i am from bangladesh , i am an undergratudate student \n",
      "studing in cse and my major is machine learning , \n",
      "my goal is to sattle me down in finland foccusing on\n",
      "my major , thank you !!! \n",
      "\n",
      "\n",
      "I AM TASNUBA HUMAIRA I AM FROM BANGLADESH , I AM AN UNDERGRATUDATE STUDENT \n",
      "STUDING IN CSE AND MY MAJOR IS MACHINE LEARNING , \n",
      "MY GOAL IS TO SATTLE ME DOWN IN FINLAND FOCCUSING ON\n",
      "MY MAJOR , THANK YOU !!! \n",
      "\n",
      "\n",
      "Hellow i am Hira I am from Bangladesh\n",
      "\n",
      "\n",
      "Hlo  \n",
      "\n",
      "\n",
      "Bangladesh , I am an undergratudate student \n",
      "studing in CSE and My major is Machine Learning , \n",
      "My Goal is to sattle me down in Finland foccusing on\n",
      "my Major , Thank You !!! \n",
      "\n",
      "\n",
      " !!! uoY knahT , rojaM ym\n",
      "no gnisuccof dnalniF ni nwod em elttas ot si laoG yM\n",
      " , gninraeL enihcaM si rojam yM dna ESC ni gniduts\n",
      " tneduts etadutargrednu na ma I , hsedalgnaB morf ma I ariH ma i wolleH\n"
     ]
    }
   ],
   "source": [
    "#Single Line String\n",
    "a = \"Hellow i am Hira\"\n",
    "\n",
    "#Multiple Line String\n",
    "b = \"\"\"I am from Bangladesh , I am an undergratudate student \n",
    "studing in CSE and My major is Machine Learning , \n",
    "My Goal is to sattle me down in Finland foccusing on\n",
    "my Major , Thank You !!! \"\"\"\n",
    "\n",
    "#String Contatenate \n",
    "con = a+\" \"+b\n",
    "print(con)\n",
    "\n",
    "print(\"\\n\")\n",
    "\n",
    "# Lenth of this String \n",
    "Length = len(con)\n",
    "print(Length)\n",
    "\n",
    "print(\"\\n\")\n",
    "\n",
    "#Replace the String \n",
    "rep = con.replace(\"Hellow i am Hira\", \"I am Tasnuba Humaira\")\n",
    "print(rep)\n",
    "\n",
    "print(\"\\n\")\n",
    "\n",
    "#Lower Order \n",
    "print(rep.lower())\n",
    "\n",
    "print(\"\\n\")\n",
    "\n",
    "#Upper Order \n",
    "print(rep.upper())\n",
    "\n",
    "print(\"\\n\")\n",
    "\n",
    "#Bounded String Printing \n",
    "print(con[0:37])\n",
    "\n",
    "print(\"\\n\")\n",
    "\n",
    "#jumping the String\n",
    "print(con[0:10:2])\n",
    "\n",
    "print(\"\\n\")\n",
    "\n",
    "#Removing the 1st order \n",
    "sub=con[27::]\n",
    "print(sub)\n",
    "\n",
    "print(\"\\n\")\n",
    "\n",
    "#Reverse the String \n",
    "Rev=con[::-1]\n",
    "print(Rev)"
   ]
  },
  {
   "cell_type": "markdown",
   "id": "3f2107b3-a9de-447f-82af-7f3ced416a78",
   "metadata": {},
   "source": [
    "# Date In Python ( Usng Stirng )"
   ]
  },
  {
   "cell_type": "code",
   "execution_count": 2,
   "id": "0822fc7e-ee2f-4abb-a2a0-8aa42e02b8ba",
   "metadata": {},
   "outputs": [
    {
     "data": {
      "text/plain": [
       "(2024, 5, 28)"
      ]
     },
     "execution_count": 2,
     "metadata": {},
     "output_type": "execute_result"
    }
   ],
   "source": [
    "def Date(date_string):\n",
    "    year = int (date_string[0:4])\n",
    "    mounth = int (date_string[5:7])\n",
    "    day = int (date_string[8:])\n",
    "    return (year,mounth,day)\n",
    "\n",
    "Date(\"2024-05-28\")"
   ]
  },
  {
   "cell_type": "code",
   "execution_count": null,
   "id": "ce117ece-3190-4ad3-ab80-ef3a08e4c540",
   "metadata": {},
   "outputs": [],
   "source": []
  }
 ],
 "metadata": {
  "kernelspec": {
   "display_name": "Python 3 (ipykernel)",
   "language": "python",
   "name": "python3"
  },
  "language_info": {
   "codemirror_mode": {
    "name": "ipython",
    "version": 3
   },
   "file_extension": ".py",
   "mimetype": "text/x-python",
   "name": "python",
   "nbconvert_exporter": "python",
   "pygments_lexer": "ipython3",
   "version": "3.11.7"
  }
 },
 "nbformat": 4,
 "nbformat_minor": 5
}

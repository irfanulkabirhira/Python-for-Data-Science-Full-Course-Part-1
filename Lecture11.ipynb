{
 "cells": [
  {
   "cell_type": "markdown",
   "id": "9ec8e28f-5949-4104-ac3c-1501b4540c82",
   "metadata": {},
   "source": [
    "# Practise Question \n",
    "# To become Interview ready \n",
    "# Lecture 7 to 10"
   ]
  },
  {
   "cell_type": "markdown",
   "id": "0ceade1b-9876-4ed1-b037-bbe18d2192ee",
   "metadata": {},
   "source": [
    "# ->>Control Flow Statements\n",
    "# ->>loops \n",
    "# ->>User Defined Function "
   ]
  },
  {
   "cell_type": "raw",
   "id": "45ad297a-b599-4ea0-8240-d26ca1e04d93",
   "metadata": {},
   "source": [
    "Qustion 1"
   ]
  },
  {
   "cell_type": "code",
   "execution_count": null,
   "id": "c5fd300a-fa02-4203-937d-33bcba43c4cc",
   "metadata": {},
   "outputs": [],
   "source": [
    "You are given a dataset of students grades and need to determine the grade distribution.\n",
    "\n",
    "Question : Write a python Funciton \n",
    "grade_distributin(grades) that takes a list of integer representing \n",
    "student grades (0-100). Use a loop to count the number of grades in each grade catagory :\n",
    "'A' ( 90-100) , 'B' (80-89) , 'C' (70-79), 'D' (60-69) , and 'F'(below 60).\n",
    "Use if_elif_else statements within the loop to categorize the grades.\n",
    "Return a dictionay with the counts of each grade category ."
   ]
  },
  {
   "cell_type": "code",
   "execution_count": 4,
   "id": "c6211ad4-c1f0-4d74-bde1-23b0d7935a6b",
   "metadata": {},
   "outputs": [],
   "source": [
    "def grade_distribution (grades):\n",
    "    for grade in grades:\n",
    "        if 90<=grade <=100:\n",
    "            print(\"You have got A grade\")\n",
    "        elif 80<=grade <=89:\n",
    "            print(\"You have got B grade\")\n",
    "        elif 70<=grade <=79:\n",
    "            print(\"You have got C grade\")\n",
    "        elif 60<=grade <=69:\n",
    "            print(\"You have got D grade\")\n",
    "        else:\n",
    "            print(\"You have got E grade\")\n",
    "    return "
   ]
  },
  {
   "cell_type": "code",
   "execution_count": 5,
   "id": "7fa3b95d-d4af-4c2e-a50c-3453032f6628",
   "metadata": {},
   "outputs": [
    {
     "name": "stdout",
     "output_type": "stream",
     "text": [
      "You have got B grade\n",
      "You have got A grade\n",
      "You have got B grade\n",
      "You have got C grade\n",
      "You have got D grade\n",
      "You have got A grade\n",
      "You have got C grade\n",
      "You have got E grade\n",
      "You have got B grade\n",
      "You have got D grade\n",
      "You have got C grade\n"
     ]
    }
   ],
   "source": [
    "grades = [85, 92,88,74,63,95,70,58,82,67,73]\n",
    "grade_distribution(grades)"
   ]
  },
  {
   "cell_type": "markdown",
   "id": "5913fe2e-04fe-472d-9528-e675cc9454c8",
   "metadata": {},
   "source": [
    "Question 2 "
   ]
  },
  {
   "cell_type": "code",
   "execution_count": null,
   "id": "d9f9bbe7-d0ec-4450-a121-7d2bf2021f9c",
   "metadata": {},
   "outputs": [],
   "source": [
    "You are creating a number guessing game where the computer generates a random number\n",
    "between 1 and 100 , and the palyer has to guess it .\n",
    "\n",
    "Write a python code to generate a random number between 1 and 100 \n",
    "Use control flow statements and loops to allow the player to guess the number and provide feedback \n",
    "(too high , too low , or correct ).\n",
    "Define a user_deined function to encapsulate the game logic and call this function to play the game."
   ]
  },
  {
   "cell_type": "code",
   "execution_count": 17,
   "id": "79a67a8e-e48e-444a-89f9-c27540a4ba67",
   "metadata": {},
   "outputs": [],
   "source": [
    "import random \n",
    "def number_gussing_game():\n",
    "    secret_number = random.randint(1, 100)\n",
    "    print(secret_number)\n",
    "    print(\"Welcome to the Number Gussing game\")\n",
    "    print(\"I have the number between 1 to 100 , Can you guess it ?\")\n",
    "    attempts = 0 \n",
    "    guess = None \n",
    "    while guess !=secret_number:\n",
    "        guess = int(input(\"Enter Your Guess\"))\n",
    "        attempts = attempts + 1\n",
    "        if guess<secret_number:\n",
    "            print(\"Too low , Try again\")\n",
    "        elif guess > secret_number:\n",
    "            print(\"Too high, Try again\")\n",
    "        else:\n",
    "            print(\"Congratulations you have guessed the correct number\")\n",
    "            print(\"The number of attempts in guessing the correct number is\", attempts)\n",
    "        \n",
    "\n",
    "\n",
    "    "
   ]
  },
  {
   "cell_type": "code",
   "execution_count": 18,
   "id": "e4ea7789-4a30-4df3-9867-f2662cfb1251",
   "metadata": {},
   "outputs": [
    {
     "name": "stdout",
     "output_type": "stream",
     "text": [
      "15\n",
      "Welcome to the Number Gussing game\n",
      "I have the number between 1 to 100 , Can you guess it ?\n"
     ]
    },
    {
     "name": "stdin",
     "output_type": "stream",
     "text": [
      "Enter Your Guess 66\n"
     ]
    },
    {
     "name": "stdout",
     "output_type": "stream",
     "text": [
      "Too high, Try again\n"
     ]
    },
    {
     "name": "stdin",
     "output_type": "stream",
     "text": [
      "Enter Your Guess 36\n"
     ]
    },
    {
     "name": "stdout",
     "output_type": "stream",
     "text": [
      "Too high, Try again\n"
     ]
    },
    {
     "name": "stdin",
     "output_type": "stream",
     "text": [
      "Enter Your Guess 15\n"
     ]
    },
    {
     "name": "stdout",
     "output_type": "stream",
     "text": [
      "Congratulations you have guessed the correct number\n"
     ]
    }
   ],
   "source": [
    "number_gussing_game()"
   ]
  },
  {
   "cell_type": "markdown",
   "id": "07475f7a-58c3-4a0b-b0a1-0fe2ace90b73",
   "metadata": {},
   "source": [
    "Question 3 "
   ]
  },
  {
   "cell_type": "code",
   "execution_count": null,
   "id": "6e45de12-36ce-4ed6-a3e8-9adb451f94b2",
   "metadata": {},
   "outputs": [],
   "source": [
    "You are tasked with creating a program to calculate the sum of squares of the first n natural numbers, \n",
    "where n is entered by the user.\n",
    "\n",
    "write python code to promt the user to enter a positive integer n .\n",
    "Use a loop to calculate the sum if squares of the first n natural numbers.\n",
    "Define a user-defined function to encapsulate\n",
    "the sum of squares calculate logic and call this function with the user's input' ."
   ]
  },
  {
   "cell_type": "code",
   "execution_count": 19,
   "id": "20062ef9-16bb-485c-a64f-06cc6713a184",
   "metadata": {},
   "outputs": [
    {
     "name": "stdin",
     "output_type": "stream",
     "text": [
      "Enter a positive integer:  55\n"
     ]
    },
    {
     "name": "stdout",
     "output_type": "stream",
     "text": [
      "The sum of squares of the first 55 natural numbers is: 56980\n"
     ]
    }
   ],
   "source": [
    "def sum_of_squares(n):\n",
    "    \"\"\"Calculate the sum of squares of the first n natural numbers.\"\"\"\n",
    "    total = 0\n",
    "    for i in range(1, n + 1):\n",
    "        total += i**2\n",
    "    return total\n",
    "\n",
    "# Prompt the user to enter a positive integer\n",
    "while True:\n",
    "    try:\n",
    "        n = int(input(\"Enter a positive integer: \"))\n",
    "        if n > 0:\n",
    "            break\n",
    "        else:\n",
    "            print(\"Please enter a positive integer.\")\n",
    "    except ValueError:\n",
    "        print(\"That's not an integer! Please enter a valid positive integer.\")\n",
    "\n",
    "# Calculate the sum of squares\n",
    "result = sum_of_squares(n)\n",
    "\n",
    "# Display the result\n",
    "print(f\"The sum of squares of the first {n} natural numbers is: {result}\")\n"
   ]
  },
  {
   "cell_type": "code",
   "execution_count": null,
   "id": "fc9a18b0-525a-4f8f-9942-1e3722d2ecbd",
   "metadata": {},
   "outputs": [],
   "source": []
  }
 ],
 "metadata": {
  "kernelspec": {
   "display_name": "Python 3 (ipykernel)",
   "language": "python",
   "name": "python3"
  },
  "language_info": {
   "codemirror_mode": {
    "name": "ipython",
    "version": 3
   },
   "file_extension": ".py",
   "mimetype": "text/x-python",
   "name": "python",
   "nbconvert_exporter": "python",
   "pygments_lexer": "ipython3",
   "version": "3.11.7"
  }
 },
 "nbformat": 4,
 "nbformat_minor": 5
}
